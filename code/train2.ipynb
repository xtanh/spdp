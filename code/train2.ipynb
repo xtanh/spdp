{
 "cells": [
  {
   "cell_type": "code",
   "execution_count": 1,
   "metadata": {},
   "outputs": [
    {
     "name": "stderr",
     "output_type": "stream",
     "text": [
      "/home/hongtan/miniconda3/envs/DDAffinity/lib/python3.10/site-packages/tqdm/auto.py:21: TqdmWarning: IProgress not found. Please update jupyter and ipywidgets. See https://ipywidgets.readthedocs.io/en/stable/user_install.html\n",
      "  from .autonotebook import tqdm as notebook_tqdm\n"
     ]
    }
   ],
   "source": [
    "import os\n",
    "import csv\n",
    "import time\n",
    "import json\n",
    "import torch\n",
    "import random\n",
    "import argparse\n",
    "import numpy as np\n",
    "import pandas as pd\n",
    "from tqdm.auto import tqdm\n",
    "from torch.utils.data import DataLoader\n",
    "\n",
    "from model import DDG_RDE_Network, Codebook\n",
    "from trainer import CrossValidation, recursive_to\n",
    "from utils import set_seed, check_dir, eval_skempi_three_modes, save_code, load_config\n",
    "from dataset import SkempiDataset\n",
    "from torch.utils.data import random_split\n",
    "from ipdb import set_trace"
   ]
  },
  {
   "cell_type": "code",
   "execution_count": 2,
   "metadata": {},
   "outputs": [],
   "source": [
    "device = torch.device('cuda:0' if torch.cuda.is_available() else 'cpu')"
   ]
  },
  {
   "cell_type": "code",
   "execution_count": 3,
   "metadata": {},
   "outputs": [
    {
     "name": "stderr",
     "output_type": "stream",
     "text": [
      "/home/hongtan/miniconda3/envs/DDAffinity/lib/python3.10/site-packages/torch/storage.py:414: FutureWarning: You are using `torch.load` with `weights_only=False` (the current default value), which uses the default pickle module implicitly. It is possible to construct malicious pickle data which will execute arbitrary code during unpickling (See https://github.com/pytorch/pytorch/blob/main/SECURITY.md#untrusted-models for more details). In a future release, the default value for `weights_only` will be flipped to `True`. This limits the functions that could be executed during unpickling. Arbitrary objects will no longer be allowed to be loaded via this mode unless they are explicitly allowlisted by the user via `torch.serialization.add_safe_globals`. We recommend you start setting `weights_only=True` for any use case where you don't have full control of the loaded file. Please open an issue on GitHub for any issues related to this experimental feature.\n",
      "  return torch.load(io.BytesIO(b))\n"
     ]
    }
   ],
   "source": [
    "dataset = SkempiDataset(\n",
    "            csv_path=\"/home/hongtan/pretrain_single/data/dataset/S2648/s2648.csv\",\n",
    "            pdb_dir=\"/home/hongtan/pretrain_single/data/dataset/s2648_s669/pdb\",\n",
    "            cache_dir=\"/home/hongtan/pretrain_single/data/dataset/S2648/cache\",\n",
    "            patch_size=128\n",
    "        )"
   ]
  },
  {
   "cell_type": "code",
   "execution_count": 4,
   "metadata": {},
   "outputs": [
    {
     "name": "stderr",
     "output_type": "stream",
     "text": [
      "Structures: 100%|██████████| 55/55 [01:32<00:00,  1.69s/it]\n"
     ]
    }
   ],
   "source": [
    "s543_dataset = SkempiDataset(\n",
    "            csv_path=\"/home/hongtan/pretrain_single/data/dataset/S543/s543.csv\",\n",
    "            pdb_dir=\"/home/hongtan/pretrain_single/data/dataset/S543/s543_pdb\",\n",
    "            cache_dir=\"/home/hongtan/pretrain_single/data/dataset/S543/cache\",\n",
    "            patch_size=128\n",
    "        )"
   ]
  },
  {
   "cell_type": "code",
   "execution_count": 5,
   "metadata": {},
   "outputs": [],
   "source": [
    "param = json.loads(open(\"/home/hongtan/pretrain_single/config/param_configs.json\", 'r').read())\n",
    "args = argparse.Namespace(**param)"
   ]
  },
  {
   "cell_type": "code",
   "execution_count": 6,
   "metadata": {},
   "outputs": [],
   "source": [
    "model = DDG_RDE_Network(args)"
   ]
  },
  {
   "cell_type": "code",
   "execution_count": 7,
   "metadata": {},
   "outputs": [],
   "source": [
    "import math\n",
    "\n",
    "import torch\n",
    "from torch.utils.data import DataLoader\n",
    "from torch.utils.data._utils.collate import default_collate\n",
    "\n",
    "DEFAULT_PAD_VALUES = {\n",
    "    'aa': 21, \n",
    "    'chain_nb': -1, \n",
    "    'chain_id': ' ', \n",
    "}\n",
    "class PaddingCollate(object):\n",
    "    def __init__(self, length_ref_key='aa', pad_values=DEFAULT_PAD_VALUES):\n",
    "        super().__init__()\n",
    "        self.length_ref_key = length_ref_key\n",
    "        self.pad_values = pad_values\n",
    "\n",
    "    @staticmethod\n",
    "    def _pad_last(x, n, value=0):\n",
    "        if isinstance(x, torch.Tensor):\n",
    "            assert x.size(0) <= n\n",
    "            if x.size(0) == n:\n",
    "                return x\n",
    "            pad_size = [n - x.size(0)] + list(x.shape[1:])\n",
    "            pad = torch.full(pad_size, fill_value=value).to(x)\n",
    "            return torch.cat([x, pad], dim=0)\n",
    "        elif isinstance(x, list):\n",
    "            pad = [value] * (n - len(x))\n",
    "            return x + pad\n",
    "        else:\n",
    "            return x\n",
    "\n",
    "    @staticmethod\n",
    "    def _get_common_keys(list_of_dict):\n",
    "        keys = set(list_of_dict[0].keys())\n",
    "        for d in list_of_dict[1:]:\n",
    "            keys = keys.intersection(d.keys())\n",
    "        return keys\n",
    "\n",
    "    def _get_pad_value(self, key):\n",
    "        return self.pad_values.get(key, 0)\n",
    "\n",
    "    def __call__(self, data_list):\n",
    "        # 过滤掉 None 的数据\n",
    "        data_list = [data for data in data_list if data is not None]\n",
    "\n",
    "        # 如果所有数据都被过滤掉，返回 None\n",
    "        if not data_list:\n",
    "            print(\"Warning: All data in batch are None.\")\n",
    "            return None\n",
    "\n",
    "        try:\n",
    "            max_length = max([data[self.length_ref_key].size(0) for data in data_list])\n",
    "        except KeyError:\n",
    "            print(f\"KeyError: Key '{self.length_ref_key}' not found in one of the data items.\")\n",
    "            return None\n",
    "        except ValueError:\n",
    "            print(\"ValueError: One of the data items is empty.\")\n",
    "            return None\n",
    "\n",
    "        max_length = math.ceil(max_length / 8) * 8\n",
    "\n",
    "        exclude_keys = {'esm_embeddings_wt','esm_embeddings_mut'}\n",
    "        data_list_padded = []\n",
    "        for data in data_list:\n",
    "            if data is None:\n",
    "                continue  # 再次检查并跳过 None 数据\n",
    "\n",
    "            data_padded = {}\n",
    "            for k, v in data.items():\n",
    "                if k in exclude_keys:\n",
    "                    data_padded[k] = v  # 保持原样，不填充\n",
    "                else:\n",
    "                    data_padded[k] = self._pad_last(v, max_length, value=self._get_pad_value(k))\n",
    "            data_list_padded.append(data_padded)\n",
    "\n",
    "        # 如果经过填充的数据仍然是空的，返回 None\n",
    "        if not data_list_padded:\n",
    "            print(\"Warning: No valid data to collate after padding.\")\n",
    "            return None\n",
    "\n",
    "        # 过滤掉任何仍包含 None 的数据\n",
    "        data_list_padded = [d for d in data_list_padded if all(v is not None for v in d.values())]\n",
    "\n",
    "        if not data_list_padded:\n",
    "            print(\"Warning: All data in batch are invalid after filtering.\")\n",
    "            return None\n",
    "\n",
    "        batch = default_collate(data_list_padded)\n",
    "        return batch"
   ]
  },
  {
   "cell_type": "code",
   "execution_count": 8,
   "metadata": {},
   "outputs": [],
   "source": [
    "dataset_size = len(dataset)\n",
    "train_size = int(0.9 * dataset_size)  # 80% 用于训练集\n",
    "val_size = int(0.1 * dataset_size)    # 10% 用于验证集\n",
    "test_size = dataset_size - train_size - val_size  # 剩下的用于测试集\n",
    "\n",
    "# 使用 random_split 来划分数据集\n",
    "train_dataset, val_dataset, test_dataset = random_split(dataset, [train_size, val_size, test_size])\n",
    "test_dataset = s543_dataset\n",
    "# 创建 PyGDataLoader 对象\n",
    "train_loader = DataLoader(train_dataset, batch_size=32, shuffle=True,collate_fn=PaddingCollate(),num_workers=4)\n",
    "val_loader = DataLoader(val_dataset, batch_size=32, shuffle=True,collate_fn=PaddingCollate(),num_workers=4)\n",
    "test_loader = DataLoader(test_dataset, batch_size=32, shuffle=True,collate_fn=PaddingCollate(),num_workers=4)"
   ]
  },
  {
   "cell_type": "code",
   "execution_count": 9,
   "metadata": {},
   "outputs": [
    {
     "name": "stderr",
     "output_type": "stream",
     "text": [
      "/tmp/ipykernel_697080/2787704058.py:2: FutureWarning: You are using `torch.load` with `weights_only=False` (the current default value), which uses the default pickle module implicitly. It is possible to construct malicious pickle data which will execute arbitrary code during unpickling (See https://github.com/pytorch/pytorch/blob/main/SECURITY.md#untrusted-models for more details). In a future release, the default value for `weights_only` will be flipped to `True`. This limits the functions that could be executed during unpickling. Arbitrary objects will no longer be allowed to be loaded via this mode unless they are explicitly allowlisted by the user via `torch.serialization.add_safe_globals`. We recommend you start setting `weights_only=True` for any use case where you don't have full control of the loaded file. Please open an issue on GitHub for any issues related to this experimental feature.\n",
      "  vae_model.load_state_dict(torch.load(\"/home/hongtan/pretrain_single/weight/checkpoint/vvvvae_model.ckpt\", map_location=device))\n"
     ]
    },
    {
     "data": {
      "text/plain": [
       "<All keys matched successfully>"
      ]
     },
     "execution_count": 9,
     "metadata": {},
     "output_type": "execute_result"
    }
   ],
   "source": [
    "vae_model = Codebook(args).to(device)\n",
    "vae_model.load_state_dict(torch.load(\"/home/hongtan/pretrain_single/weight/checkpoint/vvvvae_model.ckpt\", map_location=device))"
   ]
  },
  {
   "cell_type": "code",
   "execution_count": 10,
   "metadata": {},
   "outputs": [],
   "source": [
    "import torch\n",
    "import numpy as np\n",
    "from sklearn.metrics import mean_squared_error, r2_score\n",
    "from scipy.stats import pearsonr\n",
    "from tqdm.auto import tqdm\n",
    "\n",
    "# RMSE: Mean Squared Error (MSE), then square root\n",
    "def compute_rmse(true_vals, pred_vals):\n",
    "    mse = mean_squared_error(true_vals, pred_vals)\n",
    "    return np.sqrt(mse)\n",
    "\n",
    "# PCC: Pearson correlation coefficient\n",
    "def compute_pcc(true_vals, pred_vals):\n",
    "    return pearsonr(true_vals, pred_vals)[0]\n",
    "\n",
    "# R²: Coefficient of determination\n",
    "def compute_r2(true_vals, pred_vals):\n",
    "    return r2_score(true_vals, pred_vals)"
   ]
  },
  {
   "cell_type": "markdown",
   "metadata": {},
   "source": []
  },
  {
   "cell_type": "code",
   "execution_count": 11,
   "metadata": {},
   "outputs": [],
   "source": [
    "import torch\n",
    "import numpy as np\n",
    "from sklearn.metrics import mean_squared_error, r2_score\n",
    "from scipy.stats import pearsonr\n",
    "from tqdm.auto import tqdm\n",
    "\n",
    "# RMSE: Root Mean Squared Error\n",
    "def compute_rmse(true_vals, pred_vals):\n",
    "    mse = mean_squared_error(true_vals, pred_vals)\n",
    "    return np.sqrt(mse)\n",
    "\n",
    "# PCC: Pearson correlation coefficient\n",
    "def compute_pcc(true_vals, pred_vals):\n",
    "    return pearsonr(true_vals, pred_vals)[0]\n",
    "\n",
    "# R²: Coefficient of determination (R-squared)\n",
    "def compute_r2(true_vals, pred_vals):\n",
    "    return r2_score(true_vals, pred_vals)\n",
    "\n",
    "import torch\n",
    "import numpy as np\n",
    "from sklearn.metrics import mean_squared_error, r2_score\n",
    "from scipy.stats import pearsonr\n",
    "from tqdm.auto import tqdm\n",
    "\n",
    "# RMSE: Root Mean Squared Error\n",
    "def compute_rmse(true_vals, pred_vals):\n",
    "    mse = mean_squared_error(true_vals, pred_vals)\n",
    "    return np.sqrt(mse)\n",
    "\n",
    "# PCC: Pearson correlation coefficient\n",
    "def compute_pcc(true_vals, pred_vals):\n",
    "    return pearsonr(true_vals, pred_vals)[0]\n",
    "\n",
    "# R²: Coefficient of determination (R-squared)\n",
    "def compute_r2(true_vals, pred_vals):\n",
    "    return r2_score(true_vals, pred_vals)\n",
    "\n",
    "# Helper function to move data to device\n",
    "def recursive_to(batch, device):\n",
    "    if isinstance(batch, torch.Tensor):\n",
    "        return batch.to(device)\n",
    "    elif isinstance(batch, dict):\n",
    "        return {k: recursive_to(v, device) for k, v in batch.items()}\n",
    "    elif isinstance(batch, list):\n",
    "        return [recursive_to(v, device) for v in batch]\n",
    "    else:\n",
    "        return batch\n",
    "\n",
    "def train_model(model, train_loader, val_loader, test_loader,optimizer, epochs=50, device='cuda:0'):\n",
    "    model.to(device)\n",
    "    best_val_loss = float('inf')\n",
    "    best_model_path = '/home/hongtan/pretrain_single/weight/best_model.pth'\n",
    "    for epoch in range(epochs):\n",
    "        model.train()\n",
    "        running_loss = 0.0\n",
    "\n",
    "        # Training loop with progress bar\n",
    "        with tqdm(total=len(train_loader), desc=f'Epoch {epoch+1}/{epochs}', dynamic_ncols=True) as pbar:\n",
    "            for batch in train_loader:\n",
    "                batch = recursive_to(batch, device)\n",
    "                optimizer.zero_grad()\n",
    "\n",
    "                loss, _ = model(batch,vae_model)\n",
    "                loss.backward()\n",
    "                optimizer.step()\n",
    "\n",
    "                running_loss += loss.item()\n",
    "                pbar.set_postfix({'Train Loss': loss.item()})\n",
    "                pbar.update(1)\n",
    "\n",
    "        avg_train_loss = running_loss / len(train_loader)\n",
    "        print(f'Epoch {epoch+1}/{epochs}, Train Loss: {avg_train_loss:.4f}')\n",
    "        \n",
    "        # Validation loop\n",
    "        val_rmse, val_pcc, val_r2, avg_val_loss = validate_model(model, val_loader, device)\n",
    "        print(f'Epoch {epoch+1}/{epochs}, Val Loss: {avg_val_loss:.4f}, Val RMSE: {val_rmse:.4f}, Val PCC: {val_pcc:.4f}, Val R²: {val_r2:.4f}')\n",
    "        \n",
    "        test_rmse, test_pcc, test_r2, test_val_loss = test_model(model, test_loader, device)\n",
    "        print(f'Epoch {epoch+1}/{epochs}, test RMSE: {test_rmse:.4f}, test PCC: {test_pcc:.4f}, test R²: {test_r2:.4f}')\n",
    "        if avg_val_loss < best_val_loss:\n",
    "            best_val_loss = avg_val_loss\n",
    "            torch.save(model.state_dict(), best_model_path)\n",
    "            print(f\"Best model saved with Val Loss: {avg_val_loss:.4f}\")\n",
    "\n",
    "def validate_model(model, val_loader, device):\n",
    "    model.eval()\n",
    "    \n",
    "    all_ddg_true = []\n",
    "    all_ddg_pred = []\n",
    "    val_loss = 0.0\n",
    "    with torch.no_grad():\n",
    "        for batch in tqdm(val_loader, desc='Validating', dynamic_ncols=True):\n",
    "            batch = recursive_to(batch, device)\n",
    "            \n",
    "            # Forward pass\n",
    "            loss, output_dict = model(batch,vae_model)\n",
    "            val_loss += loss.item()\n",
    "\n",
    "            # Collect true and predicted ddG values\n",
    "            ddg_true = output_dict['ddG_true'].cpu().numpy()\n",
    "            ddg_pred = output_dict['ddG_pred'].cpu().numpy()\n",
    "            \n",
    "            all_ddg_true.append(ddg_true)\n",
    "            all_ddg_pred.append(ddg_pred)\n",
    "\n",
    "    # Flatten lists of ddG values\n",
    "    all_ddg_true = np.concatenate(all_ddg_true)\n",
    "    all_ddg_pred = np.concatenate(all_ddg_pred)\n",
    "    avg_val_loss = val_loss / len(val_loader)\n",
    "    \n",
    "    # Compute RMSE, PCC, and R²\n",
    "    rmse = compute_rmse(all_ddg_true, all_ddg_pred)\n",
    "    pcc = compute_pcc(all_ddg_true, all_ddg_pred)\n",
    "    r2 = compute_r2(all_ddg_true, all_ddg_pred)\n",
    "    \n",
    "    return rmse, pcc, r2, avg_val_loss\n",
    "\n",
    "def test_model(model, test_loader, device='cuda:0'):\n",
    "    model.eval()\n",
    "    all_ddg_true = []\n",
    "    all_ddg_pred = []\n",
    "    test_loss = 0.0\n",
    "    with torch.no_grad():\n",
    "        for batch in tqdm(test_loader, desc='Testing', dynamic_ncols=True):\n",
    "            batch = recursive_to(batch, device)\n",
    "            \n",
    "            # Forward pass\n",
    "            loss, output_dict = model(batch,vae_model)\n",
    "            test_loss += loss.item()\n",
    "\n",
    "            # Collect true and predicted ddG values\n",
    "            ddg_true = output_dict['ddG_true'].cpu().numpy()\n",
    "            ddg_pred = output_dict['ddG_pred'].cpu().numpy()\n",
    "            \n",
    "            all_ddg_true.append(ddg_true)\n",
    "            all_ddg_pred.append(ddg_pred)\n",
    "\n",
    "    # Flatten lists of ddG values\n",
    "    all_ddg_true = np.concatenate(all_ddg_true)\n",
    "    all_ddg_pred = np.concatenate(all_ddg_pred)\n",
    "    avg_test_loss = test_loss / len(test_loader)\n",
    "\n",
    "    # Compute RMSE, PCC, and R²\n",
    "    rmse = compute_rmse(all_ddg_true, all_ddg_pred)\n",
    "    pcc = compute_pcc(all_ddg_true, all_ddg_pred)\n",
    "    r2 = compute_r2(all_ddg_true, all_ddg_pred)\n",
    "    \n",
    "    print(f'Test Loss: {avg_test_loss:.4f}, Test RMSE: {rmse:.4f}, Test PCC: {pcc:.4f}, Test R²: {r2:.4f}')\n",
    "    return rmse, pcc, r2, avg_test_loss\n"
   ]
  },
  {
   "cell_type": "code",
   "execution_count": 12,
   "metadata": {},
   "outputs": [],
   "source": [
    "optimizer = torch.optim.Adam(model.parameters(), lr=0.0001, weight_decay=1e-5)\n",
    "scheduler = torch.optim.lr_scheduler.ReduceLROnPlateau(optimizer, factor=0.8, patience=10, min_lr=1e-6)\n"
   ]
  },
  {
   "cell_type": "code",
   "execution_count": 14,
   "metadata": {},
   "outputs": [
    {
     "name": "stderr",
     "output_type": "stream",
     "text": [
      "Epoch 1/100:   0%|          | 0/75 [00:00<?, ?it/s]"
     ]
    },
    {
     "name": "stderr",
     "output_type": "stream",
     "text": [
      "Epoch 1/100:  59%|█████▊    | 44/75 [01:01<00:47,  1.54s/it, Train Loss=1.4] "
     ]
    },
    {
     "name": "stdout",
     "output_type": "stream",
     "text": [
      "Skipping mutation K->S at ('A', 80): not found in seq_map\n",
      "Skipping entry 1699 after transform.\n"
     ]
    },
    {
     "name": "stderr",
     "output_type": "stream",
     "text": [
      "Epoch 1/100: 100%|██████████| 75/75 [01:46<00:00,  1.42s/it, Train Loss=2.3]  \n"
     ]
    },
    {
     "name": "stdout",
     "output_type": "stream",
     "text": [
      "Epoch 1/100, Train Loss: 1.9622\n"
     ]
    },
    {
     "name": "stderr",
     "output_type": "stream",
     "text": [
      "Validating: 100%|██████████| 9/9 [00:08<00:00,  1.08it/s]\n"
     ]
    },
    {
     "name": "stdout",
     "output_type": "stream",
     "text": [
      "Epoch 1/100, Val Loss: 1.6048, Val RMSE: 1.2724, Val PCC: 0.4925, Val R²: 0.2002\n"
     ]
    },
    {
     "name": "stderr",
     "output_type": "stream",
     "text": [
      "Testing: 100%|██████████| 21/21 [00:12<00:00,  1.68it/s]\n"
     ]
    },
    {
     "name": "stdout",
     "output_type": "stream",
     "text": [
      "Test Loss: 2.4868, Test RMSE: 1.5759, Test PCC: 0.3511, Test R²: 0.0735\n",
      "Epoch 1/100, test RMSE: 1.5759, test PCC: 0.3511, test R²: 0.0735\n",
      "Best model saved with Val Loss: 1.6048\n"
     ]
    },
    {
     "name": "stderr",
     "output_type": "stream",
     "text": [
      "Epoch 2/100:  71%|███████   | 53/75 [00:49<00:25,  1.16s/it, Train Loss=1.13] "
     ]
    },
    {
     "name": "stdout",
     "output_type": "stream",
     "text": [
      "Skipping mutation K->S at ('A', 80): not found in seq_map\n",
      "Skipping entry 1699 after transform.\n"
     ]
    },
    {
     "name": "stderr",
     "output_type": "stream",
     "text": [
      "Epoch 2/100: 100%|██████████| 75/75 [01:08<00:00,  1.09it/s, Train Loss=2.45] \n"
     ]
    },
    {
     "name": "stdout",
     "output_type": "stream",
     "text": [
      "Epoch 2/100, Train Loss: 1.6255\n"
     ]
    },
    {
     "name": "stderr",
     "output_type": "stream",
     "text": [
      "Validating: 100%|██████████| 9/9 [00:06<00:00,  1.40it/s]\n"
     ]
    },
    {
     "name": "stdout",
     "output_type": "stream",
     "text": [
      "Epoch 2/100, Val Loss: 1.5496, Val RMSE: 1.2656, Val PCC: 0.5165, Val R²: 0.2086\n"
     ]
    },
    {
     "name": "stderr",
     "output_type": "stream",
     "text": [
      "Testing: 100%|██████████| 21/21 [00:24<00:00,  1.17s/it]\n"
     ]
    },
    {
     "name": "stdout",
     "output_type": "stream",
     "text": [
      "Test Loss: 2.4596, Test RMSE: 1.5685, Test PCC: 0.3677, Test R²: 0.0822\n",
      "Epoch 2/100, test RMSE: 1.5685, test PCC: 0.3677, test R²: 0.0822\n",
      "Best model saved with Val Loss: 1.5496\n"
     ]
    },
    {
     "name": "stderr",
     "output_type": "stream",
     "text": [
      "Epoch 3/100:  77%|███████▋  | 58/75 [01:30<00:30,  1.77s/it, Train Loss=0.718]"
     ]
    },
    {
     "name": "stdout",
     "output_type": "stream",
     "text": [
      "Skipping mutation K->S at ('A', 80): not found in seq_map\n",
      "Skipping entry 1699 after transform.\n"
     ]
    },
    {
     "name": "stderr",
     "output_type": "stream",
     "text": [
      "Epoch 3/100: 100%|██████████| 75/75 [01:46<00:00,  1.42s/it, Train Loss=1.3]  \n"
     ]
    },
    {
     "name": "stdout",
     "output_type": "stream",
     "text": [
      "Epoch 3/100, Train Loss: 1.5087\n"
     ]
    },
    {
     "name": "stderr",
     "output_type": "stream",
     "text": [
      "Validating: 100%|██████████| 9/9 [00:13<00:00,  1.47s/it]\n"
     ]
    },
    {
     "name": "stdout",
     "output_type": "stream",
     "text": [
      "Epoch 3/100, Val Loss: 1.5986, Val RMSE: 1.2650, Val PCC: 0.5167, Val R²: 0.2094\n"
     ]
    },
    {
     "name": "stderr",
     "output_type": "stream",
     "text": [
      "Testing: 100%|██████████| 21/21 [00:15<00:00,  1.40it/s]\n"
     ]
    },
    {
     "name": "stdout",
     "output_type": "stream",
     "text": [
      "Test Loss: 2.4451, Test RMSE: 1.5640, Test PCC: 0.3680, Test R²: 0.0875\n",
      "Epoch 3/100, test RMSE: 1.5640, test PCC: 0.3680, test R²: 0.0875\n"
     ]
    },
    {
     "name": "stderr",
     "output_type": "stream",
     "text": [
      "Epoch 4/100:   0%|          | 0/75 [00:00<?, ?it/s]"
     ]
    },
    {
     "name": "stdout",
     "output_type": "stream",
     "text": [
      "Skipping mutation K->S at ('A', 80): not found in seq_map\n",
      "Skipping entry 1699 after transform.\n"
     ]
    },
    {
     "name": "stderr",
     "output_type": "stream",
     "text": [
      "Epoch 4/100: 100%|██████████| 75/75 [01:11<00:00,  1.05it/s, Train Loss=2.45] \n"
     ]
    },
    {
     "name": "stdout",
     "output_type": "stream",
     "text": [
      "Epoch 4/100, Train Loss: 1.3822\n"
     ]
    },
    {
     "name": "stderr",
     "output_type": "stream",
     "text": [
      "Validating: 100%|██████████| 9/9 [00:09<00:00,  1.00s/it]\n"
     ]
    },
    {
     "name": "stdout",
     "output_type": "stream",
     "text": [
      "Epoch 4/100, Val Loss: 1.6141, Val RMSE: 1.2747, Val PCC: 0.4991, Val R²: 0.1972\n"
     ]
    },
    {
     "name": "stderr",
     "output_type": "stream",
     "text": [
      "Testing: 100%|██████████| 21/21 [00:14<00:00,  1.46it/s]\n"
     ]
    },
    {
     "name": "stdout",
     "output_type": "stream",
     "text": [
      "Test Loss: 2.4320, Test RMSE: 1.5535, Test PCC: 0.3722, Test R²: 0.0997\n",
      "Epoch 4/100, test RMSE: 1.5535, test PCC: 0.3722, test R²: 0.0997\n"
     ]
    },
    {
     "name": "stderr",
     "output_type": "stream",
     "text": [
      "Epoch 5/100:  28%|██▊       | 21/75 [00:23<00:51,  1.05it/s, Train Loss=1.2]  "
     ]
    },
    {
     "name": "stdout",
     "output_type": "stream",
     "text": [
      "Skipping mutation K->S at ('A', 80): not found in seq_map\n",
      "Skipping entry 1699 after transform.\n"
     ]
    },
    {
     "name": "stderr",
     "output_type": "stream",
     "text": [
      "Epoch 5/100: 100%|██████████| 75/75 [01:06<00:00,  1.12it/s, Train Loss=0.854]\n"
     ]
    },
    {
     "name": "stdout",
     "output_type": "stream",
     "text": [
      "Epoch 5/100, Train Loss: 1.3376\n"
     ]
    },
    {
     "name": "stderr",
     "output_type": "stream",
     "text": [
      "Validating: 100%|██████████| 9/9 [00:07<00:00,  1.15it/s]\n"
     ]
    },
    {
     "name": "stdout",
     "output_type": "stream",
     "text": [
      "Epoch 5/100, Val Loss: 1.7063, Val RMSE: 1.2708, Val PCC: 0.5145, Val R²: 0.2022\n"
     ]
    },
    {
     "name": "stderr",
     "output_type": "stream",
     "text": [
      "Testing: 100%|██████████| 21/21 [00:14<00:00,  1.50it/s]\n"
     ]
    },
    {
     "name": "stdout",
     "output_type": "stream",
     "text": [
      "Test Loss: 2.3416, Test RMSE: 1.5295, Test PCC: 0.4137, Test R²: 0.1273\n",
      "Epoch 5/100, test RMSE: 1.5295, test PCC: 0.4137, test R²: 0.1273\n"
     ]
    },
    {
     "name": "stderr",
     "output_type": "stream",
     "text": [
      "Epoch 6/100:   1%|▏         | 1/75 [00:01<02:26,  1.98s/it, Train Loss=2.15]"
     ]
    },
    {
     "name": "stdout",
     "output_type": "stream",
     "text": [
      "Skipping mutation K->S at ('A', 80): not found in seq_map\n"
     ]
    },
    {
     "name": "stderr",
     "output_type": "stream",
     "text": [
      "Epoch 6/100:   1%|▏         | 1/75 [00:03<02:26,  1.98s/it, Train Loss=1.85]"
     ]
    },
    {
     "name": "stdout",
     "output_type": "stream",
     "text": [
      "Skipping entry 1699 after transform."
     ]
    },
    {
     "name": "stderr",
     "output_type": "stream",
     "text": [
      "Epoch 6/100:   3%|▎         | 2/75 [00:03<01:52,  1.54s/it, Train Loss=1.85]"
     ]
    },
    {
     "name": "stdout",
     "output_type": "stream",
     "text": [
      "\n"
     ]
    },
    {
     "name": "stderr",
     "output_type": "stream",
     "text": [
      "Epoch 6/100: 100%|██████████| 75/75 [01:11<00:00,  1.04it/s, Train Loss=1.36] \n"
     ]
    },
    {
     "name": "stdout",
     "output_type": "stream",
     "text": [
      "Epoch 6/100, Train Loss: 1.2234\n"
     ]
    },
    {
     "name": "stderr",
     "output_type": "stream",
     "text": [
      "Validating: 100%|██████████| 9/9 [00:08<00:00,  1.12it/s]\n"
     ]
    },
    {
     "name": "stdout",
     "output_type": "stream",
     "text": [
      "Epoch 6/100, Val Loss: 1.5157, Val RMSE: 1.2344, Val PCC: 0.5452, Val R²: 0.2472\n"
     ]
    },
    {
     "name": "stderr",
     "output_type": "stream",
     "text": [
      "Testing: 100%|██████████| 21/21 [00:19<00:00,  1.06it/s]\n"
     ]
    },
    {
     "name": "stdout",
     "output_type": "stream",
     "text": [
      "Test Loss: 2.4407, Test RMSE: 1.5595, Test PCC: 0.3888, Test R²: 0.0927\n",
      "Epoch 6/100, test RMSE: 1.5595, test PCC: 0.3888, test R²: 0.0927\n",
      "Best model saved with Val Loss: 1.5157\n"
     ]
    },
    {
     "name": "stderr",
     "output_type": "stream",
     "text": [
      "Epoch 7/100:  36%|███▌      | 27/75 [00:21<00:37,  1.29it/s, Train Loss=0.959]"
     ]
    },
    {
     "name": "stdout",
     "output_type": "stream",
     "text": [
      "Skipping mutation K->S at ('A', 80): not found in seq_map\n",
      "Skipping entry 1699 after transform.\n"
     ]
    },
    {
     "name": "stderr",
     "output_type": "stream",
     "text": [
      "Epoch 7/100: 100%|██████████| 75/75 [01:15<00:00,  1.00s/it, Train Loss=3.85] \n"
     ]
    },
    {
     "name": "stdout",
     "output_type": "stream",
     "text": [
      "Epoch 7/100, Train Loss: 1.1598\n"
     ]
    },
    {
     "name": "stderr",
     "output_type": "stream",
     "text": [
      "Validating: 100%|██████████| 9/9 [00:15<00:00,  1.71s/it]\n"
     ]
    },
    {
     "name": "stdout",
     "output_type": "stream",
     "text": [
      "Epoch 7/100, Val Loss: 1.4385, Val RMSE: 1.2313, Val PCC: 0.5711, Val R²: 0.2510\n"
     ]
    },
    {
     "name": "stderr",
     "output_type": "stream",
     "text": [
      "Testing: 100%|██████████| 21/21 [00:12<00:00,  1.65it/s]\n"
     ]
    },
    {
     "name": "stdout",
     "output_type": "stream",
     "text": [
      "Test Loss: 2.4577, Test RMSE: 1.5679, Test PCC: 0.3708, Test R²: 0.0828\n",
      "Epoch 7/100, test RMSE: 1.5679, test PCC: 0.3708, test R²: 0.0828\n",
      "Best model saved with Val Loss: 1.4385\n"
     ]
    },
    {
     "name": "stderr",
     "output_type": "stream",
     "text": [
      "Epoch 8/100:  41%|████▏     | 31/75 [00:47<01:16,  1.74s/it, Train Loss=0.798]"
     ]
    },
    {
     "name": "stdout",
     "output_type": "stream",
     "text": [
      "Skipping mutation K->S at ('A', 80): not found in seq_map\n",
      "Skipping entry 1699 after transform.\n"
     ]
    },
    {
     "name": "stderr",
     "output_type": "stream",
     "text": [
      "Epoch 8/100: 100%|██████████| 75/75 [01:36<00:00,  1.29s/it, Train Loss=1.28] \n"
     ]
    },
    {
     "name": "stdout",
     "output_type": "stream",
     "text": [
      "Epoch 8/100, Train Loss: 1.0022\n"
     ]
    },
    {
     "name": "stderr",
     "output_type": "stream",
     "text": [
      "Validating: 100%|██████████| 9/9 [00:17<00:00,  1.93s/it]\n"
     ]
    },
    {
     "name": "stdout",
     "output_type": "stream",
     "text": [
      "Epoch 8/100, Val Loss: 1.5499, Val RMSE: 1.2043, Val PCC: 0.5669, Val R²: 0.2835\n"
     ]
    },
    {
     "name": "stderr",
     "output_type": "stream",
     "text": [
      "Testing: 100%|██████████| 21/21 [00:13<00:00,  1.50it/s]\n"
     ]
    },
    {
     "name": "stdout",
     "output_type": "stream",
     "text": [
      "Test Loss: 2.3998, Test RMSE: 1.5517, Test PCC: 0.3948, Test R²: 0.1017\n",
      "Epoch 8/100, test RMSE: 1.5517, test PCC: 0.3948, test R²: 0.1017\n"
     ]
    },
    {
     "name": "stderr",
     "output_type": "stream",
     "text": [
      "Epoch 9/100:  87%|████████▋ | 65/75 [01:22<00:20,  2.04s/it, Train Loss=0.859]"
     ]
    },
    {
     "name": "stdout",
     "output_type": "stream",
     "text": [
      "Skipping mutation K->S at ('A', 80): not found in seq_map\n",
      "Skipping entry 1699 after transform.\n"
     ]
    },
    {
     "name": "stderr",
     "output_type": "stream",
     "text": [
      "Epoch 9/100: 100%|██████████| 75/75 [01:43<00:00,  1.38s/it, Train Loss=0.468]\n"
     ]
    },
    {
     "name": "stdout",
     "output_type": "stream",
     "text": [
      "Epoch 9/100, Train Loss: 0.9206\n"
     ]
    },
    {
     "name": "stderr",
     "output_type": "stream",
     "text": [
      "Validating: 100%|██████████| 9/9 [00:15<00:00,  1.73s/it]\n"
     ]
    },
    {
     "name": "stdout",
     "output_type": "stream",
     "text": [
      "Epoch 9/100, Val Loss: 1.5011, Val RMSE: 1.2163, Val PCC: 0.5778, Val R²: 0.2691\n"
     ]
    },
    {
     "name": "stderr",
     "output_type": "stream",
     "text": [
      "Testing: 100%|██████████| 21/21 [00:12<00:00,  1.63it/s]\n"
     ]
    },
    {
     "name": "stdout",
     "output_type": "stream",
     "text": [
      "Test Loss: 2.4368, Test RMSE: 1.5591, Test PCC: 0.3836, Test R²: 0.0932\n",
      "Epoch 9/100, test RMSE: 1.5591, test PCC: 0.3836, test R²: 0.0932\n"
     ]
    },
    {
     "name": "stderr",
     "output_type": "stream",
     "text": [
      "Epoch 10/100:  45%|████▌     | 34/75 [01:07<00:37,  1.11it/s, Train Loss=0.628]"
     ]
    },
    {
     "name": "stdout",
     "output_type": "stream",
     "text": [
      "Skipping mutation K->S at ('A', 80): not found in seq_map\n",
      "Skipping entry 1699 after transform.\n"
     ]
    },
    {
     "name": "stderr",
     "output_type": "stream",
     "text": [
      "Epoch 10/100: 100%|██████████| 75/75 [01:34<00:00,  1.27s/it, Train Loss=1.88] \n"
     ]
    },
    {
     "name": "stdout",
     "output_type": "stream",
     "text": [
      "Epoch 10/100, Train Loss: 0.7741\n"
     ]
    },
    {
     "name": "stderr",
     "output_type": "stream",
     "text": [
      "Validating: 100%|██████████| 9/9 [00:08<00:00,  1.12it/s]\n"
     ]
    },
    {
     "name": "stdout",
     "output_type": "stream",
     "text": [
      "Epoch 10/100, Val Loss: 1.3101, Val RMSE: 1.1835, Val PCC: 0.5897, Val R²: 0.3081\n"
     ]
    },
    {
     "name": "stderr",
     "output_type": "stream",
     "text": [
      "Testing: 100%|██████████| 21/21 [00:15<00:00,  1.38it/s]\n"
     ]
    },
    {
     "name": "stdout",
     "output_type": "stream",
     "text": [
      "Test Loss: 2.4646, Test RMSE: 1.5671, Test PCC: 0.3710, Test R²: 0.0838\n",
      "Epoch 10/100, test RMSE: 1.5671, test PCC: 0.3710, test R²: 0.0838\n",
      "Best model saved with Val Loss: 1.3101\n"
     ]
    },
    {
     "name": "stderr",
     "output_type": "stream",
     "text": [
      "Epoch 11/100:  21%|██▏       | 16/75 [00:15<00:45,  1.29it/s, Train Loss=0.861]"
     ]
    },
    {
     "name": "stdout",
     "output_type": "stream",
     "text": [
      "Skipping mutation K->S at ('A', 80): not found in seq_map\n",
      "Skipping entry 1699 after transform."
     ]
    },
    {
     "name": "stderr",
     "output_type": "stream",
     "text": [
      "Epoch 11/100:  23%|██▎       | 17/75 [00:16<00:42,  1.37it/s, Train Loss=0.5]  "
     ]
    },
    {
     "name": "stdout",
     "output_type": "stream",
     "text": [
      "\n"
     ]
    },
    {
     "name": "stderr",
     "output_type": "stream",
     "text": [
      "Epoch 11/100: 100%|██████████| 75/75 [01:08<00:00,  1.09it/s, Train Loss=0.282]\n"
     ]
    },
    {
     "name": "stdout",
     "output_type": "stream",
     "text": [
      "Epoch 11/100, Train Loss: 0.6736\n"
     ]
    },
    {
     "name": "stderr",
     "output_type": "stream",
     "text": [
      "Validating: 100%|██████████| 9/9 [00:06<00:00,  1.41it/s]\n"
     ]
    },
    {
     "name": "stdout",
     "output_type": "stream",
     "text": [
      "Epoch 11/100, Val Loss: 1.4755, Val RMSE: 1.2187, Val PCC: 0.5818, Val R²: 0.2663\n"
     ]
    },
    {
     "name": "stderr",
     "output_type": "stream",
     "text": [
      "Testing: 100%|██████████| 21/21 [00:12<00:00,  1.66it/s]\n"
     ]
    },
    {
     "name": "stdout",
     "output_type": "stream",
     "text": [
      "Test Loss: 2.5201, Test RMSE: 1.5890, Test PCC: 0.3580, Test R²: 0.0580\n",
      "Epoch 11/100, test RMSE: 1.5890, test PCC: 0.3580, test R²: 0.0580\n"
     ]
    },
    {
     "name": "stderr",
     "output_type": "stream",
     "text": [
      "Epoch 12/100:  36%|███▌      | 27/75 [00:40<01:25,  1.77s/it, Train Loss=0.406]"
     ]
    },
    {
     "name": "stdout",
     "output_type": "stream",
     "text": [
      "Skipping mutation K->S at ('A', 80): not found in seq_map\n",
      "Skipping entry 1699 after transform.\n"
     ]
    },
    {
     "name": "stderr",
     "output_type": "stream",
     "text": [
      "Epoch 12/100: 100%|██████████| 75/75 [01:49<00:00,  1.46s/it, Train Loss=0.312]\n"
     ]
    },
    {
     "name": "stdout",
     "output_type": "stream",
     "text": [
      "Epoch 12/100, Train Loss: 0.5295\n"
     ]
    },
    {
     "name": "stderr",
     "output_type": "stream",
     "text": [
      "Validating: 100%|██████████| 9/9 [00:06<00:00,  1.50it/s]\n"
     ]
    },
    {
     "name": "stdout",
     "output_type": "stream",
     "text": [
      "Epoch 12/100, Val Loss: 1.4214, Val RMSE: 1.1899, Val PCC: 0.5951, Val R²: 0.3005\n"
     ]
    },
    {
     "name": "stderr",
     "output_type": "stream",
     "text": [
      "Testing: 100%|██████████| 21/21 [00:13<00:00,  1.52it/s]\n"
     ]
    },
    {
     "name": "stdout",
     "output_type": "stream",
     "text": [
      "Test Loss: 2.4141, Test RMSE: 1.5508, Test PCC: 0.3961, Test R²: 0.1028\n",
      "Epoch 12/100, test RMSE: 1.5508, test PCC: 0.3961, test R²: 0.1028\n"
     ]
    },
    {
     "name": "stderr",
     "output_type": "stream",
     "text": [
      "Epoch 13/100:  72%|███████▏  | 54/75 [00:47<00:15,  1.35it/s, Train Loss=0.547]"
     ]
    },
    {
     "name": "stdout",
     "output_type": "stream",
     "text": [
      "Skipping mutation K->S at ('A', 80): not found in seq_map\n",
      "Skipping entry 1699 after transform.\n"
     ]
    },
    {
     "name": "stderr",
     "output_type": "stream",
     "text": [
      "Epoch 13/100: 100%|██████████| 75/75 [01:04<00:00,  1.16it/s, Train Loss=0.829]\n"
     ]
    },
    {
     "name": "stdout",
     "output_type": "stream",
     "text": [
      "Epoch 13/100, Train Loss: 0.4239\n"
     ]
    },
    {
     "name": "stderr",
     "output_type": "stream",
     "text": [
      "Validating: 100%|██████████| 9/9 [00:07<00:00,  1.27it/s]\n"
     ]
    },
    {
     "name": "stdout",
     "output_type": "stream",
     "text": [
      "Epoch 13/100, Val Loss: 1.5650, Val RMSE: 1.1636, Val PCC: 0.6264, Val R²: 0.3311\n"
     ]
    },
    {
     "name": "stderr",
     "output_type": "stream",
     "text": [
      "Testing: 100%|██████████| 21/21 [00:13<00:00,  1.51it/s]\n"
     ]
    },
    {
     "name": "stdout",
     "output_type": "stream",
     "text": [
      "Test Loss: 2.5596, Test RMSE: 1.5977, Test PCC: 0.3752, Test R²: 0.0477\n",
      "Epoch 13/100, test RMSE: 1.5977, test PCC: 0.3752, test R²: 0.0477\n"
     ]
    },
    {
     "name": "stderr",
     "output_type": "stream",
     "text": [
      "Epoch 14/100:  73%|███████▎  | 55/75 [01:05<00:16,  1.22it/s, Train Loss=0.482]"
     ]
    },
    {
     "name": "stdout",
     "output_type": "stream",
     "text": [
      "Skipping mutation K->S at ('A', 80): not found in seq_map\n",
      "Skipping entry 1699 after transform.\n"
     ]
    },
    {
     "name": "stderr",
     "output_type": "stream",
     "text": [
      "Epoch 14/100: 100%|██████████| 75/75 [01:26<00:00,  1.15s/it, Train Loss=0.226]\n"
     ]
    },
    {
     "name": "stdout",
     "output_type": "stream",
     "text": [
      "Epoch 14/100, Train Loss: 0.3343\n"
     ]
    },
    {
     "name": "stderr",
     "output_type": "stream",
     "text": [
      "Validating: 100%|██████████| 9/9 [00:15<00:00,  1.77s/it]\n"
     ]
    },
    {
     "name": "stdout",
     "output_type": "stream",
     "text": [
      "Epoch 14/100, Val Loss: 1.6660, Val RMSE: 1.2001, Val PCC: 0.5887, Val R²: 0.2884\n"
     ]
    },
    {
     "name": "stderr",
     "output_type": "stream",
     "text": [
      "Testing: 100%|██████████| 21/21 [00:20<00:00,  1.02it/s]\n"
     ]
    },
    {
     "name": "stdout",
     "output_type": "stream",
     "text": [
      "Test Loss: 2.5471, Test RMSE: 1.5937, Test PCC: 0.3642, Test R²: 0.0524\n",
      "Epoch 14/100, test RMSE: 1.5937, test PCC: 0.3642, test R²: 0.0524\n"
     ]
    },
    {
     "name": "stderr",
     "output_type": "stream",
     "text": [
      "Epoch 15/100:   3%|▎         | 2/75 [00:05<02:55,  2.41s/it, Train Loss=0.308]"
     ]
    },
    {
     "name": "stdout",
     "output_type": "stream",
     "text": [
      "Skipping mutation K->S at ('A', 80): not found in seq_map\n",
      "Skipping entry 1699 after transform.\n"
     ]
    },
    {
     "name": "stderr",
     "output_type": "stream",
     "text": [
      "Epoch 15/100: 100%|██████████| 75/75 [01:14<00:00,  1.01it/s, Train Loss=0.34] \n"
     ]
    },
    {
     "name": "stdout",
     "output_type": "stream",
     "text": [
      "Epoch 15/100, Train Loss: 0.2784\n"
     ]
    },
    {
     "name": "stderr",
     "output_type": "stream",
     "text": [
      "Validating: 100%|██████████| 9/9 [00:06<00:00,  1.29it/s]\n"
     ]
    },
    {
     "name": "stdout",
     "output_type": "stream",
     "text": [
      "Epoch 15/100, Val Loss: 1.3507, Val RMSE: 1.1762, Val PCC: 0.5960, Val R²: 0.3165\n"
     ]
    },
    {
     "name": "stderr",
     "output_type": "stream",
     "text": [
      "Testing: 100%|██████████| 21/21 [00:27<00:00,  1.33s/it]\n"
     ]
    },
    {
     "name": "stdout",
     "output_type": "stream",
     "text": [
      "Test Loss: 2.5572, Test RMSE: 1.5977, Test PCC: 0.3633, Test R²: 0.0477\n",
      "Epoch 15/100, test RMSE: 1.5977, test PCC: 0.3633, test R²: 0.0477\n"
     ]
    },
    {
     "name": "stderr",
     "output_type": "stream",
     "text": [
      "Epoch 16/100:  31%|███       | 23/75 [00:41<01:16,  1.47s/it, Train Loss=0.246]"
     ]
    },
    {
     "name": "stdout",
     "output_type": "stream",
     "text": [
      "Skipping mutation K->S at ('A', 80): not found in seq_map\n",
      "Skipping entry 1699 after transform.\n"
     ]
    },
    {
     "name": "stderr",
     "output_type": "stream",
     "text": [
      "Epoch 16/100: 100%|██████████| 75/75 [01:41<00:00,  1.35s/it, Train Loss=0.0939]\n"
     ]
    },
    {
     "name": "stdout",
     "output_type": "stream",
     "text": [
      "Epoch 16/100, Train Loss: 0.2236\n"
     ]
    },
    {
     "name": "stderr",
     "output_type": "stream",
     "text": [
      "Validating: 100%|██████████| 9/9 [00:19<00:00,  2.20s/it]\n"
     ]
    },
    {
     "name": "stdout",
     "output_type": "stream",
     "text": [
      "Epoch 16/100, Val Loss: 1.3826, Val RMSE: 1.1885, Val PCC: 0.5981, Val R²: 0.3021\n"
     ]
    },
    {
     "name": "stderr",
     "output_type": "stream",
     "text": [
      "Testing: 100%|██████████| 21/21 [00:19<00:00,  1.10it/s]\n"
     ]
    },
    {
     "name": "stdout",
     "output_type": "stream",
     "text": [
      "Test Loss: 2.5678, Test RMSE: 1.6037, Test PCC: 0.3669, Test R²: 0.0405\n",
      "Epoch 16/100, test RMSE: 1.6037, test PCC: 0.3669, test R²: 0.0405\n"
     ]
    },
    {
     "name": "stderr",
     "output_type": "stream",
     "text": [
      "Epoch 17/100:  43%|████▎     | 32/75 [00:32<00:49,  1.15s/it, Train Loss=0.237]"
     ]
    },
    {
     "name": "stdout",
     "output_type": "stream",
     "text": [
      "Skipping mutation K->S at ('A', 80): not found in seq_map\n",
      "Skipping entry 1699 after transform.\n"
     ]
    },
    {
     "name": "stderr",
     "output_type": "stream",
     "text": [
      "Epoch 17/100: 100%|██████████| 75/75 [01:39<00:00,  1.32s/it, Train Loss=0.0884]\n"
     ]
    },
    {
     "name": "stdout",
     "output_type": "stream",
     "text": [
      "Epoch 17/100, Train Loss: 0.1937\n"
     ]
    },
    {
     "name": "stderr",
     "output_type": "stream",
     "text": [
      "Validating: 100%|██████████| 9/9 [00:08<00:00,  1.12it/s]\n"
     ]
    },
    {
     "name": "stdout",
     "output_type": "stream",
     "text": [
      "Epoch 17/100, Val Loss: 1.3077, Val RMSE: 1.1721, Val PCC: 0.6015, Val R²: 0.3213\n"
     ]
    },
    {
     "name": "stderr",
     "output_type": "stream",
     "text": [
      "Testing: 100%|██████████| 21/21 [00:17<00:00,  1.21it/s]\n"
     ]
    },
    {
     "name": "stdout",
     "output_type": "stream",
     "text": [
      "Test Loss: 2.4617, Test RMSE: 1.5674, Test PCC: 0.3768, Test R²: 0.0835\n",
      "Epoch 17/100, test RMSE: 1.5674, test PCC: 0.3768, test R²: 0.0835\n",
      "Best model saved with Val Loss: 1.3077\n"
     ]
    },
    {
     "name": "stderr",
     "output_type": "stream",
     "text": [
      "Epoch 18/100:  57%|█████▋    | 43/75 [00:53<00:51,  1.62s/it, Train Loss=0.21]  "
     ]
    },
    {
     "name": "stdout",
     "output_type": "stream",
     "text": [
      "Skipping mutation K->S at ('A', 80): not found in seq_map\n",
      "Skipping entry 1699 after transform.\n"
     ]
    },
    {
     "name": "stderr",
     "output_type": "stream",
     "text": [
      "Epoch 18/100: 100%|██████████| 75/75 [01:44<00:00,  1.39s/it, Train Loss=0.159] \n"
     ]
    },
    {
     "name": "stdout",
     "output_type": "stream",
     "text": [
      "Epoch 18/100, Train Loss: 0.1523\n"
     ]
    },
    {
     "name": "stderr",
     "output_type": "stream",
     "text": [
      "Validating: 100%|██████████| 9/9 [00:09<00:00,  1.08s/it]\n"
     ]
    },
    {
     "name": "stdout",
     "output_type": "stream",
     "text": [
      "Epoch 18/100, Val Loss: 1.3300, Val RMSE: 1.1353, Val PCC: 0.6276, Val R²: 0.3632\n"
     ]
    },
    {
     "name": "stderr",
     "output_type": "stream",
     "text": [
      "Testing: 100%|██████████| 21/21 [00:16<00:00,  1.26it/s]\n"
     ]
    },
    {
     "name": "stdout",
     "output_type": "stream",
     "text": [
      "Test Loss: 2.5058, Test RMSE: 1.5843, Test PCC: 0.3637, Test R²: 0.0635\n",
      "Epoch 18/100, test RMSE: 1.5843, test PCC: 0.3637, test R²: 0.0635\n"
     ]
    },
    {
     "name": "stderr",
     "output_type": "stream",
     "text": [
      "Epoch 19/100:  67%|██████▋   | 50/75 [00:47<00:24,  1.02it/s, Train Loss=0.116] "
     ]
    },
    {
     "name": "stdout",
     "output_type": "stream",
     "text": [
      "Skipping mutation K->S at ('A', 80): not found in seq_map\n",
      "Skipping entry 1699 after transform.\n"
     ]
    },
    {
     "name": "stderr",
     "output_type": "stream",
     "text": [
      "Epoch 19/100: 100%|██████████| 75/75 [01:09<00:00,  1.08it/s, Train Loss=0.119] \n"
     ]
    },
    {
     "name": "stdout",
     "output_type": "stream",
     "text": [
      "Epoch 19/100, Train Loss: 0.1256\n"
     ]
    },
    {
     "name": "stderr",
     "output_type": "stream",
     "text": [
      "Validating: 100%|██████████| 9/9 [00:09<00:00,  1.10s/it]\n"
     ]
    },
    {
     "name": "stdout",
     "output_type": "stream",
     "text": [
      "Epoch 19/100, Val Loss: 1.2663, Val RMSE: 1.1327, Val PCC: 0.6248, Val R²: 0.3662\n"
     ]
    },
    {
     "name": "stderr",
     "output_type": "stream",
     "text": [
      "Testing: 100%|██████████| 21/21 [00:14<00:00,  1.45it/s]\n"
     ]
    },
    {
     "name": "stdout",
     "output_type": "stream",
     "text": [
      "Test Loss: 2.4972, Test RMSE: 1.5829, Test PCC: 0.3544, Test R²: 0.0653\n",
      "Epoch 19/100, test RMSE: 1.5829, test PCC: 0.3544, test R²: 0.0653\n",
      "Best model saved with Val Loss: 1.2663\n"
     ]
    },
    {
     "name": "stderr",
     "output_type": "stream",
     "text": [
      "Epoch 20/100:   4%|▍         | 3/75 [00:06<02:07,  1.77s/it, Train Loss=0.0791]"
     ]
    },
    {
     "name": "stdout",
     "output_type": "stream",
     "text": [
      "Skipping mutation K->S at ('A', 80): not found in seq_mapSkipping entry 1699 after transform.\n",
      "\n"
     ]
    },
    {
     "name": "stderr",
     "output_type": "stream",
     "text": [
      "Epoch 20/100: 100%|██████████| 75/75 [01:07<00:00,  1.12it/s, Train Loss=0.0626]\n"
     ]
    },
    {
     "name": "stdout",
     "output_type": "stream",
     "text": [
      "Epoch 20/100, Train Loss: 0.1070\n"
     ]
    },
    {
     "name": "stderr",
     "output_type": "stream",
     "text": [
      "Validating: 100%|██████████| 9/9 [00:04<00:00,  1.91it/s]\n"
     ]
    },
    {
     "name": "stdout",
     "output_type": "stream",
     "text": [
      "Epoch 20/100, Val Loss: 1.3108, Val RMSE: 1.1602, Val PCC: 0.6166, Val R²: 0.3349\n"
     ]
    },
    {
     "name": "stderr",
     "output_type": "stream",
     "text": [
      "Testing: 100%|██████████| 21/21 [00:17<00:00,  1.22it/s]\n"
     ]
    },
    {
     "name": "stdout",
     "output_type": "stream",
     "text": [
      "Test Loss: 2.5124, Test RMSE: 1.5883, Test PCC: 0.3720, Test R²: 0.0589\n",
      "Epoch 20/100, test RMSE: 1.5883, test PCC: 0.3720, test R²: 0.0589\n"
     ]
    },
    {
     "name": "stderr",
     "output_type": "stream",
     "text": [
      "Epoch 21/100:  67%|██████▋   | 50/75 [00:42<00:23,  1.05it/s, Train Loss=0.0697]"
     ]
    }
   ],
   "source": [
    "train_model(model, train_loader, val_loader,test_loader,optimizer = optimizer, epochs=100, device= torch.device('cuda:0'))\n"
   ]
  },
  {
   "cell_type": "code",
   "execution_count": 14,
   "metadata": {},
   "outputs": [
    {
     "name": "stderr",
     "output_type": "stream",
     "text": [
      "/tmp/ipykernel_697080/293764726.py:3: FutureWarning: You are using `torch.load` with `weights_only=False` (the current default value), which uses the default pickle module implicitly. It is possible to construct malicious pickle data which will execute arbitrary code during unpickling (See https://github.com/pytorch/pytorch/blob/main/SECURITY.md#untrusted-models for more details). In a future release, the default value for `weights_only` will be flipped to `True`. This limits the functions that could be executed during unpickling. Arbitrary objects will no longer be allowed to be loaded via this mode unless they are explicitly allowlisted by the user via `torch.serialization.add_safe_globals`. We recommend you start setting `weights_only=True` for any use case where you don't have full control of the loaded file. Please open an issue on GitHub for any issues related to this experimental feature.\n",
      "  model.load_state_dict(torch.load(best_model_path))\n",
      "Testing:   0%|          | 0/17 [00:00<?, ?it/s]"
     ]
    },
    {
     "name": "stdout",
     "output_type": "stream",
     "text": [
      "Skipping mutation I->L at ('A', 112): not found in seq_map\n",
      "Skipping entry 144 after transform.\n"
     ]
    },
    {
     "name": "stderr",
     "output_type": "stream",
     "text": [
      "Testing: 100%|██████████| 17/17 [00:17<00:00,  1.02s/it]\n"
     ]
    },
    {
     "name": "stdout",
     "output_type": "stream",
     "text": [
      "Test Loss: 0.1540, Test RMSE: 0.3919, Test PCC: 0.9599, Test R²: 0.9198\n"
     ]
    },
    {
     "data": {
      "text/plain": [
       "(0.3918693, 0.9598762047998406, 0.9198229908943176, 0.15403935225570903)"
      ]
     },
     "execution_count": 14,
     "metadata": {},
     "output_type": "execute_result"
    }
   ],
   "source": [
    "best_model_path = \"/home/hongtan/pretrain_single/wt/best_model.pth\"\n",
    "model.to(device)\n",
    "model.load_state_dict(torch.load(best_model_path))\n",
    "\n",
    "# 在测试集上测试\n",
    "test_model(model, test_loader, device='cuda:0')"
   ]
  },
  {
   "cell_type": "markdown",
   "metadata": {},
   "source": [
    "Epoch 1/1000, Train Loss: 3.7755478318733506\n",
    "Validating: 100%|██████████| 9/9 [00:15<00:00,  1.73s/it]\n",
    "Validation Loss: 3.440200130144755\n",
    "Epoch 1/1000, Val RMSE: 1.8626, Val PCC: 0.6669, Val R²: 0.4344\n",
    "Epoch 2/1000, Train Loss: 2.769809875307204\n",
    "Validating: 100%|██████████| 9/9 [00:18<00:00,  2.03s/it]\n",
    "Validation Loss: 3.4820684327019586\n",
    "Epoch 2/1000, Val RMSE: 1.8031, Val PCC: 0.6885, Val R²: 0.4700\n",
    "Epoch 3/1000, Train Loss: 2.436043185523794\n",
    "Validating: 100%|██████████| 9/9 [00:14<00:00,  1.66s/it]\n",
    "Validation Loss: 3.3180822796291776\n",
    "Epoch 3/1000, Val RMSE: 1.8264, Val PCC: 0.6820, Val R²: 0.4562\n",
    "Epoch 4/1000, Train Loss: 2.396531761447086\n",
    "Validating: 100%|██████████| 9/9 [00:19<00:00,  2.22s/it]\n",
    "Validation Loss: 3.402861820326911\n",
    "Epoch 4/1000, Val RMSE: 1.8588, Val PCC: 0.7065, Val R²: 0.4368\n",
    "Epoch 5/1000, Train Loss: 2.2285565168042725\n",
    "Validating: 100%|██████████| 9/9 [00:17<00:00,  1.97s/it]\n",
    "Validation Loss: 3.3189518451690674\n",
    "Epoch 5/1000, Val RMSE: 1.8318, Val PCC: 0.6858, Val R²: 0.4530\n",
    "Epoch 6/1000, Train Loss: 2.437140565884264\n",
    "Validating: 100%|██████████| 9/9 [00:17<00:00,  1.94s/it]\n",
    "Validation Loss: 3.866072667969598\n",
    "Epoch 6/1000, Val RMSE: 1.9175, Val PCC: 0.6353, Val R²: 0.4006\n",
    "Epoch 7/1000, Train Loss: 2.5104055570650705\n",
    "Validating: 100%|██████████| 9/9 [00:16<00:00,  1.81s/it]\n",
    "Validation Loss: 4.321215364668104\n",
    "Epoch 7/1000, Val RMSE: 2.0865, Val PCC: 0.5843, Val R²: 0.2903\n",
    "Epoch 8/1000, Train Loss: 4.1250943533981905\n",
    "Validating: 100%|██████████| 9/9 [00:16<00:00,  1.83s/it]\n",
    "Validation Loss: 4.389447000291613\n",
    "Epoch 8/1000, Val RMSE: 2.0988, Val PCC: 0.5502, Val R²: 0.2819\n",
    "Epoch 9/1000, Train Loss: 3.9547084675559514\n",
    "Validating: 100%|██████████| 9/9 [00:17<00:00,  1.98s/it]\n",
    "Validation Loss: 4.163823180728489\n",
    "Epoch 9/1000, Val RMSE: 2.0451, Val PCC: 0.5684, Val R²: 0.3181"
   ]
  },
  {
   "cell_type": "markdown",
   "metadata": {},
   "source": []
  }
 ],
 "metadata": {
  "kernelspec": {
   "display_name": "DDAffinity",
   "language": "python",
   "name": "python3"
  },
  "language_info": {
   "codemirror_mode": {
    "name": "ipython",
    "version": 3
   },
   "file_extension": ".py",
   "mimetype": "text/x-python",
   "name": "python",
   "nbconvert_exporter": "python",
   "pygments_lexer": "ipython3",
   "version": "3.10.14"
  }
 },
 "nbformat": 4,
 "nbformat_minor": 2
}
