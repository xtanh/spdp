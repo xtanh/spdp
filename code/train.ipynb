{
 "cells": [
  {
   "cell_type": "code",
   "execution_count": 1,
   "metadata": {},
   "outputs": [
    {
     "name": "stderr",
     "output_type": "stream",
     "text": [
      "/home/hongtan/miniconda3/envs/DDAffinity/lib/python3.10/site-packages/tqdm/auto.py:21: TqdmWarning: IProgress not found. Please update jupyter and ipywidgets. See https://ipywidgets.readthedocs.io/en/stable/user_install.html\n",
      "  from .autonotebook import tqdm as notebook_tqdm\n"
     ]
    }
   ],
   "source": [
    "import os\n",
    "import csv\n",
    "import time\n",
    "import json\n",
    "import torch\n",
    "import random\n",
    "import argparse\n",
    "import numpy as np\n",
    "import pandas as pd\n",
    "from tqdm.auto import tqdm\n",
    "from torch.utils.data import DataLoader\n",
    "\n",
    "from model import DDG_RDE_Network, Codebook\n",
    "from trainer import CrossValidation, recursive_to\n",
    "from utils import set_seed, check_dir, eval_skempi_three_modes, save_code, load_config\n",
    "from dataset import SkempiDataset\n",
    "from torch.utils.data import random_split\n",
    "from ipdb import set_trace"
   ]
  },
  {
   "cell_type": "code",
   "execution_count": 2,
   "metadata": {},
   "outputs": [],
   "source": [
    "device = torch.device('cuda:0' if torch.cuda.is_available() else 'cpu')"
   ]
  },
  {
   "cell_type": "code",
   "execution_count": 3,
   "metadata": {},
   "outputs": [
    {
     "name": "stderr",
     "output_type": "stream",
     "text": [
      "/home/hongtan/miniconda3/envs/DDAffinity/lib/python3.10/site-packages/torch/storage.py:414: FutureWarning: You are using `torch.load` with `weights_only=False` (the current default value), which uses the default pickle module implicitly. It is possible to construct malicious pickle data which will execute arbitrary code during unpickling (See https://github.com/pytorch/pytorch/blob/main/SECURITY.md#untrusted-models for more details). In a future release, the default value for `weights_only` will be flipped to `True`. This limits the functions that could be executed during unpickling. Arbitrary objects will no longer be allowed to be loaded via this mode unless they are explicitly allowlisted by the user via `torch.serialization.add_safe_globals`. We recommend you start setting `weights_only=True` for any use case where you don't have full control of the loaded file. Please open an issue on GitHub for any issues related to this experimental feature.\n",
      "  return torch.load(io.BytesIO(b))\n"
     ]
    }
   ],
   "source": [
    "train_dataset = SkempiDataset(\n",
    "            csv_path=\"/home/hongtan/pretrain_single/dataset/s8716_TEST.csv\",\n",
    "            pdb_dir=\"/home/hongtan/pretrain_single/final_dataset/pdb\",\n",
    "            cache_dir=\"/home/hongtan/pretrain_single/final_dataset/train_8026/train_cache\",\n",
    "            patch_size=128\n",
    "        )"
   ]
  },
  {
   "cell_type": "code",
   "execution_count": 4,
   "metadata": {},
   "outputs": [],
   "source": [
    "s1657_test_dataset = SkempiDataset(\n",
    "            csv_path=\"/home/hongtan/pretrain_single/final_dataset/s669/modified_file.csv\",\n",
    "            pdb_dir=\"/home/hongtan/pretrain_single/final_dataset/pdb\",\n",
    "            cache_dir=\"/home/hongtan/pretrain_single/final_dataset/s669/cache\",\n",
    "            patch_size=128\n",
    "        )"
   ]
  },
  {
   "cell_type": "code",
   "execution_count": 5,
   "metadata": {},
   "outputs": [],
   "source": [
    "param = json.loads(open(\"/home/hongtan/pretrain_single/config/param_configs.json\", 'r').read())\n",
    "args = argparse.Namespace(**param)"
   ]
  },
  {
   "cell_type": "code",
   "execution_count": 6,
   "metadata": {},
   "outputs": [],
   "source": [
    "model = DDG_RDE_Network(args)"
   ]
  },
  {
   "cell_type": "code",
   "execution_count": 7,
   "metadata": {},
   "outputs": [],
   "source": [
    "import math\n",
    "\n",
    "import torch\n",
    "from torch.utils.data import DataLoader\n",
    "from torch.utils.data._utils.collate import default_collate\n",
    "\n",
    "DEFAULT_PAD_VALUES = {\n",
    "    'aa': 21, \n",
    "    'chain_nb': -1, \n",
    "    'chain_id': ' ', \n",
    "}\n",
    "class PaddingCollate(object):\n",
    "    def __init__(self, length_ref_key='aa', pad_values=DEFAULT_PAD_VALUES):\n",
    "        super().__init__()\n",
    "        self.length_ref_key = length_ref_key\n",
    "        self.pad_values = pad_values\n",
    "\n",
    "    @staticmethod\n",
    "    def _pad_last(x, n, value=0):\n",
    "        if isinstance(x, torch.Tensor):\n",
    "            assert x.size(0) <= n\n",
    "            if x.size(0) == n:\n",
    "                return x\n",
    "            pad_size = [n - x.size(0)] + list(x.shape[1:])\n",
    "            pad = torch.full(pad_size, fill_value=value).to(x)\n",
    "            return torch.cat([x, pad], dim=0)\n",
    "        elif isinstance(x, list):\n",
    "            pad = [value] * (n - len(x))\n",
    "            return x + pad\n",
    "        else:\n",
    "            return x\n",
    "\n",
    "    @staticmethod\n",
    "    def _get_common_keys(list_of_dict):\n",
    "        keys = set(list_of_dict[0].keys())\n",
    "        for d in list_of_dict[1:]:\n",
    "            keys = keys.intersection(d.keys())\n",
    "        return keys\n",
    "\n",
    "    def _get_pad_value(self, key):\n",
    "        return self.pad_values.get(key, 0)\n",
    "\n",
    "    def __call__(self, data_list):\n",
    "        # 过滤掉 None 的数据\n",
    "        data_list = [data for data in data_list if data is not None]\n",
    "\n",
    "        # 如果所有数据都被过滤掉，返回 None\n",
    "        if not data_list:\n",
    "            print(\"Warning: All data in batch are None.\")\n",
    "            return None\n",
    "\n",
    "        try:\n",
    "            max_length = max([data[self.length_ref_key].size(0) for data in data_list])\n",
    "        except KeyError:\n",
    "            print(f\"KeyError: Key '{self.length_ref_key}' not found in one of the data items.\")\n",
    "            return None\n",
    "        except ValueError:\n",
    "            print(\"ValueError: One of the data items is empty.\")\n",
    "            return None\n",
    "\n",
    "        max_length = math.ceil(max_length / 8) * 8\n",
    "\n",
    "        exclude_keys = {'esm_embeddings_wt','esm_embeddings_mut'}\n",
    "        data_list_padded = []\n",
    "        for data in data_list:\n",
    "            if data is None:\n",
    "                continue  # 再次检查并跳过 None 数据\n",
    "\n",
    "            data_padded = {}\n",
    "            for k, v in data.items():\n",
    "                if k in exclude_keys:\n",
    "                    data_padded[k] = v  # 保持原样，不填充\n",
    "                else:\n",
    "                    data_padded[k] = self._pad_last(v, max_length, value=self._get_pad_value(k))\n",
    "            data_list_padded.append(data_padded)\n",
    "\n",
    "        # 如果经过填充的数据仍然是空的，返回 None\n",
    "        if not data_list_padded:\n",
    "            print(\"Warning: No valid data to collate after padding.\")\n",
    "            return None\n",
    "\n",
    "        # 过滤掉任何仍包含 None 的数据\n",
    "        data_list_padded = [d for d in data_list_padded if all(v is not None for v in d.values())]\n",
    "\n",
    "        if not data_list_padded:\n",
    "            print(\"Warning: All data in batch are invalid after filtering.\")\n",
    "            return None\n",
    "\n",
    "        batch = default_collate(data_list_padded)\n",
    "        return batch"
   ]
  },
  {
   "cell_type": "markdown",
   "metadata": {},
   "source": [
    "dataset_size = len(dataset)\n",
    "train_size = int(0.9 * dataset_size)  # 80% 用于训练集\n",
    "val_size = int(0.1 * dataset_size)    # 10% 用于验证集\n",
    "test_size = dataset_size - train_size - val_size  # 剩下的用于测试集\n",
    "\n",
    "# 使用 random_split 来划分数据集\n",
    "train_dataset, val_dataset, test_dataset = random_split(dataset, [train_size, val_size, test_size])\n",
    "test_dataset = s669_dataset\n",
    "# 创建 PyGDataLoader 对象\n",
    "train_loader = DataLoader(train_dataset, batch_size=32, shuffle=True,collate_fn=PaddingCollate(),num_workers=4)\n",
    "val_loader = DataLoader(val_dataset, batch_size=32, shuffle=True,collate_fn=PaddingCollate(),num_workers=4)\n",
    "test_loader = DataLoader(test_dataset, batch_size=32, shuffle=True,collate_fn=PaddingCollate(),num_workers=4)"
   ]
  },
  {
   "cell_type": "code",
   "execution_count": 8,
   "metadata": {},
   "outputs": [],
   "source": [
    "dataset_size = len(train_dataset)\n",
    "train_size = int(0.9 * dataset_size)  # 80% 用于训练集\n",
    "val_size = int(0.1 * dataset_size)    # 10% 用于验证集\n",
    "test_size = dataset_size - train_size - val_size  # 剩下的用于测试集\n",
    "\n",
    "# 使用 random_split 来划分数据集\n",
    "train_dataset, val_dataset, test_dataset = random_split(train_dataset, [train_size, val_size, test_size])\n",
    "test_dataset = s1657_test_dataset\n",
    "# 创建 PyGDataLoader 对象\n",
    "train_loader = DataLoader(train_dataset, batch_size=32, shuffle=True,collate_fn=PaddingCollate(),num_workers=4)\n",
    "val_loader = DataLoader(val_dataset, batch_size=32, shuffle=True,collate_fn=PaddingCollate(),num_workers=4)\n",
    "test_loader = DataLoader(test_dataset, batch_size=32, shuffle=True,collate_fn=PaddingCollate(),num_workers=4)"
   ]
  },
  {
   "cell_type": "code",
   "execution_count": 9,
   "metadata": {},
   "outputs": [
    {
     "name": "stdout",
     "output_type": "stream",
     "text": [
      "7844\n",
      "669\n"
     ]
    }
   ],
   "source": [
    "print(len(train_dataset))\n",
    "print(len(test_dataset))"
   ]
  },
  {
   "cell_type": "code",
   "execution_count": 10,
   "metadata": {},
   "outputs": [
    {
     "name": "stderr",
     "output_type": "stream",
     "text": [
      "/tmp/ipykernel_1272984/2080559964.py:2: FutureWarning: You are using `torch.load` with `weights_only=False` (the current default value), which uses the default pickle module implicitly. It is possible to construct malicious pickle data which will execute arbitrary code during unpickling (See https://github.com/pytorch/pytorch/blob/main/SECURITY.md#untrusted-models for more details). In a future release, the default value for `weights_only` will be flipped to `True`. This limits the functions that could be executed during unpickling. Arbitrary objects will no longer be allowed to be loaded via this mode unless they are explicitly allowlisted by the user via `torch.serialization.add_safe_globals`. We recommend you start setting `weights_only=True` for any use case where you don't have full control of the loaded file. Please open an issue on GitHub for any issues related to this experimental feature.\n",
      "  vae_model.load_state_dict(torch.load(\"/home/hongtan/pretrain_single/weight/checkpoint/vae_s9683.ckpt\", map_location=device))\n"
     ]
    },
    {
     "data": {
      "text/plain": [
       "<All keys matched successfully>"
      ]
     },
     "execution_count": 10,
     "metadata": {},
     "output_type": "execute_result"
    }
   ],
   "source": [
    "vae_model = Codebook(args).to(device)\n",
    "vae_model.load_state_dict(torch.load(\"/home/hongtan/pretrain_single/weight/checkpoint/vae_s9683.ckpt\", map_location=device))"
   ]
  },
  {
   "cell_type": "code",
   "execution_count": 11,
   "metadata": {},
   "outputs": [],
   "source": [
    "import torch\n",
    "import numpy as np\n",
    "from sklearn.metrics import mean_squared_error, r2_score\n",
    "from scipy.stats import pearsonr\n",
    "from tqdm.auto import tqdm\n",
    "\n",
    "# RMSE: Mean Squared Error (MSE), then square root\n",
    "def compute_rmse(true_vals, pred_vals):\n",
    "    mse = mean_squared_error(true_vals, pred_vals)\n",
    "    return np.sqrt(mse)\n",
    "\n",
    "# PCC: Pearson correlation coefficient\n",
    "def compute_pcc(true_vals, pred_vals):\n",
    "    return pearsonr(true_vals, pred_vals)[0]\n",
    "\n",
    "# R²: Coefficient of determination\n",
    "def compute_r2(true_vals, pred_vals):\n",
    "    return r2_score(true_vals, pred_vals)"
   ]
  },
  {
   "cell_type": "markdown",
   "metadata": {},
   "source": []
  },
  {
   "cell_type": "code",
   "execution_count": 12,
   "metadata": {},
   "outputs": [],
   "source": [
    "import torch\n",
    "import numpy as np\n",
    "from sklearn.metrics import mean_squared_error, r2_score\n",
    "from scipy.stats import pearsonr\n",
    "from tqdm.auto import tqdm\n",
    "\n",
    "# RMSE: Root Mean Squared Error\n",
    "def compute_rmse(true_vals, pred_vals):\n",
    "    mse = mean_squared_error(true_vals, pred_vals)\n",
    "    return np.sqrt(mse)\n",
    "\n",
    "# PCC: Pearson correlation coefficient\n",
    "def compute_pcc(true_vals, pred_vals):\n",
    "    return pearsonr(true_vals, pred_vals)[0]\n",
    "\n",
    "# R²: Coefficient of determination (R-squared)\n",
    "def compute_r2(true_vals, pred_vals):\n",
    "    return r2_score(true_vals, pred_vals)\n",
    "\n",
    "import torch\n",
    "import numpy as np\n",
    "from sklearn.metrics import mean_squared_error, r2_score\n",
    "from scipy.stats import pearsonr\n",
    "from tqdm.auto import tqdm\n",
    "\n",
    "# RMSE: Root Mean Squared Error\n",
    "def compute_rmse(true_vals, pred_vals):\n",
    "    mse = mean_squared_error(true_vals, pred_vals)\n",
    "    return np.sqrt(mse)\n",
    "\n",
    "# PCC: Pearson correlation coefficient\n",
    "def compute_pcc(true_vals, pred_vals):\n",
    "    return pearsonr(true_vals, pred_vals)[0]\n",
    "\n",
    "# R²: Coefficient of determination (R-squared)\n",
    "def compute_r2(true_vals, pred_vals):\n",
    "    return r2_score(true_vals, pred_vals)\n",
    "\n",
    "# Helper function to move data to device\n",
    "def recursive_to(batch, device):\n",
    "    if isinstance(batch, torch.Tensor):\n",
    "        return batch.to(device)\n",
    "    elif isinstance(batch, dict):\n",
    "        return {k: recursive_to(v, device) for k, v in batch.items()}\n",
    "    elif isinstance(batch, list):\n",
    "        return [recursive_to(v, device) for v in batch]\n",
    "    else:\n",
    "        return batch\n",
    "\n",
    "def train_model(model, train_loader, val_loader, test_loader,optimizer, epochs=50, device='cuda:0'):\n",
    "    model.to(device)\n",
    "    best_val_loss = float('inf')\n",
    "    best_model_path = '/home/hongtan/pretrain_single/weight/best_model.pth'\n",
    "    for epoch in range(epochs):\n",
    "        model.train()\n",
    "        running_loss = 0.0\n",
    "\n",
    "        # Training loop with progress bar\n",
    "        with tqdm(total=len(train_loader), desc=f'Epoch {epoch+1}/{epochs}', dynamic_ncols=True) as pbar:\n",
    "            for batch in train_loader:\n",
    "                batch = recursive_to(batch, device)\n",
    "                optimizer.zero_grad()\n",
    "\n",
    "                loss, _ = model(batch,vae_model)\n",
    "                loss.backward()\n",
    "                optimizer.step()\n",
    "\n",
    "                running_loss += loss.item()\n",
    "                pbar.set_postfix({'Train Loss': loss.item()})\n",
    "                pbar.update(1)\n",
    "\n",
    "        avg_train_loss = running_loss / len(train_loader)\n",
    "        print(f'Epoch {epoch+1}/{epochs}, Train Loss: {avg_train_loss:.4f}')\n",
    "        \n",
    "        # Validation loop\n",
    "        val_rmse, val_pcc, val_r2, avg_val_loss = validate_model(model, val_loader, device)\n",
    "        print(f'Epoch {epoch+1}/{epochs}, Val Loss: {avg_val_loss:.4f}, Val RMSE: {val_rmse:.4f}, Val PCC: {val_pcc:.4f}, Val R²: {val_r2:.4f}')\n",
    "        \n",
    "        test_rmse, test_pcc, test_r2, test_val_loss = test_model(model, test_loader, device)\n",
    "        print(f'Epoch {epoch+1}/{epochs}, test RMSE: {test_rmse:.4f}, test PCC: {test_pcc:.4f}, test R²: {test_r2:.4f}')\n",
    "        if avg_val_loss < best_val_loss:\n",
    "            best_val_loss = avg_val_loss\n",
    "            torch.save(model.state_dict(), best_model_path)\n",
    "            print(f\"Best model saved with Val Loss: {avg_val_loss:.4f}\")\n",
    "\n",
    "def validate_model(model, val_loader, device):\n",
    "    model.eval()\n",
    "    \n",
    "    all_ddg_true = []\n",
    "    all_ddg_pred = []\n",
    "    val_loss = 0.0\n",
    "    with torch.no_grad():\n",
    "        for batch in tqdm(val_loader, desc='Validating', dynamic_ncols=True):\n",
    "            batch = recursive_to(batch, device)\n",
    "            \n",
    "            # Forward pass\n",
    "            loss, output_dict = model(batch,vae_model)\n",
    "            val_loss += loss.item()\n",
    "\n",
    "            # Collect true and predicted ddG values\n",
    "            ddg_true = output_dict['ddG_true'].cpu().numpy()\n",
    "            ddg_pred = output_dict['ddG_pred'].cpu().numpy()\n",
    "            \n",
    "            all_ddg_true.append(ddg_true)\n",
    "            all_ddg_pred.append(ddg_pred)\n",
    "\n",
    "    # Flatten lists of ddG values\n",
    "    all_ddg_true = np.concatenate(all_ddg_true)\n",
    "    all_ddg_pred = np.concatenate(all_ddg_pred)\n",
    "    avg_val_loss = val_loss / len(val_loader)\n",
    "    \n",
    "    # Compute RMSE, PCC, and R²\n",
    "    rmse = compute_rmse(all_ddg_true, all_ddg_pred)\n",
    "    pcc = compute_pcc(all_ddg_true, all_ddg_pred)\n",
    "    r2 = compute_r2(all_ddg_true, all_ddg_pred)\n",
    "    \n",
    "    return rmse, pcc, r2, avg_val_loss\n",
    "\n",
    "def test_model(model, test_loader, device='cuda:0'):\n",
    "    model.eval()\n",
    "    all_ddg_true = []\n",
    "    all_ddg_pred = []\n",
    "    test_loss = 0.0\n",
    "    with torch.no_grad():\n",
    "        for batch in tqdm(test_loader, desc='Testing', dynamic_ncols=True):\n",
    "            batch = recursive_to(batch, device)\n",
    "            \n",
    "            # Forward pass\n",
    "            loss, output_dict = model(batch,vae_model)\n",
    "            test_loss += loss.item()\n",
    "\n",
    "            # Collect true and predicted ddG values\n",
    "            ddg_true = output_dict['ddG_true'].cpu().numpy()\n",
    "            ddg_pred = output_dict['ddG_pred'].cpu().numpy()\n",
    "            \n",
    "            all_ddg_true.append(ddg_true)\n",
    "            all_ddg_pred.append(ddg_pred)\n",
    "\n",
    "    # Flatten lists of ddG values\n",
    "    all_ddg_true = np.concatenate(all_ddg_true)\n",
    "    all_ddg_pred = np.concatenate(all_ddg_pred)\n",
    "    avg_test_loss = test_loss / len(test_loader)\n",
    "\n",
    "    # Compute RMSE, PCC, and R²\n",
    "    rmse = compute_rmse(all_ddg_true, all_ddg_pred)\n",
    "    pcc = compute_pcc(all_ddg_true, all_ddg_pred)\n",
    "    r2 = compute_r2(all_ddg_true, all_ddg_pred)\n",
    "    \n",
    "    print(f'Test Loss: {avg_test_loss:.4f}, Test RMSE: {rmse:.4f}, Test PCC: {pcc:.4f}, Test R²: {r2:.4f}')\n",
    "    return rmse, pcc, r2, avg_test_loss\n"
   ]
  },
  {
   "cell_type": "code",
   "execution_count": 13,
   "metadata": {},
   "outputs": [],
   "source": [
    "optimizer = torch.optim.Adam(model.parameters(), lr=0.0001, weight_decay=1e-4) #1e-5\n",
    "scheduler = torch.optim.lr_scheduler.ReduceLROnPlateau(optimizer, factor=0.8, patience=10, min_lr=1e-6)\n"
   ]
  },
  {
   "cell_type": "code",
   "execution_count": 14,
   "metadata": {},
   "outputs": [
    {
     "name": "stderr",
     "output_type": "stream",
     "text": [
      "Epoch 1/100:   2%|▏         | 4/246 [00:10<06:58,  1.73s/it, Train Loss=12.9]"
     ]
    },
    {
     "name": "stdout",
     "output_type": "stream",
     "text": [
      "Skipping mutation K->S at ('A', '80'): not found in seq_map\n",
      "Skipping entry 1703 after transform.\n"
     ]
    },
    {
     "name": "stderr",
     "output_type": "stream",
     "text": [
      "Epoch 1/100:  95%|█████████▍| 233/246 [02:39<00:07,  1.69it/s, Train Loss=6.49] "
     ]
    },
    {
     "name": "stdout",
     "output_type": "stream",
     "text": [
      "Skipping entry 6409 after transform.\n"
     ]
    },
    {
     "name": "stderr",
     "output_type": "stream",
     "text": [
      "Epoch 1/100: 100%|██████████| 246/246 [02:46<00:00,  1.48it/s, Train Loss=1.31]\n"
     ]
    },
    {
     "name": "stdout",
     "output_type": "stream",
     "text": [
      "Epoch 1/100, Train Loss: 4.7167\n"
     ]
    },
    {
     "name": "stderr",
     "output_type": "stream",
     "text": [
      "Validating: 100%|██████████| 28/28 [00:13<00:00,  2.12it/s]\n"
     ]
    },
    {
     "name": "stdout",
     "output_type": "stream",
     "text": [
      "Epoch 1/100, Val Loss: 4.3698, Val RMSE: 2.0974, Val PCC: 0.2044, Val R²: 0.0253\n"
     ]
    },
    {
     "name": "stderr",
     "output_type": "stream",
     "text": [
      "Testing: 100%|██████████| 21/21 [00:10<00:00,  2.04it/s]\n"
     ]
    },
    {
     "name": "stdout",
     "output_type": "stream",
     "text": [
      "Test Loss: 2.6834, Test RMSE: 1.6388, Test PCC: 0.3239, Test R²: -0.0049\n",
      "Epoch 1/100, test RMSE: 1.6388, test PCC: 0.3239, test R²: -0.0049\n",
      "Best model saved with Val Loss: 4.3698\n"
     ]
    },
    {
     "name": "stderr",
     "output_type": "stream",
     "text": [
      "Epoch 2/100:  12%|█▏        | 30/246 [00:23<02:17,  1.57it/s, Train Loss=3.05]"
     ]
    },
    {
     "name": "stdout",
     "output_type": "stream",
     "text": [
      "Skipping entry 6409 after transform.\n"
     ]
    },
    {
     "name": "stderr",
     "output_type": "stream",
     "text": [
      "Epoch 2/100:  75%|███████▌  | 185/246 [02:11<00:38,  1.58it/s, Train Loss=4.53]"
     ]
    },
    {
     "name": "stdout",
     "output_type": "stream",
     "text": [
      "Skipping mutation K->S at ('A', '80'): not found in seq_map\n",
      "Skipping entry 1703 after transform.\n"
     ]
    },
    {
     "name": "stderr",
     "output_type": "stream",
     "text": [
      "Epoch 2/100: 100%|██████████| 246/246 [02:49<00:00,  1.45it/s, Train Loss=0.041]\n"
     ]
    },
    {
     "name": "stdout",
     "output_type": "stream",
     "text": [
      "Epoch 2/100, Train Loss: 4.3585\n"
     ]
    },
    {
     "name": "stderr",
     "output_type": "stream",
     "text": [
      "Validating: 100%|██████████| 28/28 [00:12<00:00,  2.28it/s]\n"
     ]
    },
    {
     "name": "stdout",
     "output_type": "stream",
     "text": [
      "Epoch 2/100, Val Loss: 4.1312, Val RMSE: 1.9889, Val PCC: 0.3643, Val R²: 0.1236\n"
     ]
    },
    {
     "name": "stderr",
     "output_type": "stream",
     "text": [
      "Testing: 100%|██████████| 21/21 [00:12<00:00,  1.67it/s]\n"
     ]
    },
    {
     "name": "stdout",
     "output_type": "stream",
     "text": [
      "Test Loss: 2.6759, Test RMSE: 1.6364, Test PCC: 0.3134, Test R²: -0.0020\n",
      "Epoch 2/100, test RMSE: 1.6364, test PCC: 0.3134, test R²: -0.0020\n",
      "Best model saved with Val Loss: 4.1312\n"
     ]
    },
    {
     "name": "stderr",
     "output_type": "stream",
     "text": [
      "Epoch 3/100:  46%|████▌     | 112/246 [01:19<01:23,  1.60it/s, Train Loss=2.1] "
     ]
    },
    {
     "name": "stdout",
     "output_type": "stream",
     "text": [
      "Skipping entry 6409 after transform.\n"
     ]
    },
    {
     "name": "stderr",
     "output_type": "stream",
     "text": [
      "Epoch 3/100:  61%|██████    | 150/246 [01:45<00:54,  1.75it/s, Train Loss=2.06]"
     ]
    },
    {
     "name": "stdout",
     "output_type": "stream",
     "text": [
      "Skipping mutation K->S at ('A', '80'): not found in seq_map\n"
     ]
    },
    {
     "name": "stderr",
     "output_type": "stream",
     "text": [
      "Epoch 3/100:  61%|██████▏   | 151/246 [01:45<00:54,  1.76it/s, Train Loss=2.06]"
     ]
    },
    {
     "name": "stdout",
     "output_type": "stream",
     "text": [
      "Skipping entry 1703 after transform.\n"
     ]
    },
    {
     "name": "stderr",
     "output_type": "stream",
     "text": [
      "Epoch 3/100: 100%|██████████| 246/246 [02:50<00:00,  1.44it/s, Train Loss=1.17]\n"
     ]
    },
    {
     "name": "stdout",
     "output_type": "stream",
     "text": [
      "Epoch 3/100, Train Loss: 3.9216\n"
     ]
    },
    {
     "name": "stderr",
     "output_type": "stream",
     "text": [
      "Validating: 100%|██████████| 28/28 [00:13<00:00,  2.13it/s]\n"
     ]
    },
    {
     "name": "stdout",
     "output_type": "stream",
     "text": [
      "Epoch 3/100, Val Loss: 3.6605, Val RMSE: 1.9333, Val PCC: 0.4413, Val R²: 0.1719\n"
     ]
    },
    {
     "name": "stderr",
     "output_type": "stream",
     "text": [
      "Testing: 100%|██████████| 21/21 [00:11<00:00,  1.78it/s]\n"
     ]
    },
    {
     "name": "stdout",
     "output_type": "stream",
     "text": [
      "Test Loss: 2.8153, Test RMSE: 1.6771, Test PCC: 0.3348, Test R²: -0.0524\n",
      "Epoch 3/100, test RMSE: 1.6771, test PCC: 0.3348, test R²: -0.0524\n",
      "Best model saved with Val Loss: 3.6605\n"
     ]
    },
    {
     "name": "stderr",
     "output_type": "stream",
     "text": [
      "Epoch 4/100:   0%|          | 0/246 [00:00<?, ?it/s]"
     ]
    },
    {
     "name": "stdout",
     "output_type": "stream",
     "text": [
      "Skipping mutation K->S at ('A', '80'): not found in seq_map\n",
      "Skipping entry 1703 after transform.\n"
     ]
    },
    {
     "name": "stderr",
     "output_type": "stream",
     "text": [
      "Epoch 4/100:  63%|██████▎   | 154/246 [02:02<00:59,  1.56it/s, Train Loss=2.18]"
     ]
    },
    {
     "name": "stdout",
     "output_type": "stream",
     "text": [
      "Skipping entry 6409 after transform.\n"
     ]
    },
    {
     "name": "stderr",
     "output_type": "stream",
     "text": [
      "Epoch 4/100: 100%|██████████| 246/246 [02:58<00:00,  1.38it/s, Train Loss=2.58]\n"
     ]
    },
    {
     "name": "stdout",
     "output_type": "stream",
     "text": [
      "Epoch 4/100, Train Loss: 3.7043\n"
     ]
    },
    {
     "name": "stderr",
     "output_type": "stream",
     "text": [
      "Validating: 100%|██████████| 28/28 [00:12<00:00,  2.18it/s]\n"
     ]
    },
    {
     "name": "stdout",
     "output_type": "stream",
     "text": [
      "Epoch 4/100, Val Loss: 3.5228, Val RMSE: 1.8997, Val PCC: 0.4596, Val R²: 0.2005\n"
     ]
    },
    {
     "name": "stderr",
     "output_type": "stream",
     "text": [
      "Testing: 100%|██████████| 21/21 [00:14<00:00,  1.50it/s]\n"
     ]
    },
    {
     "name": "stdout",
     "output_type": "stream",
     "text": [
      "Test Loss: 2.5301, Test RMSE: 1.5914, Test PCC: 0.3679, Test R²: 0.0523\n",
      "Epoch 4/100, test RMSE: 1.5914, test PCC: 0.3679, test R²: 0.0523\n",
      "Best model saved with Val Loss: 3.5228\n"
     ]
    },
    {
     "name": "stderr",
     "output_type": "stream",
     "text": [
      "Epoch 5/100:  31%|███▏      | 77/246 [00:56<01:41,  1.67it/s, Train Loss=5.65] "
     ]
    },
    {
     "name": "stdout",
     "output_type": "stream",
     "text": [
      "Skipping entry 6409 after transform.\n"
     ]
    },
    {
     "name": "stderr",
     "output_type": "stream",
     "text": [
      "Epoch 5/100:  39%|███▉      | 96/246 [01:07<01:25,  1.75it/s, Train Loss=3]   "
     ]
    },
    {
     "name": "stdout",
     "output_type": "stream",
     "text": [
      "Skipping mutation K->S at ('A', '80'): not found in seq_map\n",
      "Skipping entry 1703 after transform.\n"
     ]
    },
    {
     "name": "stderr",
     "output_type": "stream",
     "text": [
      "Epoch 5/100: 100%|██████████| 246/246 [02:33<00:00,  1.60it/s, Train Loss=0.159]\n"
     ]
    },
    {
     "name": "stdout",
     "output_type": "stream",
     "text": [
      "Epoch 5/100, Train Loss: 3.3406\n"
     ]
    },
    {
     "name": "stderr",
     "output_type": "stream",
     "text": [
      "Validating: 100%|██████████| 28/28 [00:18<00:00,  1.55it/s]\n"
     ]
    },
    {
     "name": "stdout",
     "output_type": "stream",
     "text": [
      "Epoch 5/100, Val Loss: 3.5830, Val RMSE: 1.8788, Val PCC: 0.5198, Val R²: 0.2179\n"
     ]
    },
    {
     "name": "stderr",
     "output_type": "stream",
     "text": [
      "Testing: 100%|██████████| 21/21 [00:11<00:00,  1.83it/s]\n"
     ]
    },
    {
     "name": "stdout",
     "output_type": "stream",
     "text": [
      "Test Loss: 2.7300, Test RMSE: 1.6532, Test PCC: 0.3660, Test R²: -0.0226\n",
      "Epoch 5/100, test RMSE: 1.6532, test PCC: 0.3660, test R²: -0.0226\n"
     ]
    },
    {
     "name": "stderr",
     "output_type": "stream",
     "text": [
      "Epoch 6/100:  10%|█         | 25/246 [00:17<02:18,  1.60it/s, Train Loss=4.01]"
     ]
    },
    {
     "name": "stdout",
     "output_type": "stream",
     "text": [
      "Skipping entry 6409 after transform.\n"
     ]
    },
    {
     "name": "stderr",
     "output_type": "stream",
     "text": [
      "Epoch 6/100:  87%|████████▋ | 215/246 [02:13<00:17,  1.76it/s, Train Loss=3]    "
     ]
    },
    {
     "name": "stdout",
     "output_type": "stream",
     "text": [
      "Skipping mutation K->S at ('A', '80'): not found in seq_map\n",
      "Skipping entry 1703 after transform.\n"
     ]
    },
    {
     "name": "stderr",
     "output_type": "stream",
     "text": [
      "Epoch 6/100: 100%|██████████| 246/246 [02:30<00:00,  1.63it/s, Train Loss=1.97]\n"
     ]
    },
    {
     "name": "stdout",
     "output_type": "stream",
     "text": [
      "Epoch 6/100, Train Loss: 2.8189\n"
     ]
    },
    {
     "name": "stderr",
     "output_type": "stream",
     "text": [
      "Validating: 100%|██████████| 28/28 [00:14<00:00,  1.87it/s]\n"
     ]
    },
    {
     "name": "stdout",
     "output_type": "stream",
     "text": [
      "Epoch 6/100, Val Loss: 3.3796, Val RMSE: 1.8420, Val PCC: 0.5328, Val R²: 0.2482\n"
     ]
    },
    {
     "name": "stderr",
     "output_type": "stream",
     "text": [
      "Testing: 100%|██████████| 21/21 [00:08<00:00,  2.42it/s]\n"
     ]
    },
    {
     "name": "stdout",
     "output_type": "stream",
     "text": [
      "Test Loss: 2.6611, Test RMSE: 1.6322, Test PCC: 0.3741, Test R²: 0.0032\n",
      "Epoch 6/100, test RMSE: 1.6322, test PCC: 0.3741, test R²: 0.0032\n",
      "Best model saved with Val Loss: 3.3796\n"
     ]
    },
    {
     "name": "stderr",
     "output_type": "stream",
     "text": [
      "Epoch 7/100:  22%|██▏       | 54/246 [00:34<01:58,  1.62it/s, Train Loss=3.95] "
     ]
    },
    {
     "name": "stdout",
     "output_type": "stream",
     "text": [
      "Skipping mutation K->S at ('A', '80'): not found in seq_map\n",
      "Skipping entry 1703 after transform.\n"
     ]
    },
    {
     "name": "stderr",
     "output_type": "stream",
     "text": [
      "Epoch 7/100:  42%|████▏     | 104/246 [01:08<01:32,  1.54it/s, Train Loss=4.78]"
     ]
    },
    {
     "name": "stdout",
     "output_type": "stream",
     "text": [
      "Skipping entry 6409 after transform.\n"
     ]
    },
    {
     "name": "stderr",
     "output_type": "stream",
     "text": [
      "Epoch 7/100: 100%|██████████| 246/246 [02:40<00:00,  1.54it/s, Train Loss=1.4]  \n"
     ]
    },
    {
     "name": "stdout",
     "output_type": "stream",
     "text": [
      "Epoch 7/100, Train Loss: 2.5247\n"
     ]
    },
    {
     "name": "stderr",
     "output_type": "stream",
     "text": [
      "Validating: 100%|██████████| 28/28 [00:15<00:00,  1.79it/s]\n"
     ]
    },
    {
     "name": "stdout",
     "output_type": "stream",
     "text": [
      "Epoch 7/100, Val Loss: 3.1396, Val RMSE: 1.7494, Val PCC: 0.5950, Val R²: 0.3219\n"
     ]
    },
    {
     "name": "stderr",
     "output_type": "stream",
     "text": [
      "Testing: 100%|██████████| 21/21 [00:17<00:00,  1.22it/s]\n"
     ]
    },
    {
     "name": "stdout",
     "output_type": "stream",
     "text": [
      "Test Loss: 2.5231, Test RMSE: 1.5841, Test PCC: 0.4142, Test R²: 0.0610\n",
      "Epoch 7/100, test RMSE: 1.5841, test PCC: 0.4142, test R²: 0.0610\n",
      "Best model saved with Val Loss: 3.1396\n"
     ]
    },
    {
     "name": "stderr",
     "output_type": "stream",
     "text": [
      "Epoch 8/100:  55%|█████▍    | 135/246 [01:36<01:26,  1.28it/s, Train Loss=0.694]"
     ]
    },
    {
     "name": "stdout",
     "output_type": "stream",
     "text": [
      "Skipping mutation K->S at ('A', '80'): not found in seq_map\n",
      "Skipping entry 1703 after transform.\n"
     ]
    },
    {
     "name": "stderr",
     "output_type": "stream",
     "text": [
      "Epoch 8/100:  89%|████████▊ | 218/246 [02:30<00:17,  1.60it/s, Train Loss=4.39] "
     ]
    },
    {
     "name": "stdout",
     "output_type": "stream",
     "text": [
      "Skipping entry 6409 after transform.\n"
     ]
    },
    {
     "name": "stderr",
     "output_type": "stream",
     "text": [
      "Epoch 8/100: 100%|██████████| 246/246 [02:46<00:00,  1.48it/s, Train Loss=1.13] \n"
     ]
    },
    {
     "name": "stdout",
     "output_type": "stream",
     "text": [
      "Epoch 8/100, Train Loss: 2.1969\n"
     ]
    },
    {
     "name": "stderr",
     "output_type": "stream",
     "text": [
      "Validating: 100%|██████████| 28/28 [00:16<00:00,  1.70it/s]\n"
     ]
    },
    {
     "name": "stdout",
     "output_type": "stream",
     "text": [
      "Epoch 8/100, Val Loss: 2.8810, Val RMSE: 1.7082, Val PCC: 0.6103, Val R²: 0.3535\n"
     ]
    },
    {
     "name": "stderr",
     "output_type": "stream",
     "text": [
      "Testing: 100%|██████████| 21/21 [00:23<00:00,  1.11s/it]\n"
     ]
    },
    {
     "name": "stdout",
     "output_type": "stream",
     "text": [
      "Test Loss: 2.4023, Test RMSE: 1.5513, Test PCC: 0.4326, Test R²: 0.0996\n",
      "Epoch 8/100, test RMSE: 1.5513, test PCC: 0.4326, test R²: 0.0996\n",
      "Best model saved with Val Loss: 2.8810\n"
     ]
    },
    {
     "name": "stderr",
     "output_type": "stream",
     "text": [
      "Epoch 9/100:  24%|██▎       | 58/246 [00:54<02:37,  1.19it/s, Train Loss=2.02] "
     ]
    },
    {
     "name": "stdout",
     "output_type": "stream",
     "text": [
      "Skipping mutation K->S at ('A', '80'): not found in seq_map\n",
      "Skipping entry 1703 after transform.\n"
     ]
    },
    {
     "name": "stderr",
     "output_type": "stream",
     "text": [
      "Epoch 9/100:  41%|████▏     | 102/246 [01:34<03:46,  1.57s/it, Train Loss=0.686]"
     ]
    },
    {
     "name": "stdout",
     "output_type": "stream",
     "text": [
      "Skipping entry 6409 after transform.\n"
     ]
    },
    {
     "name": "stderr",
     "output_type": "stream",
     "text": [
      "Epoch 9/100: 100%|██████████| 246/246 [03:13<00:00,  1.27it/s, Train Loss=0.864]\n"
     ]
    },
    {
     "name": "stdout",
     "output_type": "stream",
     "text": [
      "Epoch 9/100, Train Loss: 1.8671\n"
     ]
    },
    {
     "name": "stderr",
     "output_type": "stream",
     "text": [
      "Validating: 100%|██████████| 28/28 [00:26<00:00,  1.06it/s]\n"
     ]
    },
    {
     "name": "stdout",
     "output_type": "stream",
     "text": [
      "Epoch 9/100, Val Loss: 3.0536, Val RMSE: 1.7586, Val PCC: 0.6056, Val R²: 0.3148\n"
     ]
    },
    {
     "name": "stderr",
     "output_type": "stream",
     "text": [
      "Testing: 100%|██████████| 21/21 [00:11<00:00,  1.83it/s]\n"
     ]
    },
    {
     "name": "stdout",
     "output_type": "stream",
     "text": [
      "Test Loss: 2.6820, Test RMSE: 1.6366, Test PCC: 0.4163, Test R²: -0.0022\n",
      "Epoch 9/100, test RMSE: 1.6366, test PCC: 0.4163, test R²: -0.0022\n"
     ]
    },
    {
     "name": "stderr",
     "output_type": "stream",
     "text": [
      "Epoch 10/100:  11%|█         | 26/246 [00:16<02:07,  1.72it/s, Train Loss=0.422]"
     ]
    },
    {
     "name": "stdout",
     "output_type": "stream",
     "text": [
      "Skipping entry 6409 after transform.\n"
     ]
    },
    {
     "name": "stderr",
     "output_type": "stream",
     "text": [
      "Epoch 10/100:  86%|████████▌ | 212/246 [02:08<00:20,  1.69it/s, Train Loss=1.86] "
     ]
    },
    {
     "name": "stdout",
     "output_type": "stream",
     "text": [
      "Skipping mutation K->S at ('A', '80'): not found in seq_map\n",
      "Skipping entry 1703 after transform.\n"
     ]
    },
    {
     "name": "stderr",
     "output_type": "stream",
     "text": [
      "Epoch 10/100: 100%|██████████| 246/246 [02:28<00:00,  1.65it/s, Train Loss=0.358]\n"
     ]
    },
    {
     "name": "stdout",
     "output_type": "stream",
     "text": [
      "Epoch 10/100, Train Loss: 1.6536\n"
     ]
    },
    {
     "name": "stderr",
     "output_type": "stream",
     "text": [
      "Validating: 100%|██████████| 28/28 [00:10<00:00,  2.68it/s]\n"
     ]
    },
    {
     "name": "stdout",
     "output_type": "stream",
     "text": [
      "Epoch 10/100, Val Loss: 3.2054, Val RMSE: 1.8004, Val PCC: 0.6038, Val R²: 0.2818\n"
     ]
    },
    {
     "name": "stderr",
     "output_type": "stream",
     "text": [
      "Testing: 100%|██████████| 21/21 [00:10<00:00,  1.93it/s]\n"
     ]
    },
    {
     "name": "stdout",
     "output_type": "stream",
     "text": [
      "Test Loss: 2.8900, Test RMSE: 1.6999, Test PCC: 0.3951, Test R²: -0.0812\n",
      "Epoch 10/100, test RMSE: 1.6999, test PCC: 0.3951, test R²: -0.0812\n"
     ]
    },
    {
     "name": "stderr",
     "output_type": "stream",
     "text": [
      "Epoch 11/100:  35%|███▌      | 87/246 [01:14<01:38,  1.62it/s, Train Loss=0.866]"
     ]
    },
    {
     "name": "stdout",
     "output_type": "stream",
     "text": [
      "Skipping mutation K->S at ('A', '80'): not found in seq_map\n",
      "Skipping entry 1703 after transform.\n"
     ]
    },
    {
     "name": "stderr",
     "output_type": "stream",
     "text": [
      "Epoch 11/100:  86%|████████▌ | 212/246 [02:34<00:19,  1.71it/s, Train Loss=1.11] "
     ]
    },
    {
     "name": "stdout",
     "output_type": "stream",
     "text": [
      "Skipping entry 6409 after transform.\n"
     ]
    },
    {
     "name": "stderr",
     "output_type": "stream",
     "text": [
      "Epoch 11/100: 100%|██████████| 246/246 [02:55<00:00,  1.40it/s, Train Loss=0.141]\n"
     ]
    },
    {
     "name": "stdout",
     "output_type": "stream",
     "text": [
      "Epoch 11/100, Train Loss: 1.4141\n"
     ]
    },
    {
     "name": "stderr",
     "output_type": "stream",
     "text": [
      "Validating: 100%|██████████| 28/28 [00:13<00:00,  2.10it/s]\n"
     ]
    },
    {
     "name": "stdout",
     "output_type": "stream",
     "text": [
      "Epoch 11/100, Val Loss: 2.8320, Val RMSE: 1.6970, Val PCC: 0.6480, Val R²: 0.3619\n"
     ]
    },
    {
     "name": "stderr",
     "output_type": "stream",
     "text": [
      "Testing: 100%|██████████| 21/21 [00:12<00:00,  1.65it/s]\n"
     ]
    },
    {
     "name": "stdout",
     "output_type": "stream",
     "text": [
      "Test Loss: 2.8554, Test RMSE: 1.6895, Test PCC: 0.3843, Test R²: -0.0680\n",
      "Epoch 11/100, test RMSE: 1.6895, test PCC: 0.3843, test R²: -0.0680\n",
      "Best model saved with Val Loss: 2.8320\n"
     ]
    },
    {
     "name": "stderr",
     "output_type": "stream",
     "text": [
      "Epoch 12/100:  63%|██████▎   | 155/246 [01:42<00:55,  1.63it/s, Train Loss=1.23] "
     ]
    },
    {
     "name": "stdout",
     "output_type": "stream",
     "text": [
      "Skipping entry 6409 after transform.\n"
     ]
    },
    {
     "name": "stderr",
     "output_type": "stream",
     "text": [
      "Epoch 12/100:  92%|█████████▏| 227/246 [02:24<00:10,  1.74it/s, Train Loss=1.13] "
     ]
    },
    {
     "name": "stdout",
     "output_type": "stream",
     "text": [
      "Skipping mutation K->S at ('A', '80'): not found in seq_map\n",
      "Skipping entry 1703 after transform.\n"
     ]
    },
    {
     "name": "stderr",
     "output_type": "stream",
     "text": [
      "Epoch 12/100: 100%|██████████| 246/246 [02:35<00:00,  1.58it/s, Train Loss=1.85] \n"
     ]
    },
    {
     "name": "stdout",
     "output_type": "stream",
     "text": [
      "Epoch 12/100, Train Loss: 1.1776\n"
     ]
    },
    {
     "name": "stderr",
     "output_type": "stream",
     "text": [
      "Validating: 100%|██████████| 28/28 [00:12<00:00,  2.16it/s]\n"
     ]
    },
    {
     "name": "stdout",
     "output_type": "stream",
     "text": [
      "Epoch 12/100, Val Loss: 2.8569, Val RMSE: 1.6939, Val PCC: 0.6360, Val R²: 0.3643\n"
     ]
    },
    {
     "name": "stderr",
     "output_type": "stream",
     "text": [
      "Testing: 100%|██████████| 21/21 [00:11<00:00,  1.88it/s]\n"
     ]
    },
    {
     "name": "stdout",
     "output_type": "stream",
     "text": [
      "Test Loss: 2.7022, Test RMSE: 1.6421, Test PCC: 0.3997, Test R²: -0.0090\n",
      "Epoch 12/100, test RMSE: 1.6421, test PCC: 0.3997, test R²: -0.0090\n"
     ]
    },
    {
     "name": "stderr",
     "output_type": "stream",
     "text": [
      "Epoch 13/100:  30%|██▉       | 73/246 [00:50<01:40,  1.73it/s, Train Loss=0.67] "
     ]
    },
    {
     "name": "stdout",
     "output_type": "stream",
     "text": [
      "Skipping mutation K->S at ('A', '80'): not found in seq_map\n",
      "Skipping entry 1703 after transform.\n"
     ]
    },
    {
     "name": "stderr",
     "output_type": "stream",
     "text": [
      "Epoch 13/100:  56%|█████▌    | 138/246 [01:30<01:02,  1.72it/s, Train Loss=0.646]"
     ]
    },
    {
     "name": "stdout",
     "output_type": "stream",
     "text": [
      "Skipping entry 6409 after transform.\n"
     ]
    },
    {
     "name": "stderr",
     "output_type": "stream",
     "text": [
      "Epoch 13/100: 100%|██████████| 246/246 [02:32<00:00,  1.61it/s, Train Loss=0.363]\n"
     ]
    },
    {
     "name": "stdout",
     "output_type": "stream",
     "text": [
      "Epoch 13/100, Train Loss: 1.0092\n"
     ]
    },
    {
     "name": "stderr",
     "output_type": "stream",
     "text": [
      "Validating: 100%|██████████| 28/28 [00:12<00:00,  2.30it/s]\n"
     ]
    },
    {
     "name": "stdout",
     "output_type": "stream",
     "text": [
      "Epoch 13/100, Val Loss: 2.7210, Val RMSE: 1.6646, Val PCC: 0.6487, Val R²: 0.3861\n"
     ]
    },
    {
     "name": "stderr",
     "output_type": "stream",
     "text": [
      "Testing: 100%|██████████| 21/21 [00:09<00:00,  2.22it/s]\n"
     ]
    },
    {
     "name": "stdout",
     "output_type": "stream",
     "text": [
      "Test Loss: 2.7347, Test RMSE: 1.6533, Test PCC: 0.3883, Test R²: -0.0228\n",
      "Epoch 13/100, test RMSE: 1.6533, test PCC: 0.3883, test R²: -0.0228\n",
      "Best model saved with Val Loss: 2.7210\n"
     ]
    },
    {
     "name": "stderr",
     "output_type": "stream",
     "text": [
      "Epoch 14/100:  64%|██████▍   | 157/246 [01:41<00:51,  1.73it/s, Train Loss=0.771]"
     ]
    },
    {
     "name": "stdout",
     "output_type": "stream",
     "text": [
      "Skipping mutation K->S at ('A', '80'): not found in seq_map\n",
      "Skipping entry 1703 after transform.\n"
     ]
    },
    {
     "name": "stderr",
     "output_type": "stream",
     "text": [
      "Epoch 14/100:  86%|████████▌ | 212/246 [02:14<00:19,  1.71it/s, Train Loss=0.684]"
     ]
    },
    {
     "name": "stdout",
     "output_type": "stream",
     "text": [
      "Skipping entry 6409 after transform.\n"
     ]
    },
    {
     "name": "stderr",
     "output_type": "stream",
     "text": [
      "Epoch 14/100: 100%|██████████| 246/246 [02:34<00:00,  1.59it/s, Train Loss=0.589]\n"
     ]
    },
    {
     "name": "stdout",
     "output_type": "stream",
     "text": [
      "Epoch 14/100, Train Loss: 0.9607\n"
     ]
    },
    {
     "name": "stderr",
     "output_type": "stream",
     "text": [
      "Validating: 100%|██████████| 28/28 [00:14<00:00,  1.92it/s]\n"
     ]
    },
    {
     "name": "stdout",
     "output_type": "stream",
     "text": [
      "Epoch 14/100, Val Loss: 2.8329, Val RMSE: 1.6871, Val PCC: 0.6485, Val R²: 0.3694\n"
     ]
    },
    {
     "name": "stderr",
     "output_type": "stream",
     "text": [
      "Testing: 100%|██████████| 21/21 [00:13<00:00,  1.54it/s]\n"
     ]
    },
    {
     "name": "stdout",
     "output_type": "stream",
     "text": [
      "Test Loss: 2.7421, Test RMSE: 1.6536, Test PCC: 0.4091, Test R²: -0.0231\n",
      "Epoch 14/100, test RMSE: 1.6536, test PCC: 0.4091, test R²: -0.0231\n"
     ]
    },
    {
     "name": "stderr",
     "output_type": "stream",
     "text": [
      "Epoch 15/100:   9%|▊         | 21/246 [00:20<03:17,  1.14it/s, Train Loss=1.09] "
     ]
    },
    {
     "name": "stdout",
     "output_type": "stream",
     "text": [
      "Skipping mutation K->S at ('A', '80'): not found in seq_map\n",
      "Skipping entry 1703 after transform.\n"
     ]
    },
    {
     "name": "stderr",
     "output_type": "stream",
     "text": [
      "Epoch 15/100:  61%|██████    | 150/246 [01:45<00:55,  1.73it/s, Train Loss=0.721]"
     ]
    },
    {
     "name": "stdout",
     "output_type": "stream",
     "text": [
      "Skipping entry 6409 after transform.\n"
     ]
    },
    {
     "name": "stderr",
     "output_type": "stream",
     "text": [
      "Epoch 15/100: 100%|██████████| 246/246 [02:51<00:00,  1.44it/s, Train Loss=1.97] \n"
     ]
    },
    {
     "name": "stdout",
     "output_type": "stream",
     "text": [
      "Epoch 15/100, Train Loss: 0.8409\n"
     ]
    },
    {
     "name": "stderr",
     "output_type": "stream",
     "text": [
      "Validating: 100%|██████████| 28/28 [00:12<00:00,  2.17it/s]\n"
     ]
    },
    {
     "name": "stdout",
     "output_type": "stream",
     "text": [
      "Epoch 15/100, Val Loss: 2.7496, Val RMSE: 1.6667, Val PCC: 0.6483, Val R²: 0.3845\n"
     ]
    },
    {
     "name": "stderr",
     "output_type": "stream",
     "text": [
      "Testing: 100%|██████████| 21/21 [00:11<00:00,  1.87it/s]\n"
     ]
    },
    {
     "name": "stdout",
     "output_type": "stream",
     "text": [
      "Test Loss: 2.5857, Test RMSE: 1.6071, Test PCC: 0.4222, Test R²: 0.0336\n",
      "Epoch 15/100, test RMSE: 1.6071, test PCC: 0.4222, test R²: 0.0336\n"
     ]
    },
    {
     "name": "stderr",
     "output_type": "stream",
     "text": [
      "Epoch 16/100:  60%|█████▉    | 147/246 [01:31<00:58,  1.70it/s, Train Loss=0.988]"
     ]
    },
    {
     "name": "stdout",
     "output_type": "stream",
     "text": [
      "Skipping entry 6409 after transform.\n"
     ]
    },
    {
     "name": "stderr",
     "output_type": "stream",
     "text": [
      "Epoch 16/100:  93%|█████████▎| 229/246 [02:27<00:12,  1.41it/s, Train Loss=0.835]"
     ]
    },
    {
     "name": "stdout",
     "output_type": "stream",
     "text": [
      "Skipping mutation K->S at ('A', '80'): not found in seq_map\n",
      "Skipping entry 1703 after transform.\n"
     ]
    },
    {
     "name": "stderr",
     "output_type": "stream",
     "text": [
      "Epoch 16/100: 100%|██████████| 246/246 [02:39<00:00,  1.55it/s, Train Loss=0.702]\n"
     ]
    },
    {
     "name": "stdout",
     "output_type": "stream",
     "text": [
      "Epoch 16/100, Train Loss: 0.7476\n"
     ]
    },
    {
     "name": "stderr",
     "output_type": "stream",
     "text": [
      "Validating: 100%|██████████| 28/28 [00:12<00:00,  2.26it/s]\n"
     ]
    },
    {
     "name": "stdout",
     "output_type": "stream",
     "text": [
      "Epoch 16/100, Val Loss: 3.0455, Val RMSE: 1.7605, Val PCC: 0.6291, Val R²: 0.3133\n"
     ]
    },
    {
     "name": "stderr",
     "output_type": "stream",
     "text": [
      "Testing: 100%|██████████| 21/21 [00:12<00:00,  1.71it/s]\n"
     ]
    },
    {
     "name": "stdout",
     "output_type": "stream",
     "text": [
      "Test Loss: 3.1111, Test RMSE: 1.7656, Test PCC: 0.3484, Test R²: -0.1664\n",
      "Epoch 16/100, test RMSE: 1.7656, test PCC: 0.3484, test R²: -0.1664\n"
     ]
    },
    {
     "name": "stderr",
     "output_type": "stream",
     "text": [
      "Epoch 17/100:  24%|██▍       | 59/246 [00:39<01:49,  1.71it/s, Train Loss=0.339]"
     ]
    },
    {
     "name": "stdout",
     "output_type": "stream",
     "text": [
      "Skipping entry 6409 after transform.\n"
     ]
    },
    {
     "name": "stderr",
     "output_type": "stream",
     "text": [
      "Epoch 17/100:  83%|████████▎ | 203/246 [02:05<00:25,  1.71it/s, Train Loss=0.514]"
     ]
    },
    {
     "name": "stdout",
     "output_type": "stream",
     "text": [
      "Skipping mutation K->S at ('A', '80'): not found in seq_map\n",
      "Skipping entry 1703 after transform.\n"
     ]
    },
    {
     "name": "stderr",
     "output_type": "stream",
     "text": [
      "Epoch 17/100: 100%|██████████| 246/246 [02:29<00:00,  1.64it/s, Train Loss=0.401]\n"
     ]
    },
    {
     "name": "stdout",
     "output_type": "stream",
     "text": [
      "Epoch 17/100, Train Loss: 0.6205\n"
     ]
    },
    {
     "name": "stderr",
     "output_type": "stream",
     "text": [
      "Validating: 100%|██████████| 28/28 [00:15<00:00,  1.78it/s]\n"
     ]
    },
    {
     "name": "stdout",
     "output_type": "stream",
     "text": [
      "Epoch 17/100, Val Loss: 2.6191, Val RMSE: 1.6318, Val PCC: 0.6650, Val R²: 0.4101\n"
     ]
    },
    {
     "name": "stderr",
     "output_type": "stream",
     "text": [
      "Testing: 100%|██████████| 21/21 [00:10<00:00,  2.01it/s]\n"
     ]
    },
    {
     "name": "stdout",
     "output_type": "stream",
     "text": [
      "Test Loss: 2.5688, Test RMSE: 1.6027, Test PCC: 0.3983, Test R²: 0.0389\n",
      "Epoch 17/100, test RMSE: 1.6027, test PCC: 0.3983, test R²: 0.0389\n",
      "Best model saved with Val Loss: 2.6191\n"
     ]
    },
    {
     "name": "stderr",
     "output_type": "stream",
     "text": [
      "Epoch 18/100:  30%|███       | 75/246 [00:51<01:47,  1.59it/s, Train Loss=0.305]"
     ]
    },
    {
     "name": "stdout",
     "output_type": "stream",
     "text": [
      "Skipping mutation K->S at ('A', '80'): not found in seq_map\n",
      "Skipping entry 1703 after transform.\n"
     ]
    },
    {
     "name": "stderr",
     "output_type": "stream",
     "text": [
      "Epoch 18/100:  77%|███████▋  | 190/246 [02:00<00:33,  1.66it/s, Train Loss=0.299]"
     ]
    },
    {
     "name": "stdout",
     "output_type": "stream",
     "text": [
      "Skipping entry 6409 after transform.\n"
     ]
    },
    {
     "name": "stderr",
     "output_type": "stream",
     "text": [
      "Epoch 18/100: 100%|██████████| 246/246 [02:32<00:00,  1.61it/s, Train Loss=0.175]\n"
     ]
    },
    {
     "name": "stdout",
     "output_type": "stream",
     "text": [
      "Epoch 18/100, Train Loss: 0.5389\n"
     ]
    },
    {
     "name": "stderr",
     "output_type": "stream",
     "text": [
      "Validating: 100%|██████████| 28/28 [00:12<00:00,  2.29it/s]\n"
     ]
    },
    {
     "name": "stdout",
     "output_type": "stream",
     "text": [
      "Epoch 18/100, Val Loss: 2.9763, Val RMSE: 1.7405, Val PCC: 0.6219, Val R²: 0.3288\n"
     ]
    },
    {
     "name": "stderr",
     "output_type": "stream",
     "text": [
      "Testing: 100%|██████████| 21/21 [00:11<00:00,  1.86it/s]\n"
     ]
    },
    {
     "name": "stdout",
     "output_type": "stream",
     "text": [
      "Test Loss: 2.6350, Test RMSE: 1.6240, Test PCC: 0.4003, Test R²: 0.0131\n",
      "Epoch 18/100, test RMSE: 1.6240, test PCC: 0.4003, test R²: 0.0131\n"
     ]
    },
    {
     "name": "stderr",
     "output_type": "stream",
     "text": [
      "Epoch 19/100:  44%|████▍     | 109/246 [01:20<01:20,  1.71it/s, Train Loss=0.672]"
     ]
    },
    {
     "name": "stdout",
     "output_type": "stream",
     "text": [
      "Skipping mutation K->S at ('A', '80'): not found in seq_map\n",
      "Skipping entry 1703 after transform.\n"
     ]
    },
    {
     "name": "stderr",
     "output_type": "stream",
     "text": [
      "Epoch 19/100:  86%|████████▌ | 212/246 [02:19<00:19,  1.72it/s, Train Loss=0.44] "
     ]
    },
    {
     "name": "stdout",
     "output_type": "stream",
     "text": [
      "Skipping entry 6409 after transform.\n"
     ]
    },
    {
     "name": "stderr",
     "output_type": "stream",
     "text": [
      "Epoch 19/100: 100%|██████████| 246/246 [02:38<00:00,  1.55it/s, Train Loss=0.115]\n"
     ]
    },
    {
     "name": "stdout",
     "output_type": "stream",
     "text": [
      "Epoch 19/100, Train Loss: 0.4590\n"
     ]
    },
    {
     "name": "stderr",
     "output_type": "stream",
     "text": [
      "Validating: 100%|██████████| 28/28 [00:12<00:00,  2.21it/s]\n"
     ]
    },
    {
     "name": "stdout",
     "output_type": "stream",
     "text": [
      "Epoch 19/100, Val Loss: 2.7953, Val RMSE: 1.6898, Val PCC: 0.6439, Val R²: 0.3674\n"
     ]
    },
    {
     "name": "stderr",
     "output_type": "stream",
     "text": [
      "Testing: 100%|██████████| 21/21 [00:12<00:00,  1.63it/s]\n"
     ]
    },
    {
     "name": "stdout",
     "output_type": "stream",
     "text": [
      "Test Loss: 2.5442, Test RMSE: 1.5960, Test PCC: 0.4239, Test R²: 0.0469\n",
      "Epoch 19/100, test RMSE: 1.5960, test PCC: 0.4239, test R²: 0.0469\n"
     ]
    },
    {
     "name": "stderr",
     "output_type": "stream",
     "text": [
      "Epoch 20/100:   0%|          | 1/246 [00:01<06:45,  1.66s/it, Train Loss=0.476]"
     ]
    },
    {
     "name": "stdout",
     "output_type": "stream",
     "text": [
      "Skipping mutation K->S at ('A', '80'): not found in seq_map\n",
      "Skipping entry 1703 after transform.\n"
     ]
    },
    {
     "name": "stderr",
     "output_type": "stream",
     "text": [
      "Epoch 20/100:  89%|████████▉ | 219/246 [02:11<00:15,  1.76it/s, Train Loss=0.798]"
     ]
    },
    {
     "name": "stdout",
     "output_type": "stream",
     "text": [
      "Skipping entry 6409 after transform.\n"
     ]
    },
    {
     "name": "stderr",
     "output_type": "stream",
     "text": [
      "Epoch 20/100: 100%|██████████| 246/246 [02:26<00:00,  1.68it/s, Train Loss=0.297]\n"
     ]
    },
    {
     "name": "stdout",
     "output_type": "stream",
     "text": [
      "Epoch 20/100, Train Loss: 0.4334\n"
     ]
    },
    {
     "name": "stderr",
     "output_type": "stream",
     "text": [
      "Validating: 100%|██████████| 28/28 [00:12<00:00,  2.31it/s]\n"
     ]
    },
    {
     "name": "stdout",
     "output_type": "stream",
     "text": [
      "Epoch 20/100, Val Loss: 3.2797, Val RMSE: 1.7046, Val PCC: 0.6299, Val R²: 0.3562\n"
     ]
    },
    {
     "name": "stderr",
     "output_type": "stream",
     "text": [
      "Testing: 100%|██████████| 21/21 [00:11<00:00,  1.76it/s]\n"
     ]
    },
    {
     "name": "stdout",
     "output_type": "stream",
     "text": [
      "Test Loss: 2.6123, Test RMSE: 1.6150, Test PCC: 0.4039, Test R²: 0.0241\n",
      "Epoch 20/100, test RMSE: 1.6150, test PCC: 0.4039, test R²: 0.0241\n"
     ]
    },
    {
     "name": "stderr",
     "output_type": "stream",
     "text": [
      "Epoch 21/100:  41%|████▏     | 102/246 [01:12<01:24,  1.70it/s, Train Loss=0.299]"
     ]
    },
    {
     "name": "stdout",
     "output_type": "stream",
     "text": [
      "Skipping mutation K->S at ('A', '80'): not found in seq_map\n",
      "Skipping entry 1703 after transform.\n"
     ]
    },
    {
     "name": "stderr",
     "output_type": "stream",
     "text": [
      "Epoch 21/100:  68%|██████▊   | 167/246 [01:51<00:50,  1.57it/s, Train Loss=0.219]"
     ]
    },
    {
     "name": "stdout",
     "output_type": "stream",
     "text": [
      "Skipping entry 6409 after transform.\n"
     ]
    },
    {
     "name": "stderr",
     "output_type": "stream",
     "text": [
      "Epoch 21/100: 100%|██████████| 246/246 [02:40<00:00,  1.53it/s, Train Loss=0.183]\n"
     ]
    },
    {
     "name": "stdout",
     "output_type": "stream",
     "text": [
      "Epoch 21/100, Train Loss: 0.4009\n"
     ]
    },
    {
     "name": "stderr",
     "output_type": "stream",
     "text": [
      "Validating: 100%|██████████| 28/28 [00:19<00:00,  1.46it/s]\n"
     ]
    },
    {
     "name": "stdout",
     "output_type": "stream",
     "text": [
      "Epoch 21/100, Val Loss: 2.8059, Val RMSE: 1.6899, Val PCC: 0.6417, Val R²: 0.3672\n"
     ]
    },
    {
     "name": "stderr",
     "output_type": "stream",
     "text": [
      "Testing: 100%|██████████| 21/21 [00:14<00:00,  1.49it/s]\n"
     ]
    },
    {
     "name": "stdout",
     "output_type": "stream",
     "text": [
      "Test Loss: 2.6911, Test RMSE: 1.6393, Test PCC: 0.3927, Test R²: -0.0056\n",
      "Epoch 21/100, test RMSE: 1.6393, test PCC: 0.3927, test R²: -0.0056\n"
     ]
    },
    {
     "name": "stderr",
     "output_type": "stream",
     "text": [
      "Epoch 22/100:  56%|█████▌    | 138/246 [01:25<01:01,  1.74it/s, Train Loss=0.576] "
     ]
    },
    {
     "name": "stdout",
     "output_type": "stream",
     "text": [
      "Skipping entry 6409 after transform.\n"
     ]
    },
    {
     "name": "stderr",
     "output_type": "stream",
     "text": [
      "Epoch 22/100:  94%|█████████▍| 232/246 [02:19<00:08,  1.75it/s, Train Loss=0.284]"
     ]
    },
    {
     "name": "stdout",
     "output_type": "stream",
     "text": [
      "Skipping mutation K->S at ('A', '80'): not found in seq_map\n",
      "Skipping entry 1703 after transform.\n"
     ]
    },
    {
     "name": "stderr",
     "output_type": "stream",
     "text": [
      "Epoch 22/100: 100%|██████████| 246/246 [02:27<00:00,  1.67it/s, Train Loss=0.271]\n"
     ]
    },
    {
     "name": "stdout",
     "output_type": "stream",
     "text": [
      "Epoch 22/100, Train Loss: 0.3775\n"
     ]
    },
    {
     "name": "stderr",
     "output_type": "stream",
     "text": [
      "Validating: 100%|██████████| 28/28 [00:17<00:00,  1.59it/s]\n"
     ]
    },
    {
     "name": "stdout",
     "output_type": "stream",
     "text": [
      "Epoch 22/100, Val Loss: 2.9325, Val RMSE: 1.7220, Val PCC: 0.6328, Val R²: 0.3430\n"
     ]
    },
    {
     "name": "stderr",
     "output_type": "stream",
     "text": [
      "Testing: 100%|██████████| 21/21 [00:16<00:00,  1.29it/s]\n"
     ]
    },
    {
     "name": "stdout",
     "output_type": "stream",
     "text": [
      "Test Loss: 2.7021, Test RMSE: 1.6393, Test PCC: 0.3912, Test R²: -0.0056\n",
      "Epoch 22/100, test RMSE: 1.6393, test PCC: 0.3912, test R²: -0.0056\n"
     ]
    },
    {
     "name": "stderr",
     "output_type": "stream",
     "text": [
      "Epoch 23/100:  42%|████▏     | 103/246 [01:30<02:06,  1.13it/s, Train Loss=0.434]"
     ]
    },
    {
     "name": "stdout",
     "output_type": "stream",
     "text": [
      "Skipping mutation K->S at ('A', '80'): not found in seq_map\n"
     ]
    },
    {
     "name": "stderr",
     "output_type": "stream",
     "text": [
      "Epoch 23/100:  42%|████▏     | 104/246 [01:30<01:54,  1.24it/s, Train Loss=0.134]"
     ]
    },
    {
     "name": "stdout",
     "output_type": "stream",
     "text": [
      "Skipping entry 1703 after transform.\n"
     ]
    },
    {
     "name": "stderr",
     "output_type": "stream",
     "text": [
      "Epoch 23/100:  87%|████████▋ | 214/246 [02:43<00:20,  1.56it/s, Train Loss=0.554]"
     ]
    },
    {
     "name": "stdout",
     "output_type": "stream",
     "text": [
      "Skipping entry 6409 after transform.\n"
     ]
    },
    {
     "name": "stderr",
     "output_type": "stream",
     "text": [
      "Epoch 23/100: 100%|██████████| 246/246 [03:02<00:00,  1.35it/s, Train Loss=0.54] \n"
     ]
    },
    {
     "name": "stdout",
     "output_type": "stream",
     "text": [
      "Epoch 23/100, Train Loss: 0.3513\n"
     ]
    },
    {
     "name": "stderr",
     "output_type": "stream",
     "text": [
      "Validating: 100%|██████████| 28/28 [00:20<00:00,  1.35it/s]\n"
     ]
    },
    {
     "name": "stdout",
     "output_type": "stream",
     "text": [
      "Epoch 23/100, Val Loss: 3.1447, Val RMSE: 1.7620, Val PCC: 0.6086, Val R²: 0.3121\n"
     ]
    },
    {
     "name": "stderr",
     "output_type": "stream",
     "text": [
      "Testing: 100%|██████████| 21/21 [00:18<00:00,  1.14it/s]\n"
     ]
    },
    {
     "name": "stdout",
     "output_type": "stream",
     "text": [
      "Test Loss: 2.5600, Test RMSE: 1.5987, Test PCC: 0.4189, Test R²: 0.0437\n",
      "Epoch 23/100, test RMSE: 1.5987, test PCC: 0.4189, test R²: 0.0437\n"
     ]
    },
    {
     "name": "stderr",
     "output_type": "stream",
     "text": [
      "Epoch 24/100:  15%|█▌        | 38/246 [00:29<02:03,  1.68it/s, Train Loss=0.625]"
     ]
    },
    {
     "name": "stdout",
     "output_type": "stream",
     "text": [
      "Skipping entry 6409 after transform.\n"
     ]
    },
    {
     "name": "stderr",
     "output_type": "stream",
     "text": [
      "Epoch 24/100:  54%|█████▍    | 134/246 [01:26<01:21,  1.38it/s, Train Loss=0.295]"
     ]
    },
    {
     "name": "stdout",
     "output_type": "stream",
     "text": [
      "Skipping mutation K->S at ('A', '80'): not found in seq_map\n",
      "Skipping entry 1703 after transform.\n"
     ]
    },
    {
     "name": "stderr",
     "output_type": "stream",
     "text": [
      "Epoch 24/100: 100%|██████████| 246/246 [02:36<00:00,  1.57it/s, Train Loss=0.397]\n"
     ]
    },
    {
     "name": "stdout",
     "output_type": "stream",
     "text": [
      "Epoch 24/100, Train Loss: 0.3609\n"
     ]
    },
    {
     "name": "stderr",
     "output_type": "stream",
     "text": [
      "Validating: 100%|██████████| 28/28 [00:26<00:00,  1.06it/s]\n"
     ]
    },
    {
     "name": "stdout",
     "output_type": "stream",
     "text": [
      "Epoch 24/100, Val Loss: 2.8067, Val RMSE: 1.6942, Val PCC: 0.6487, Val R²: 0.3640\n"
     ]
    },
    {
     "name": "stderr",
     "output_type": "stream",
     "text": [
      "Testing: 100%|██████████| 21/21 [00:16<00:00,  1.29it/s]\n"
     ]
    },
    {
     "name": "stdout",
     "output_type": "stream",
     "text": [
      "Test Loss: 2.5536, Test RMSE: 1.5971, Test PCC: 0.4107, Test R²: 0.0456\n",
      "Epoch 24/100, test RMSE: 1.5971, test PCC: 0.4107, test R²: 0.0456\n"
     ]
    },
    {
     "name": "stderr",
     "output_type": "stream",
     "text": [
      "Epoch 25/100:  27%|██▋       | 67/246 [00:46<02:09,  1.38it/s, Train Loss=0.262]"
     ]
    },
    {
     "name": "stdout",
     "output_type": "stream",
     "text": [
      "Skipping mutation K->S at ('A', '80'): not found in seq_map\n",
      "Skipping entry 1703 after transform.\n"
     ]
    },
    {
     "name": "stderr",
     "output_type": "stream",
     "text": [
      "Epoch 25/100:  38%|███▊      | 93/246 [01:04<01:29,  1.71it/s, Train Loss=0.27] "
     ]
    },
    {
     "name": "stdout",
     "output_type": "stream",
     "text": [
      "Skipping entry 6409 after transform.\n"
     ]
    },
    {
     "name": "stderr",
     "output_type": "stream",
     "text": [
      "Epoch 25/100: 100%|██████████| 246/246 [02:54<00:00,  1.41it/s, Train Loss=0.235]\n"
     ]
    },
    {
     "name": "stdout",
     "output_type": "stream",
     "text": [
      "Epoch 25/100, Train Loss: 0.3213\n"
     ]
    },
    {
     "name": "stderr",
     "output_type": "stream",
     "text": [
      "Validating: 100%|██████████| 28/28 [00:17<00:00,  1.64it/s]\n"
     ]
    },
    {
     "name": "stdout",
     "output_type": "stream",
     "text": [
      "Epoch 25/100, Val Loss: 2.8853, Val RMSE: 1.6918, Val PCC: 0.6430, Val R²: 0.3659\n"
     ]
    },
    {
     "name": "stderr",
     "output_type": "stream",
     "text": [
      "Testing: 100%|██████████| 21/21 [00:19<00:00,  1.07it/s]\n"
     ]
    },
    {
     "name": "stdout",
     "output_type": "stream",
     "text": [
      "Test Loss: 2.5434, Test RMSE: 1.5929, Test PCC: 0.4199, Test R²: 0.0505\n",
      "Epoch 25/100, test RMSE: 1.5929, test PCC: 0.4199, test R²: 0.0505\n"
     ]
    },
    {
     "name": "stderr",
     "output_type": "stream",
     "text": [
      "Epoch 26/100:  35%|███▍      | 86/246 [01:18<01:37,  1.64it/s, Train Loss=0.275] "
     ]
    },
    {
     "name": "stdout",
     "output_type": "stream",
     "text": [
      "Skipping entry 6409 after transform.\n"
     ]
    },
    {
     "name": "stderr",
     "output_type": "stream",
     "text": [
      "Epoch 26/100:  67%|██████▋   | 166/246 [02:11<00:52,  1.51it/s, Train Loss=0.376]"
     ]
    },
    {
     "name": "stdout",
     "output_type": "stream",
     "text": [
      "Skipping mutation K->S at ('A', '80'): not found in seq_map\n",
      "Skipping entry 1703 after transform.\n"
     ]
    },
    {
     "name": "stderr",
     "output_type": "stream",
     "text": [
      "Epoch 26/100: 100%|██████████| 246/246 [03:00<00:00,  1.36it/s, Train Loss=0.257]\n"
     ]
    },
    {
     "name": "stdout",
     "output_type": "stream",
     "text": [
      "Epoch 26/100, Train Loss: 0.2861\n"
     ]
    },
    {
     "name": "stderr",
     "output_type": "stream",
     "text": [
      "Validating: 100%|██████████| 28/28 [00:20<00:00,  1.37it/s]\n"
     ]
    },
    {
     "name": "stdout",
     "output_type": "stream",
     "text": [
      "Epoch 26/100, Val Loss: 2.7847, Val RMSE: 1.6710, Val PCC: 0.6460, Val R²: 0.3813\n"
     ]
    },
    {
     "name": "stderr",
     "output_type": "stream",
     "text": [
      "Testing: 100%|██████████| 21/21 [00:10<00:00,  1.95it/s]\n"
     ]
    },
    {
     "name": "stdout",
     "output_type": "stream",
     "text": [
      "Test Loss: 2.4372, Test RMSE: 1.5597, Test PCC: 0.4194, Test R²: 0.0898\n",
      "Epoch 26/100, test RMSE: 1.5597, test PCC: 0.4194, test R²: 0.0898\n"
     ]
    },
    {
     "name": "stderr",
     "output_type": "stream",
     "text": [
      "Epoch 27/100:  19%|█▉        | 47/246 [00:42<01:57,  1.69it/s, Train Loss=0.512]"
     ]
    },
    {
     "name": "stdout",
     "output_type": "stream",
     "text": [
      "Skipping entry 6409 after transform.\n"
     ]
    },
    {
     "name": "stderr",
     "output_type": "stream",
     "text": [
      "Epoch 27/100:  31%|███       | 76/246 [01:09<02:06,  1.35it/s, Train Loss=0.202]"
     ]
    },
    {
     "name": "stdout",
     "output_type": "stream",
     "text": [
      "Skipping mutation K->S at ('A', '80'): not found in seq_map\n",
      "Skipping entry 1703 after transform.\n"
     ]
    },
    {
     "name": "stderr",
     "output_type": "stream",
     "text": [
      "Epoch 27/100: 100%|██████████| 246/246 [03:03<00:00,  1.34it/s, Train Loss=0.296]\n"
     ]
    },
    {
     "name": "stdout",
     "output_type": "stream",
     "text": [
      "Epoch 27/100, Train Loss: 0.2633\n"
     ]
    },
    {
     "name": "stderr",
     "output_type": "stream",
     "text": [
      "Validating: 100%|██████████| 28/28 [00:14<00:00,  1.92it/s]\n"
     ]
    },
    {
     "name": "stdout",
     "output_type": "stream",
     "text": [
      "Epoch 27/100, Val Loss: 2.7627, Val RMSE: 1.6700, Val PCC: 0.6453, Val R²: 0.3821\n"
     ]
    },
    {
     "name": "stderr",
     "output_type": "stream",
     "text": [
      "Testing: 100%|██████████| 21/21 [00:11<00:00,  1.83it/s]\n"
     ]
    },
    {
     "name": "stdout",
     "output_type": "stream",
     "text": [
      "Test Loss: 2.4924, Test RMSE: 1.5792, Test PCC: 0.4085, Test R²: 0.0668\n",
      "Epoch 27/100, test RMSE: 1.5792, test PCC: 0.4085, test R²: 0.0668\n"
     ]
    },
    {
     "name": "stderr",
     "output_type": "stream",
     "text": [
      "Epoch 28/100:  10%|▉         | 24/246 [00:19<02:30,  1.47it/s, Train Loss=0.46] "
     ]
    },
    {
     "name": "stdout",
     "output_type": "stream",
     "text": [
      "Skipping mutation K->S at ('A', '80'): not found in seq_map\n",
      "Skipping entry 1703 after transform.\n"
     ]
    },
    {
     "name": "stderr",
     "output_type": "stream",
     "text": [
      "Epoch 28/100:  78%|███████▊  | 191/246 [02:20<00:44,  1.23it/s, Train Loss=0.323]"
     ]
    },
    {
     "name": "stdout",
     "output_type": "stream",
     "text": [
      "Skipping entry 6409 after transform.\n"
     ]
    },
    {
     "name": "stderr",
     "output_type": "stream",
     "text": [
      "Epoch 28/100: 100%|██████████| 246/246 [02:54<00:00,  1.41it/s, Train Loss=0.171]\n"
     ]
    },
    {
     "name": "stdout",
     "output_type": "stream",
     "text": [
      "Epoch 28/100, Train Loss: 0.2497\n"
     ]
    },
    {
     "name": "stderr",
     "output_type": "stream",
     "text": [
      "Validating: 100%|██████████| 28/28 [00:15<00:00,  1.78it/s]\n"
     ]
    },
    {
     "name": "stdout",
     "output_type": "stream",
     "text": [
      "Epoch 28/100, Val Loss: 2.9098, Val RMSE: 1.7049, Val PCC: 0.6393, Val R²: 0.3560\n"
     ]
    },
    {
     "name": "stderr",
     "output_type": "stream",
     "text": [
      "Testing: 100%|██████████| 21/21 [00:09<00:00,  2.17it/s]\n"
     ]
    },
    {
     "name": "stdout",
     "output_type": "stream",
     "text": [
      "Test Loss: 2.5405, Test RMSE: 1.5927, Test PCC: 0.3933, Test R²: 0.0508\n",
      "Epoch 28/100, test RMSE: 1.5927, test PCC: 0.3933, test R²: 0.0508\n"
     ]
    },
    {
     "name": "stderr",
     "output_type": "stream",
     "text": [
      "Epoch 29/100:   2%|▏         | 4/246 [00:07<05:45,  1.43s/it, Train Loss=0.157]"
     ]
    },
    {
     "name": "stdout",
     "output_type": "stream",
     "text": [
      "Skipping entry 6409 after transform.\n"
     ]
    },
    {
     "name": "stderr",
     "output_type": "stream",
     "text": [
      "Epoch 29/100:  46%|████▌     | 112/246 [01:40<01:44,  1.28it/s, Train Loss=0.303]"
     ]
    },
    {
     "name": "stdout",
     "output_type": "stream",
     "text": [
      "Skipping mutation K->S at ('A', '80'): not found in seq_map\n",
      "Skipping entry 1703 after transform.\n"
     ]
    },
    {
     "name": "stderr",
     "output_type": "stream",
     "text": [
      "Epoch 29/100: 100%|██████████| 246/246 [03:27<00:00,  1.18it/s, Train Loss=0.302] \n"
     ]
    },
    {
     "name": "stdout",
     "output_type": "stream",
     "text": [
      "Epoch 29/100, Train Loss: 0.2261\n"
     ]
    },
    {
     "name": "stderr",
     "output_type": "stream",
     "text": [
      "Validating: 100%|██████████| 28/28 [00:14<00:00,  1.99it/s]\n"
     ]
    },
    {
     "name": "stdout",
     "output_type": "stream",
     "text": [
      "Epoch 29/100, Val Loss: 2.7899, Val RMSE: 1.6844, Val PCC: 0.6403, Val R²: 0.3714\n"
     ]
    },
    {
     "name": "stderr",
     "output_type": "stream",
     "text": [
      "Testing: 100%|██████████| 21/21 [00:12<00:00,  1.65it/s]\n"
     ]
    },
    {
     "name": "stdout",
     "output_type": "stream",
     "text": [
      "Test Loss: 2.5390, Test RMSE: 1.5946, Test PCC: 0.3972, Test R²: 0.0486\n",
      "Epoch 29/100, test RMSE: 1.5946, test PCC: 0.3972, test R²: 0.0486\n"
     ]
    },
    {
     "name": "stderr",
     "output_type": "stream",
     "text": [
      "Epoch 30/100:  13%|█▎        | 32/246 [00:29<02:41,  1.32it/s, Train Loss=0.294]"
     ]
    },
    {
     "name": "stdout",
     "output_type": "stream",
     "text": [
      "Skipping entry 6409 after transform.\n"
     ]
    },
    {
     "name": "stderr",
     "output_type": "stream",
     "text": [
      "Epoch 30/100:  44%|████▍     | 108/246 [01:26<02:09,  1.07it/s, Train Loss=0.177]"
     ]
    },
    {
     "name": "stdout",
     "output_type": "stream",
     "text": [
      "Skipping mutation K->S at ('A', '80'): not found in seq_map\n",
      "Skipping entry 1703 after transform.\n"
     ]
    },
    {
     "name": "stderr",
     "output_type": "stream",
     "text": [
      "Epoch 30/100: 100%|██████████| 246/246 [02:50<00:00,  1.44it/s, Train Loss=0.104] \n"
     ]
    },
    {
     "name": "stdout",
     "output_type": "stream",
     "text": [
      "Epoch 30/100, Train Loss: 0.2340\n"
     ]
    },
    {
     "name": "stderr",
     "output_type": "stream",
     "text": [
      "Validating: 100%|██████████| 28/28 [00:13<00:00,  2.02it/s]\n"
     ]
    },
    {
     "name": "stdout",
     "output_type": "stream",
     "text": [
      "Epoch 30/100, Val Loss: 2.9526, Val RMSE: 1.6896, Val PCC: 0.6373, Val R²: 0.3675\n"
     ]
    },
    {
     "name": "stderr",
     "output_type": "stream",
     "text": [
      "Testing: 100%|██████████| 21/21 [00:12<00:00,  1.62it/s]\n"
     ]
    },
    {
     "name": "stdout",
     "output_type": "stream",
     "text": [
      "Test Loss: 2.5499, Test RMSE: 1.5957, Test PCC: 0.3892, Test R²: 0.0472\n",
      "Epoch 30/100, test RMSE: 1.5957, test PCC: 0.3892, test R²: 0.0472\n"
     ]
    },
    {
     "name": "stderr",
     "output_type": "stream",
     "text": [
      "Epoch 31/100:  22%|██▏       | 55/246 [00:39<01:50,  1.73it/s, Train Loss=0.501] "
     ]
    },
    {
     "name": "stdout",
     "output_type": "stream",
     "text": [
      "Skipping entry 6409 after transform.\n"
     ]
    },
    {
     "name": "stderr",
     "output_type": "stream",
     "text": [
      "Epoch 31/100:  73%|███████▎  | 180/246 [01:54<00:37,  1.76it/s, Train Loss=0.297]"
     ]
    },
    {
     "name": "stdout",
     "output_type": "stream",
     "text": [
      "Skipping mutation K->S at ('A', '80'): not found in seq_map\n",
      "Skipping entry 1703 after transform.\n"
     ]
    },
    {
     "name": "stderr",
     "output_type": "stream",
     "text": [
      "Epoch 31/100: 100%|██████████| 246/246 [02:32<00:00,  1.62it/s, Train Loss=0.0701]\n"
     ]
    },
    {
     "name": "stdout",
     "output_type": "stream",
     "text": [
      "Epoch 31/100, Train Loss: 0.1996\n"
     ]
    },
    {
     "name": "stderr",
     "output_type": "stream",
     "text": [
      "Validating: 100%|██████████| 28/28 [00:13<00:00,  2.12it/s]\n"
     ]
    },
    {
     "name": "stdout",
     "output_type": "stream",
     "text": [
      "Epoch 31/100, Val Loss: 2.8614, Val RMSE: 1.6555, Val PCC: 0.6564, Val R²: 0.3927\n"
     ]
    },
    {
     "name": "stderr",
     "output_type": "stream",
     "text": [
      "Testing: 100%|██████████| 21/21 [00:15<00:00,  1.38it/s]\n"
     ]
    },
    {
     "name": "stdout",
     "output_type": "stream",
     "text": [
      "Test Loss: 2.6609, Test RMSE: 1.6336, Test PCC: 0.3715, Test R²: 0.0014\n",
      "Epoch 31/100, test RMSE: 1.6336, test PCC: 0.3715, test R²: 0.0014\n"
     ]
    },
    {
     "name": "stderr",
     "output_type": "stream",
     "text": [
      "Epoch 32/100:  57%|█████▋    | 139/246 [01:36<01:04,  1.67it/s, Train Loss=0.115] "
     ]
    },
    {
     "name": "stdout",
     "output_type": "stream",
     "text": [
      "Skipping entry 6409 after transform.\n"
     ]
    },
    {
     "name": "stderr",
     "output_type": "stream",
     "text": [
      "Epoch 32/100:  64%|██████▍   | 157/246 [01:47<00:52,  1.70it/s, Train Loss=0.225] "
     ]
    },
    {
     "name": "stdout",
     "output_type": "stream",
     "text": [
      "Skipping mutation K->S at ('A', '80'): not found in seq_map\n",
      "Skipping entry 1703 after transform.\n"
     ]
    },
    {
     "name": "stderr",
     "output_type": "stream",
     "text": [
      "Epoch 32/100: 100%|██████████| 246/246 [02:44<00:00,  1.50it/s, Train Loss=0.249] \n"
     ]
    },
    {
     "name": "stdout",
     "output_type": "stream",
     "text": [
      "Epoch 32/100, Train Loss: 0.1762\n"
     ]
    },
    {
     "name": "stderr",
     "output_type": "stream",
     "text": [
      "Validating: 100%|██████████| 28/28 [00:12<00:00,  2.22it/s]\n"
     ]
    },
    {
     "name": "stdout",
     "output_type": "stream",
     "text": [
      "Epoch 32/100, Val Loss: 2.7061, Val RMSE: 1.6590, Val PCC: 0.6498, Val R²: 0.3902\n"
     ]
    },
    {
     "name": "stderr",
     "output_type": "stream",
     "text": [
      "Testing: 100%|██████████| 21/21 [00:13<00:00,  1.51it/s]\n"
     ]
    },
    {
     "name": "stdout",
     "output_type": "stream",
     "text": [
      "Test Loss: 2.5774, Test RMSE: 1.6032, Test PCC: 0.3901, Test R²: 0.0383\n",
      "Epoch 32/100, test RMSE: 1.6032, test PCC: 0.3901, test R²: 0.0383\n"
     ]
    },
    {
     "name": "stderr",
     "output_type": "stream",
     "text": [
      "Epoch 33/100:   7%|▋         | 16/246 [00:12<02:26,  1.57it/s, Train Loss=0.117] "
     ]
    },
    {
     "name": "stdout",
     "output_type": "stream",
     "text": [
      "Skipping entry 6409 after transform.\n"
     ]
    },
    {
     "name": "stderr",
     "output_type": "stream",
     "text": [
      "Epoch 33/100:  89%|████████▉ | 220/246 [02:47<00:16,  1.55it/s, Train Loss=0.112] "
     ]
    },
    {
     "name": "stdout",
     "output_type": "stream",
     "text": [
      "Skipping mutation K->S at ('A', '80'): not found in seq_map\n",
      "Skipping entry 1703 after transform.\n"
     ]
    },
    {
     "name": "stderr",
     "output_type": "stream",
     "text": [
      "Epoch 33/100: 100%|██████████| 246/246 [03:05<00:00,  1.33it/s, Train Loss=0.276] \n"
     ]
    },
    {
     "name": "stdout",
     "output_type": "stream",
     "text": [
      "Epoch 33/100, Train Loss: 0.1817\n"
     ]
    },
    {
     "name": "stderr",
     "output_type": "stream",
     "text": [
      "Validating: 100%|██████████| 28/28 [00:13<00:00,  2.14it/s]\n"
     ]
    },
    {
     "name": "stdout",
     "output_type": "stream",
     "text": [
      "Epoch 33/100, Val Loss: 2.7094, Val RMSE: 1.6610, Val PCC: 0.6480, Val R²: 0.3887\n"
     ]
    },
    {
     "name": "stderr",
     "output_type": "stream",
     "text": [
      "Testing: 100%|██████████| 21/21 [00:10<00:00,  2.00it/s]\n"
     ]
    },
    {
     "name": "stdout",
     "output_type": "stream",
     "text": [
      "Test Loss: 2.4200, Test RMSE: 1.5526, Test PCC: 0.4184, Test R²: 0.0980\n",
      "Epoch 33/100, test RMSE: 1.5526, test PCC: 0.4184, test R²: 0.0980\n"
     ]
    },
    {
     "name": "stderr",
     "output_type": "stream",
     "text": [
      "Epoch 34/100:  52%|█████▏    | 127/246 [01:23<01:13,  1.62it/s, Train Loss=0.201] "
     ]
    },
    {
     "name": "stdout",
     "output_type": "stream",
     "text": [
      "Skipping entry 6409 after transform.\n"
     ]
    },
    {
     "name": "stderr",
     "output_type": "stream",
     "text": [
      "Epoch 34/100:  63%|██████▎   | 155/246 [01:40<00:55,  1.65it/s, Train Loss=0.132] "
     ]
    },
    {
     "name": "stdout",
     "output_type": "stream",
     "text": [
      "Skipping mutation K->S at ('A', '80'): not found in seq_map\n",
      "Skipping entry 1703 after transform.\n"
     ]
    },
    {
     "name": "stderr",
     "output_type": "stream",
     "text": [
      "Epoch 34/100: 100%|██████████| 246/246 [02:50<00:00,  1.44it/s, Train Loss=0.0692]\n"
     ]
    },
    {
     "name": "stdout",
     "output_type": "stream",
     "text": [
      "Epoch 34/100, Train Loss: 0.1807\n"
     ]
    },
    {
     "name": "stderr",
     "output_type": "stream",
     "text": [
      "Validating: 100%|██████████| 28/28 [00:13<00:00,  2.15it/s]\n"
     ]
    },
    {
     "name": "stdout",
     "output_type": "stream",
     "text": [
      "Epoch 34/100, Val Loss: 2.6189, Val RMSE: 1.6217, Val PCC: 0.6684, Val R²: 0.4173\n"
     ]
    },
    {
     "name": "stderr",
     "output_type": "stream",
     "text": [
      "Testing: 100%|██████████| 21/21 [00:10<00:00,  1.91it/s]\n"
     ]
    },
    {
     "name": "stdout",
     "output_type": "stream",
     "text": [
      "Test Loss: 2.4226, Test RMSE: 1.5582, Test PCC: 0.4163, Test R²: 0.0915\n",
      "Epoch 34/100, test RMSE: 1.5582, test PCC: 0.4163, test R²: 0.0915\n",
      "Best model saved with Val Loss: 2.6189\n"
     ]
    },
    {
     "name": "stderr",
     "output_type": "stream",
     "text": [
      "Epoch 35/100:  38%|███▊      | 94/246 [01:21<01:34,  1.61it/s, Train Loss=0.158] "
     ]
    },
    {
     "name": "stdout",
     "output_type": "stream",
     "text": [
      "Skipping entry 6409 after transform.\n"
     ]
    },
    {
     "name": "stderr",
     "output_type": "stream",
     "text": [
      "Epoch 35/100:  86%|████████▌ | 211/246 [02:45<00:21,  1.59it/s, Train Loss=0.626] "
     ]
    },
    {
     "name": "stdout",
     "output_type": "stream",
     "text": [
      "Skipping mutation K->S at ('A', '80'): not found in seq_map\n",
      "Skipping entry 1703 after transform.\n"
     ]
    },
    {
     "name": "stderr",
     "output_type": "stream",
     "text": [
      "Epoch 35/100: 100%|██████████| 246/246 [03:19<00:00,  1.23it/s, Train Loss=0.997] \n"
     ]
    },
    {
     "name": "stdout",
     "output_type": "stream",
     "text": [
      "Epoch 35/100, Train Loss: 0.1824\n"
     ]
    },
    {
     "name": "stderr",
     "output_type": "stream",
     "text": [
      "Validating: 100%|██████████| 28/28 [00:13<00:00,  2.15it/s]\n"
     ]
    },
    {
     "name": "stdout",
     "output_type": "stream",
     "text": [
      "Epoch 35/100, Val Loss: 2.5904, Val RMSE: 1.6210, Val PCC: 0.6620, Val R²: 0.4178\n"
     ]
    },
    {
     "name": "stderr",
     "output_type": "stream",
     "text": [
      "Testing: 100%|██████████| 21/21 [00:10<00:00,  2.09it/s]\n"
     ]
    },
    {
     "name": "stdout",
     "output_type": "stream",
     "text": [
      "Test Loss: 2.4510, Test RMSE: 1.5653, Test PCC: 0.3963, Test R²: 0.0832\n",
      "Epoch 35/100, test RMSE: 1.5653, test PCC: 0.3963, test R²: 0.0832\n",
      "Best model saved with Val Loss: 2.5904\n"
     ]
    },
    {
     "name": "stderr",
     "output_type": "stream",
     "text": [
      "Epoch 36/100:  69%|██████▉   | 170/246 [02:57<00:47,  1.60it/s, Train Loss=0.152]"
     ]
    },
    {
     "name": "stdout",
     "output_type": "stream",
     "text": [
      "Skipping mutation K->S at ('A', '80'): not found in seq_map\n",
      "Skipping entry 1703 after transform.\n"
     ]
    },
    {
     "name": "stderr",
     "output_type": "stream",
     "text": [
      "Epoch 36/100:  79%|███████▉  | 195/246 [03:14<00:47,  1.07it/s, Train Loss=0.128]"
     ]
    },
    {
     "name": "stdout",
     "output_type": "stream",
     "text": [
      "Skipping entry 6409 after transform.\n"
     ]
    },
    {
     "name": "stderr",
     "output_type": "stream",
     "text": [
      "Epoch 36/100: 100%|██████████| 246/246 [03:59<00:00,  1.03it/s, Train Loss=0.0239]\n"
     ]
    },
    {
     "name": "stdout",
     "output_type": "stream",
     "text": [
      "Epoch 36/100, Train Loss: 0.2937\n"
     ]
    },
    {
     "name": "stderr",
     "output_type": "stream",
     "text": [
      "Validating: 100%|██████████| 28/28 [00:13<00:00,  2.14it/s]\n"
     ]
    },
    {
     "name": "stdout",
     "output_type": "stream",
     "text": [
      "Epoch 36/100, Val Loss: 2.8908, Val RMSE: 1.7144, Val PCC: 0.6224, Val R²: 0.3488\n"
     ]
    },
    {
     "name": "stderr",
     "output_type": "stream",
     "text": [
      "Testing: 100%|██████████| 21/21 [00:15<00:00,  1.36it/s]\n"
     ]
    },
    {
     "name": "stdout",
     "output_type": "stream",
     "text": [
      "Test Loss: 2.4649, Test RMSE: 1.5658, Test PCC: 0.4095, Test R²: 0.0826\n",
      "Epoch 36/100, test RMSE: 1.5658, test PCC: 0.4095, test R²: 0.0826\n"
     ]
    },
    {
     "name": "stderr",
     "output_type": "stream",
     "text": [
      "Epoch 37/100:   0%|          | 0/246 [00:00<?, ?it/s]"
     ]
    },
    {
     "name": "stdout",
     "output_type": "stream",
     "text": [
      "Skipping mutation K->S at ('A', '80'): not found in seq_map\n",
      "Skipping entry 1703 after transform.\n"
     ]
    },
    {
     "name": "stderr",
     "output_type": "stream",
     "text": [
      "Epoch 37/100:  63%|██████▎   | 156/246 [01:37<00:54,  1.65it/s, Train Loss=0.199] "
     ]
    },
    {
     "name": "stdout",
     "output_type": "stream",
     "text": [
      "Skipping entry 6409 after transform.\n"
     ]
    },
    {
     "name": "stderr",
     "output_type": "stream",
     "text": [
      "Epoch 37/100: 100%|██████████| 246/246 [02:30<00:00,  1.63it/s, Train Loss=0.155] \n"
     ]
    },
    {
     "name": "stdout",
     "output_type": "stream",
     "text": [
      "Epoch 37/100, Train Loss: 0.2086\n"
     ]
    },
    {
     "name": "stderr",
     "output_type": "stream",
     "text": [
      "Validating: 100%|██████████| 28/28 [00:14<00:00,  1.97it/s]\n"
     ]
    },
    {
     "name": "stdout",
     "output_type": "stream",
     "text": [
      "Epoch 37/100, Val Loss: 2.8792, Val RMSE: 1.6654, Val PCC: 0.6506, Val R²: 0.3855\n"
     ]
    },
    {
     "name": "stderr",
     "output_type": "stream",
     "text": [
      "Testing: 100%|██████████| 21/21 [00:10<00:00,  2.01it/s]\n"
     ]
    },
    {
     "name": "stdout",
     "output_type": "stream",
     "text": [
      "Test Loss: 2.5526, Test RMSE: 1.5983, Test PCC: 0.3660, Test R²: 0.0441\n",
      "Epoch 37/100, test RMSE: 1.5983, test PCC: 0.3660, test R²: 0.0441\n"
     ]
    },
    {
     "name": "stderr",
     "output_type": "stream",
     "text": [
      "Epoch 38/100:  30%|███       | 75/246 [00:50<01:44,  1.64it/s, Train Loss=0.146] "
     ]
    },
    {
     "name": "stdout",
     "output_type": "stream",
     "text": [
      "Skipping entry 6409 after transform.\n"
     ]
    },
    {
     "name": "stderr",
     "output_type": "stream",
     "text": [
      "Epoch 38/100:  33%|███▎      | 81/246 [00:53<01:39,  1.65it/s, Train Loss=0.109] "
     ]
    },
    {
     "name": "stdout",
     "output_type": "stream",
     "text": [
      "Skipping mutation K->S at ('A', '80'): not found in seq_map\n",
      "Skipping entry 1703 after transform.\n"
     ]
    },
    {
     "name": "stderr",
     "output_type": "stream",
     "text": [
      "Epoch 38/100: 100%|██████████| 246/246 [02:32<00:00,  1.61it/s, Train Loss=0.0424]\n"
     ]
    },
    {
     "name": "stdout",
     "output_type": "stream",
     "text": [
      "Epoch 38/100, Train Loss: 0.1575\n"
     ]
    },
    {
     "name": "stderr",
     "output_type": "stream",
     "text": [
      "Validating: 100%|██████████| 28/28 [00:16<00:00,  1.74it/s]\n"
     ]
    },
    {
     "name": "stdout",
     "output_type": "stream",
     "text": [
      "Epoch 38/100, Val Loss: 2.6332, Val RMSE: 1.6407, Val PCC: 0.6555, Val R²: 0.4036\n"
     ]
    },
    {
     "name": "stderr",
     "output_type": "stream",
     "text": [
      "Testing: 100%|██████████| 21/21 [00:15<00:00,  1.39it/s]\n"
     ]
    },
    {
     "name": "stdout",
     "output_type": "stream",
     "text": [
      "Test Loss: 2.3599, Test RMSE: 1.5364, Test PCC: 0.4267, Test R²: 0.1167\n",
      "Epoch 38/100, test RMSE: 1.5364, test PCC: 0.4267, test R²: 0.1167\n"
     ]
    },
    {
     "name": "stderr",
     "output_type": "stream",
     "text": [
      "Epoch 39/100:   4%|▎         | 9/246 [00:11<03:23,  1.16it/s, Train Loss=0.253] "
     ]
    },
    {
     "name": "stdout",
     "output_type": "stream",
     "text": [
      "Skipping entry 6409 after transform.\n"
     ]
    },
    {
     "name": "stderr",
     "output_type": "stream",
     "text": [
      "Epoch 39/100:  31%|███▏      | 77/246 [00:53<01:37,  1.74it/s, Train Loss=0.103] "
     ]
    },
    {
     "name": "stdout",
     "output_type": "stream",
     "text": [
      "Skipping mutation K->S at ('A', '80'): not found in seq_map\n",
      "Skipping entry 1703 after transform.\n"
     ]
    },
    {
     "name": "stderr",
     "output_type": "stream",
     "text": [
      "Epoch 39/100: 100%|██████████| 246/246 [02:35<00:00,  1.58it/s, Train Loss=0.0527]\n"
     ]
    },
    {
     "name": "stdout",
     "output_type": "stream",
     "text": [
      "Epoch 39/100, Train Loss: 0.1430\n"
     ]
    },
    {
     "name": "stderr",
     "output_type": "stream",
     "text": [
      "Validating: 100%|██████████| 28/28 [00:10<00:00,  2.62it/s]\n"
     ]
    },
    {
     "name": "stdout",
     "output_type": "stream",
     "text": [
      "Epoch 39/100, Val Loss: 2.8441, Val RMSE: 1.6777, Val PCC: 0.6399, Val R²: 0.3764\n"
     ]
    },
    {
     "name": "stderr",
     "output_type": "stream",
     "text": [
      "Testing: 100%|██████████| 21/21 [00:16<00:00,  1.24it/s]\n"
     ]
    },
    {
     "name": "stdout",
     "output_type": "stream",
     "text": [
      "Test Loss: 2.3624, Test RMSE: 1.5366, Test PCC: 0.4260, Test R²: 0.1166\n",
      "Epoch 39/100, test RMSE: 1.5366, test PCC: 0.4260, test R²: 0.1166\n"
     ]
    },
    {
     "name": "stderr",
     "output_type": "stream",
     "text": [
      "Epoch 40/100:  13%|█▎        | 33/246 [00:23<02:04,  1.72it/s, Train Loss=0.0408]"
     ]
    },
    {
     "name": "stdout",
     "output_type": "stream",
     "text": [
      "Skipping entry 6409 after transform.\n"
     ]
    },
    {
     "name": "stderr",
     "output_type": "stream",
     "text": [
      "Epoch 40/100:  37%|███▋      | 91/246 [00:57<01:30,  1.72it/s, Train Loss=0.0715]"
     ]
    },
    {
     "name": "stdout",
     "output_type": "stream",
     "text": [
      "Skipping mutation K->S at ('A', '80'): not found in seq_map\n",
      "Skipping entry 1703 after transform.\n"
     ]
    },
    {
     "name": "stderr",
     "output_type": "stream",
     "text": [
      "Epoch 40/100: 100%|██████████| 246/246 [02:29<00:00,  1.64it/s, Train Loss=0.279] \n"
     ]
    },
    {
     "name": "stdout",
     "output_type": "stream",
     "text": [
      "Epoch 40/100, Train Loss: 0.1193\n"
     ]
    },
    {
     "name": "stderr",
     "output_type": "stream",
     "text": [
      "Validating: 100%|██████████| 28/28 [00:13<00:00,  2.01it/s]\n"
     ]
    },
    {
     "name": "stdout",
     "output_type": "stream",
     "text": [
      "Epoch 40/100, Val Loss: 2.7099, Val RMSE: 1.6318, Val PCC: 0.6620, Val R²: 0.4100\n"
     ]
    },
    {
     "name": "stderr",
     "output_type": "stream",
     "text": [
      "Testing: 100%|██████████| 21/21 [00:10<00:00,  1.96it/s]\n"
     ]
    },
    {
     "name": "stdout",
     "output_type": "stream",
     "text": [
      "Test Loss: 2.4751, Test RMSE: 1.5715, Test PCC: 0.3955, Test R²: 0.0759\n",
      "Epoch 40/100, test RMSE: 1.5715, test PCC: 0.3955, test R²: 0.0759\n"
     ]
    },
    {
     "name": "stderr",
     "output_type": "stream",
     "text": [
      "Epoch 41/100:  54%|█████▎    | 132/246 [01:54<01:18,  1.45it/s, Train Loss=0.189] "
     ]
    },
    {
     "name": "stdout",
     "output_type": "stream",
     "text": [
      "Skipping mutation K->S at ('A', '80'): not found in seq_map\n",
      "Skipping entry 1703 after transform.\n"
     ]
    },
    {
     "name": "stderr",
     "output_type": "stream",
     "text": [
      "Epoch 41/100:  73%|███████▎  | 179/246 [02:33<00:50,  1.32it/s, Train Loss=0.116] "
     ]
    },
    {
     "name": "stdout",
     "output_type": "stream",
     "text": [
      "Skipping entry 6409 after transform.\n"
     ]
    },
    {
     "name": "stderr",
     "output_type": "stream",
     "text": [
      "Epoch 41/100: 100%|██████████| 246/246 [03:25<00:00,  1.20it/s, Train Loss=0.116] \n"
     ]
    },
    {
     "name": "stdout",
     "output_type": "stream",
     "text": [
      "Epoch 41/100, Train Loss: 0.1223\n"
     ]
    },
    {
     "name": "stderr",
     "output_type": "stream",
     "text": [
      "Validating: 100%|██████████| 28/28 [00:12<00:00,  2.30it/s]\n"
     ]
    },
    {
     "name": "stdout",
     "output_type": "stream",
     "text": [
      "Epoch 41/100, Val Loss: 2.7687, Val RMSE: 1.6791, Val PCC: 0.6370, Val R²: 0.3753\n"
     ]
    },
    {
     "name": "stderr",
     "output_type": "stream",
     "text": [
      "Testing: 100%|██████████| 21/21 [00:12<00:00,  1.73it/s]\n"
     ]
    },
    {
     "name": "stdout",
     "output_type": "stream",
     "text": [
      "Test Loss: 2.3831, Test RMSE: 1.5437, Test PCC: 0.4193, Test R²: 0.1083\n",
      "Epoch 41/100, test RMSE: 1.5437, test PCC: 0.4193, test R²: 0.1083\n"
     ]
    },
    {
     "name": "stderr",
     "output_type": "stream",
     "text": [
      "Epoch 42/100:  82%|████████▏ | 201/246 [02:15<00:45,  1.00s/it, Train Loss=0.102] "
     ]
    },
    {
     "name": "stdout",
     "output_type": "stream",
     "text": [
      "Skipping entry 6409 after transform.\n"
     ]
    },
    {
     "name": "stderr",
     "output_type": "stream",
     "text": [
      "Epoch 42/100:  90%|█████████ | 222/246 [02:30<00:16,  1.49it/s, Train Loss=0.146] "
     ]
    },
    {
     "name": "stdout",
     "output_type": "stream",
     "text": [
      "Skipping mutation K->S at ('A', '80'): not found in seq_map\n",
      "Skipping entry 1703 after transform.\n"
     ]
    },
    {
     "name": "stderr",
     "output_type": "stream",
     "text": [
      "Epoch 42/100: 100%|██████████| 246/246 [02:45<00:00,  1.49it/s, Train Loss=0.103] \n"
     ]
    },
    {
     "name": "stdout",
     "output_type": "stream",
     "text": [
      "Epoch 42/100, Train Loss: 0.1287\n"
     ]
    },
    {
     "name": "stderr",
     "output_type": "stream",
     "text": [
      "Validating: 100%|██████████| 28/28 [00:15<00:00,  1.80it/s]\n"
     ]
    },
    {
     "name": "stdout",
     "output_type": "stream",
     "text": [
      "Epoch 42/100, Val Loss: 2.7153, Val RMSE: 1.6527, Val PCC: 0.6492, Val R²: 0.3948\n"
     ]
    },
    {
     "name": "stderr",
     "output_type": "stream",
     "text": [
      "Testing: 100%|██████████| 21/21 [00:10<00:00,  2.03it/s]\n"
     ]
    },
    {
     "name": "stdout",
     "output_type": "stream",
     "text": [
      "Test Loss: 2.4074, Test RMSE: 1.5504, Test PCC: 0.4151, Test R²: 0.1006\n",
      "Epoch 42/100, test RMSE: 1.5504, test PCC: 0.4151, test R²: 0.1006\n"
     ]
    },
    {
     "name": "stderr",
     "output_type": "stream",
     "text": [
      "Epoch 43/100:  35%|███▌      | 87/246 [00:54<01:32,  1.71it/s, Train Loss=0.0593]"
     ]
    },
    {
     "name": "stdout",
     "output_type": "stream",
     "text": [
      "Skipping mutation K->S at ('A', '80'): not found in seq_map\n",
      "Skipping entry 1703 after transform.\n"
     ]
    },
    {
     "name": "stderr",
     "output_type": "stream",
     "text": [
      "Epoch 43/100:  67%|██████▋   | 165/246 [01:41<00:46,  1.73it/s, Train Loss=0.0962]"
     ]
    },
    {
     "name": "stdout",
     "output_type": "stream",
     "text": [
      "Skipping entry 6409 after transform.\n"
     ]
    },
    {
     "name": "stderr",
     "output_type": "stream",
     "text": [
      "Epoch 43/100: 100%|██████████| 246/246 [02:27<00:00,  1.66it/s, Train Loss=0.0827]\n"
     ]
    },
    {
     "name": "stdout",
     "output_type": "stream",
     "text": [
      "Epoch 43/100, Train Loss: 0.1395\n"
     ]
    },
    {
     "name": "stderr",
     "output_type": "stream",
     "text": [
      "Validating: 100%|██████████| 28/28 [00:11<00:00,  2.40it/s]\n"
     ]
    },
    {
     "name": "stdout",
     "output_type": "stream",
     "text": [
      "Epoch 43/100, Val Loss: 2.7162, Val RMSE: 1.6589, Val PCC: 0.6507, Val R²: 0.3902\n"
     ]
    },
    {
     "name": "stderr",
     "output_type": "stream",
     "text": [
      "Testing: 100%|██████████| 21/21 [00:09<00:00,  2.10it/s]\n"
     ]
    },
    {
     "name": "stdout",
     "output_type": "stream",
     "text": [
      "Test Loss: 2.3052, Test RMSE: 1.5183, Test PCC: 0.4497, Test R²: 0.1374\n",
      "Epoch 43/100, test RMSE: 1.5183, test PCC: 0.4497, test R²: 0.1374\n"
     ]
    },
    {
     "name": "stderr",
     "output_type": "stream",
     "text": [
      "Epoch 44/100:   9%|▉         | 22/246 [00:15<02:14,  1.67it/s, Train Loss=0.111] "
     ]
    },
    {
     "name": "stdout",
     "output_type": "stream",
     "text": [
      "Skipping entry 6409 after transform.\n"
     ]
    },
    {
     "name": "stderr",
     "output_type": "stream",
     "text": [
      "Epoch 44/100:  67%|██████▋   | 165/246 [01:40<00:47,  1.72it/s, Train Loss=0.0479]"
     ]
    },
    {
     "name": "stdout",
     "output_type": "stream",
     "text": [
      "Skipping mutation K->S at ('A', '80'): not found in seq_map\n",
      "Skipping entry 1703 after transform.\n"
     ]
    },
    {
     "name": "stderr",
     "output_type": "stream",
     "text": [
      "Epoch 44/100: 100%|██████████| 246/246 [02:27<00:00,  1.67it/s, Train Loss=0.033] \n"
     ]
    },
    {
     "name": "stdout",
     "output_type": "stream",
     "text": [
      "Epoch 44/100, Train Loss: 0.1399\n"
     ]
    },
    {
     "name": "stderr",
     "output_type": "stream",
     "text": [
      "Validating: 100%|██████████| 28/28 [00:11<00:00,  2.44it/s]\n"
     ]
    },
    {
     "name": "stdout",
     "output_type": "stream",
     "text": [
      "Epoch 44/100, Val Loss: 3.2091, Val RMSE: 1.6895, Val PCC: 0.6386, Val R²: 0.3676\n"
     ]
    },
    {
     "name": "stderr",
     "output_type": "stream",
     "text": [
      "Testing: 100%|██████████| 21/21 [00:13<00:00,  1.53it/s]\n"
     ]
    },
    {
     "name": "stdout",
     "output_type": "stream",
     "text": [
      "Test Loss: 2.4012, Test RMSE: 1.5492, Test PCC: 0.4214, Test R²: 0.1020\n",
      "Epoch 44/100, test RMSE: 1.5492, test PCC: 0.4214, test R²: 0.1020\n"
     ]
    },
    {
     "name": "stderr",
     "output_type": "stream",
     "text": [
      "Epoch 45/100:  57%|█████▋    | 141/246 [01:25<01:01,  1.70it/s, Train Loss=0.108] "
     ]
    },
    {
     "name": "stdout",
     "output_type": "stream",
     "text": [
      "Skipping mutation K->S at ('A', '80'): not found in seq_map\n",
      "Skipping entry 1703 after transform.\n"
     ]
    },
    {
     "name": "stderr",
     "output_type": "stream",
     "text": [
      "Epoch 45/100:  76%|███████▌  | 187/246 [01:55<00:33,  1.75it/s, Train Loss=0.249] "
     ]
    },
    {
     "name": "stdout",
     "output_type": "stream",
     "text": [
      "Skipping entry 6409 after transform.\n"
     ]
    },
    {
     "name": "stderr",
     "output_type": "stream",
     "text": [
      "Epoch 45/100: 100%|██████████| 246/246 [02:31<00:00,  1.63it/s, Train Loss=0.128] \n"
     ]
    },
    {
     "name": "stdout",
     "output_type": "stream",
     "text": [
      "Epoch 45/100, Train Loss: 0.1539\n"
     ]
    },
    {
     "name": "stderr",
     "output_type": "stream",
     "text": [
      "Validating: 100%|██████████| 28/28 [00:11<00:00,  2.45it/s]\n"
     ]
    },
    {
     "name": "stdout",
     "output_type": "stream",
     "text": [
      "Epoch 45/100, Val Loss: 2.7434, Val RMSE: 1.6660, Val PCC: 0.6498, Val R²: 0.3851\n"
     ]
    },
    {
     "name": "stderr",
     "output_type": "stream",
     "text": [
      "Testing: 100%|██████████| 21/21 [00:08<00:00,  2.37it/s]\n"
     ]
    },
    {
     "name": "stdout",
     "output_type": "stream",
     "text": [
      "Test Loss: 2.3608, Test RMSE: 1.5372, Test PCC: 0.4254, Test R²: 0.1158\n",
      "Epoch 45/100, test RMSE: 1.5372, test PCC: 0.4254, test R²: 0.1158\n"
     ]
    },
    {
     "name": "stderr",
     "output_type": "stream",
     "text": [
      "Epoch 46/100:  47%|████▋     | 115/246 [01:31<01:18,  1.67it/s, Train Loss=0.162] "
     ]
    },
    {
     "name": "stdout",
     "output_type": "stream",
     "text": [
      "Skipping mutation K->S at ('A', '80'): not found in seq_map\n",
      "Skipping entry 1703 after transform.\n"
     ]
    },
    {
     "name": "stderr",
     "output_type": "stream",
     "text": [
      "Epoch 46/100:  56%|█████▌    | 137/246 [01:46<01:06,  1.65it/s, Train Loss=0.109] "
     ]
    },
    {
     "name": "stdout",
     "output_type": "stream",
     "text": [
      "Skipping entry 6409 after transform.\n"
     ]
    },
    {
     "name": "stderr",
     "output_type": "stream",
     "text": [
      "Epoch 46/100: 100%|██████████| 246/246 [02:55<00:00,  1.40it/s, Train Loss=0.00352]\n"
     ]
    },
    {
     "name": "stdout",
     "output_type": "stream",
     "text": [
      "Epoch 46/100, Train Loss: 0.1560\n"
     ]
    },
    {
     "name": "stderr",
     "output_type": "stream",
     "text": [
      "Validating: 100%|██████████| 28/28 [00:12<00:00,  2.25it/s]\n"
     ]
    },
    {
     "name": "stdout",
     "output_type": "stream",
     "text": [
      "Epoch 46/100, Val Loss: 2.6671, Val RMSE: 1.6520, Val PCC: 0.6476, Val R²: 0.3953\n"
     ]
    },
    {
     "name": "stderr",
     "output_type": "stream",
     "text": [
      "Testing: 100%|██████████| 21/21 [00:08<00:00,  2.45it/s]\n"
     ]
    },
    {
     "name": "stdout",
     "output_type": "stream",
     "text": [
      "Test Loss: 2.2881, Test RMSE: 1.5115, Test PCC: 0.4350, Test R²: 0.1452\n",
      "Epoch 46/100, test RMSE: 1.5115, test PCC: 0.4350, test R²: 0.1452\n"
     ]
    },
    {
     "name": "stderr",
     "output_type": "stream",
     "text": [
      "Epoch 47/100:  20%|█▉        | 48/246 [00:30<01:56,  1.70it/s, Train Loss=0.151] "
     ]
    },
    {
     "name": "stdout",
     "output_type": "stream",
     "text": [
      "Skipping entry 6409 after transform.\n"
     ]
    },
    {
     "name": "stderr",
     "output_type": "stream",
     "text": [
      "Epoch 47/100:  62%|██████▏   | 153/246 [01:39<00:53,  1.73it/s, Train Loss=0.138] "
     ]
    },
    {
     "name": "stdout",
     "output_type": "stream",
     "text": [
      "Skipping mutation K->S at ('A', '80'): not found in seq_map\n",
      "Skipping entry 1703 after transform.\n"
     ]
    },
    {
     "name": "stderr",
     "output_type": "stream",
     "text": [
      "Epoch 47/100: 100%|██████████| 246/246 [02:38<00:00,  1.55it/s, Train Loss=0.0444]\n"
     ]
    },
    {
     "name": "stdout",
     "output_type": "stream",
     "text": [
      "Epoch 47/100, Train Loss: 0.1334\n"
     ]
    },
    {
     "name": "stderr",
     "output_type": "stream",
     "text": [
      "Validating: 100%|██████████| 28/28 [00:11<00:00,  2.48it/s]\n"
     ]
    },
    {
     "name": "stdout",
     "output_type": "stream",
     "text": [
      "Epoch 47/100, Val Loss: 2.7774, Val RMSE: 1.6685, Val PCC: 0.6420, Val R²: 0.3832\n"
     ]
    },
    {
     "name": "stderr",
     "output_type": "stream",
     "text": [
      "Testing: 100%|██████████| 21/21 [00:09<00:00,  2.11it/s]\n"
     ]
    },
    {
     "name": "stdout",
     "output_type": "stream",
     "text": [
      "Test Loss: 2.3040, Test RMSE: 1.5170, Test PCC: 0.4452, Test R²: 0.1390\n",
      "Epoch 47/100, test RMSE: 1.5170, test PCC: 0.4452, test R²: 0.1390\n"
     ]
    },
    {
     "name": "stderr",
     "output_type": "stream",
     "text": [
      "Epoch 48/100:  34%|███▍      | 84/246 [00:51<01:33,  1.74it/s, Train Loss=0.132] "
     ]
    },
    {
     "name": "stdout",
     "output_type": "stream",
     "text": [
      "Skipping entry 6409 after transform.\n"
     ]
    },
    {
     "name": "stderr",
     "output_type": "stream",
     "text": [
      "Epoch 48/100:  35%|███▍      | 85/246 [00:51<01:32,  1.74it/s, Train Loss=0.16] "
     ]
    },
    {
     "name": "stdout",
     "output_type": "stream",
     "text": [
      "Skipping mutation K->S at ('A', '80'): not found in seq_map\n",
      "Skipping entry 1703 after transform.\n"
     ]
    },
    {
     "name": "stderr",
     "output_type": "stream",
     "text": [
      "Epoch 48/100: 100%|██████████| 246/246 [02:26<00:00,  1.68it/s, Train Loss=0.0909]\n"
     ]
    },
    {
     "name": "stdout",
     "output_type": "stream",
     "text": [
      "Epoch 48/100, Train Loss: 0.1209\n"
     ]
    },
    {
     "name": "stderr",
     "output_type": "stream",
     "text": [
      "Validating: 100%|██████████| 28/28 [00:15<00:00,  1.76it/s]\n"
     ]
    },
    {
     "name": "stdout",
     "output_type": "stream",
     "text": [
      "Epoch 48/100, Val Loss: 2.7265, Val RMSE: 1.6530, Val PCC: 0.6490, Val R²: 0.3946\n"
     ]
    },
    {
     "name": "stderr",
     "output_type": "stream",
     "text": [
      "Testing: 100%|██████████| 21/21 [00:11<00:00,  1.83it/s]\n"
     ]
    },
    {
     "name": "stdout",
     "output_type": "stream",
     "text": [
      "Test Loss: 2.3448, Test RMSE: 1.5326, Test PCC: 0.4226, Test R²: 0.1211\n",
      "Epoch 48/100, test RMSE: 1.5326, test PCC: 0.4226, test R²: 0.1211\n"
     ]
    },
    {
     "name": "stderr",
     "output_type": "stream",
     "text": [
      "Epoch 49/100:  80%|████████  | 197/246 [01:57<00:27,  1.76it/s, Train Loss=0.0955]"
     ]
    },
    {
     "name": "stdout",
     "output_type": "stream",
     "text": [
      "Skipping mutation K->S at ('A', '80'): not found in seq_map\n",
      "Skipping entry 1703 after transform.\n"
     ]
    },
    {
     "name": "stderr",
     "output_type": "stream",
     "text": [
      "Epoch 49/100:  90%|████████▉ | 221/246 [02:10<00:14,  1.75it/s, Train Loss=0.0875]"
     ]
    },
    {
     "name": "stdout",
     "output_type": "stream",
     "text": [
      "Skipping entry 6409 after transform.\n"
     ]
    },
    {
     "name": "stderr",
     "output_type": "stream",
     "text": [
      "Epoch 49/100: 100%|██████████| 246/246 [02:26<00:00,  1.67it/s, Train Loss=0.129] \n"
     ]
    },
    {
     "name": "stdout",
     "output_type": "stream",
     "text": [
      "Epoch 49/100, Train Loss: 0.1204\n"
     ]
    },
    {
     "name": "stderr",
     "output_type": "stream",
     "text": [
      "Validating: 100%|██████████| 28/28 [00:17<00:00,  1.64it/s]\n"
     ]
    },
    {
     "name": "stdout",
     "output_type": "stream",
     "text": [
      "Epoch 49/100, Val Loss: 2.6998, Val RMSE: 1.6598, Val PCC: 0.6502, Val R²: 0.3896\n"
     ]
    },
    {
     "name": "stderr",
     "output_type": "stream",
     "text": [
      "Testing: 100%|██████████| 21/21 [00:09<00:00,  2.29it/s]\n"
     ]
    },
    {
     "name": "stdout",
     "output_type": "stream",
     "text": [
      "Test Loss: 2.2881, Test RMSE: 1.5112, Test PCC: 0.4339, Test R²: 0.1455\n",
      "Epoch 49/100, test RMSE: 1.5112, test PCC: 0.4339, test R²: 0.1455\n"
     ]
    },
    {
     "name": "stderr",
     "output_type": "stream",
     "text": [
      "Epoch 50/100:  80%|████████  | 198/246 [02:06<00:28,  1.70it/s, Train Loss=0.0935]"
     ]
    },
    {
     "name": "stdout",
     "output_type": "stream",
     "text": [
      "Skipping entry 6409 after transform.\n"
     ]
    },
    {
     "name": "stderr",
     "output_type": "stream",
     "text": [
      "Epoch 50/100:  92%|█████████▏| 226/246 [02:22<00:11,  1.74it/s, Train Loss=0.203] "
     ]
    },
    {
     "name": "stdout",
     "output_type": "stream",
     "text": [
      "Skipping mutation K->S at ('A', '80'): not found in seq_map\n",
      "Skipping entry 1703 after transform.\n"
     ]
    },
    {
     "name": "stderr",
     "output_type": "stream",
     "text": [
      "Epoch 50/100: 100%|██████████| 246/246 [02:36<00:00,  1.57it/s, Train Loss=0.0899]\n"
     ]
    },
    {
     "name": "stdout",
     "output_type": "stream",
     "text": [
      "Epoch 50/100, Train Loss: 0.1150\n"
     ]
    },
    {
     "name": "stderr",
     "output_type": "stream",
     "text": [
      "Validating: 100%|██████████| 28/28 [00:10<00:00,  2.56it/s]\n"
     ]
    },
    {
     "name": "stdout",
     "output_type": "stream",
     "text": [
      "Epoch 50/100, Val Loss: 2.7798, Val RMSE: 1.6714, Val PCC: 0.6434, Val R²: 0.3811\n"
     ]
    },
    {
     "name": "stderr",
     "output_type": "stream",
     "text": [
      "Testing: 100%|██████████| 21/21 [00:12<00:00,  1.72it/s]\n"
     ]
    },
    {
     "name": "stdout",
     "output_type": "stream",
     "text": [
      "Test Loss: 2.3612, Test RMSE: 1.5339, Test PCC: 0.4259, Test R²: 0.1197\n",
      "Epoch 50/100, test RMSE: 1.5339, test PCC: 0.4259, test R²: 0.1197\n"
     ]
    },
    {
     "name": "stderr",
     "output_type": "stream",
     "text": [
      "Epoch 51/100:  29%|██▉       | 72/246 [01:00<01:40,  1.73it/s, Train Loss=0.125] "
     ]
    },
    {
     "name": "stdout",
     "output_type": "stream",
     "text": [
      "Skipping entry 6409 after transform.\n"
     ]
    },
    {
     "name": "stderr",
     "output_type": "stream",
     "text": [
      "Epoch 51/100:  54%|█████▍    | 134/246 [01:39<01:04,  1.74it/s, Train Loss=0.0882]"
     ]
    },
    {
     "name": "stdout",
     "output_type": "stream",
     "text": [
      "Skipping mutation K->S at ('A', '80'): not found in seq_map\n",
      "Skipping entry 1703 after transform.\n"
     ]
    },
    {
     "name": "stderr",
     "output_type": "stream",
     "text": [
      "Epoch 51/100: 100%|██████████| 246/246 [02:47<00:00,  1.47it/s, Train Loss=0.122] \n"
     ]
    },
    {
     "name": "stdout",
     "output_type": "stream",
     "text": [
      "Epoch 51/100, Train Loss: 0.1048\n"
     ]
    },
    {
     "name": "stderr",
     "output_type": "stream",
     "text": [
      "Validating: 100%|██████████| 28/28 [00:13<00:00,  2.12it/s]\n"
     ]
    },
    {
     "name": "stdout",
     "output_type": "stream",
     "text": [
      "Epoch 51/100, Val Loss: 2.7273, Val RMSE: 1.6415, Val PCC: 0.6536, Val R²: 0.4030\n"
     ]
    },
    {
     "name": "stderr",
     "output_type": "stream",
     "text": [
      "Testing: 100%|██████████| 21/21 [00:14<00:00,  1.44it/s]\n"
     ]
    },
    {
     "name": "stdout",
     "output_type": "stream",
     "text": [
      "Test Loss: 2.2225, Test RMSE: 1.4910, Test PCC: 0.4582, Test R²: 0.1681\n",
      "Epoch 51/100, test RMSE: 1.4910, test PCC: 0.4582, test R²: 0.1681\n"
     ]
    },
    {
     "name": "stderr",
     "output_type": "stream",
     "text": [
      "Epoch 52/100:  57%|█████▋    | 140/246 [01:30<01:03,  1.68it/s, Train Loss=0.089] "
     ]
    },
    {
     "name": "stdout",
     "output_type": "stream",
     "text": [
      "Skipping entry 6409 after transform.\n"
     ]
    },
    {
     "name": "stderr",
     "output_type": "stream",
     "text": [
      "Epoch 52/100:  72%|███████▏  | 177/246 [01:55<00:44,  1.57it/s, Train Loss=0.108] "
     ]
    },
    {
     "name": "stdout",
     "output_type": "stream",
     "text": [
      "Skipping mutation K->S at ('A', '80'): not found in seq_map\n",
      "Skipping entry 1703 after transform.\n"
     ]
    },
    {
     "name": "stderr",
     "output_type": "stream",
     "text": [
      "Epoch 52/100: 100%|██████████| 246/246 [02:41<00:00,  1.52it/s, Train Loss=0.0368]\n"
     ]
    },
    {
     "name": "stdout",
     "output_type": "stream",
     "text": [
      "Epoch 52/100, Train Loss: 0.1186\n"
     ]
    },
    {
     "name": "stderr",
     "output_type": "stream",
     "text": [
      "Validating: 100%|██████████| 28/28 [00:15<00:00,  1.84it/s]\n"
     ]
    },
    {
     "name": "stdout",
     "output_type": "stream",
     "text": [
      "Epoch 52/100, Val Loss: 2.5989, Val RMSE: 1.6240, Val PCC: 0.6682, Val R²: 0.4157\n"
     ]
    },
    {
     "name": "stderr",
     "output_type": "stream",
     "text": [
      "Testing: 100%|██████████| 21/21 [00:12<00:00,  1.66it/s]\n"
     ]
    },
    {
     "name": "stdout",
     "output_type": "stream",
     "text": [
      "Test Loss: 2.3364, Test RMSE: 1.5288, Test PCC: 0.4214, Test R²: 0.1255\n",
      "Epoch 52/100, test RMSE: 1.5288, test PCC: 0.4214, test R²: 0.1255\n"
     ]
    },
    {
     "name": "stderr",
     "output_type": "stream",
     "text": [
      "Epoch 53/100:  49%|████▉     | 121/246 [01:36<01:13,  1.70it/s, Train Loss=0.123] "
     ]
    },
    {
     "name": "stdout",
     "output_type": "stream",
     "text": [
      "Skipping entry 6409 after transform.\n"
     ]
    },
    {
     "name": "stderr",
     "output_type": "stream",
     "text": [
      "Epoch 53/100:  80%|████████  | 197/246 [02:24<00:28,  1.75it/s, Train Loss=0.0959]"
     ]
    },
    {
     "name": "stdout",
     "output_type": "stream",
     "text": [
      "Skipping mutation K->S at ('A', '80'): not found in seq_map\n",
      "Skipping entry 1703 after transform.\n"
     ]
    },
    {
     "name": "stderr",
     "output_type": "stream",
     "text": [
      "Epoch 53/100: 100%|██████████| 246/246 [03:00<00:00,  1.37it/s, Train Loss=0.177] \n"
     ]
    },
    {
     "name": "stdout",
     "output_type": "stream",
     "text": [
      "Epoch 53/100, Train Loss: 0.1148\n"
     ]
    },
    {
     "name": "stderr",
     "output_type": "stream",
     "text": [
      "Validating: 100%|██████████| 28/28 [00:11<00:00,  2.54it/s]\n"
     ]
    },
    {
     "name": "stdout",
     "output_type": "stream",
     "text": [
      "Epoch 53/100, Val Loss: 2.6749, Val RMSE: 1.6306, Val PCC: 0.6598, Val R²: 0.4109\n"
     ]
    },
    {
     "name": "stderr",
     "output_type": "stream",
     "text": [
      "Testing: 100%|██████████| 21/21 [00:09<00:00,  2.23it/s]\n"
     ]
    },
    {
     "name": "stdout",
     "output_type": "stream",
     "text": [
      "Test Loss: 2.2532, Test RMSE: 1.4993, Test PCC: 0.4556, Test R²: 0.1588\n",
      "Epoch 53/100, test RMSE: 1.4993, test PCC: 0.4556, test R²: 0.1588\n"
     ]
    },
    {
     "name": "stderr",
     "output_type": "stream",
     "text": [
      "Epoch 54/100:  59%|█████▉    | 146/246 [01:30<01:01,  1.64it/s, Train Loss=0.121] "
     ]
    },
    {
     "name": "stdout",
     "output_type": "stream",
     "text": [
      "Skipping mutation K->S at ('A', '80'): not found in seq_map\n",
      "Skipping entry 1703 after transform.\n"
     ]
    },
    {
     "name": "stderr",
     "output_type": "stream",
     "text": [
      "Epoch 54/100:  74%|███████▍  | 182/246 [01:55<00:52,  1.21it/s, Train Loss=0.121] "
     ]
    },
    {
     "name": "stdout",
     "output_type": "stream",
     "text": [
      "Skipping entry 6409 after transform.\n"
     ]
    },
    {
     "name": "stderr",
     "output_type": "stream",
     "text": [
      "Epoch 54/100: 100%|██████████| 246/246 [03:02<00:00,  1.35it/s, Train Loss=0.0589]\n"
     ]
    },
    {
     "name": "stdout",
     "output_type": "stream",
     "text": [
      "Epoch 54/100, Train Loss: 0.1315\n"
     ]
    },
    {
     "name": "stderr",
     "output_type": "stream",
     "text": [
      "Validating: 100%|██████████| 28/28 [00:14<00:00,  1.88it/s]\n"
     ]
    },
    {
     "name": "stdout",
     "output_type": "stream",
     "text": [
      "Epoch 54/100, Val Loss: 2.5565, Val RMSE: 1.6162, Val PCC: 0.6645, Val R²: 0.4213\n"
     ]
    },
    {
     "name": "stderr",
     "output_type": "stream",
     "text": [
      "Testing: 100%|██████████| 21/21 [00:15<00:00,  1.38it/s]\n"
     ]
    },
    {
     "name": "stdout",
     "output_type": "stream",
     "text": [
      "Test Loss: 2.3466, Test RMSE: 1.5313, Test PCC: 0.4140, Test R²: 0.1226\n",
      "Epoch 54/100, test RMSE: 1.5313, test PCC: 0.4140, test R²: 0.1226\n",
      "Best model saved with Val Loss: 2.5565\n"
     ]
    },
    {
     "name": "stderr",
     "output_type": "stream",
     "text": [
      "Epoch 55/100:  29%|██▉       | 71/246 [01:18<05:12,  1.79s/it, Train Loss=0.126] "
     ]
    },
    {
     "name": "stdout",
     "output_type": "stream",
     "text": [
      "Skipping entry 6409 after transform.\n"
     ]
    },
    {
     "name": "stderr",
     "output_type": "stream",
     "text": [
      "Epoch 55/100:  34%|███▍      | 84/246 [01:33<03:49,  1.42s/it, Train Loss=0.116] "
     ]
    },
    {
     "name": "stdout",
     "output_type": "stream",
     "text": [
      "Skipping mutation K->S at ('A', '80'): not found in seq_map\n",
      "Skipping entry 1703 after transform.\n"
     ]
    },
    {
     "name": "stderr",
     "output_type": "stream",
     "text": [
      "Epoch 55/100: 100%|██████████| 246/246 [04:11<00:00,  1.02s/it, Train Loss=0.237] \n"
     ]
    },
    {
     "name": "stdout",
     "output_type": "stream",
     "text": [
      "Epoch 55/100, Train Loss: 0.1249\n"
     ]
    },
    {
     "name": "stderr",
     "output_type": "stream",
     "text": [
      "Validating: 100%|██████████| 28/28 [00:12<00:00,  2.29it/s]\n"
     ]
    },
    {
     "name": "stdout",
     "output_type": "stream",
     "text": [
      "Epoch 55/100, Val Loss: 3.1330, Val RMSE: 1.6369, Val PCC: 0.6478, Val R²: 0.4063\n"
     ]
    },
    {
     "name": "stderr",
     "output_type": "stream",
     "text": [
      "Testing: 100%|██████████| 21/21 [00:11<00:00,  1.79it/s]\n"
     ]
    },
    {
     "name": "stdout",
     "output_type": "stream",
     "text": [
      "Test Loss: 2.2135, Test RMSE: 1.4893, Test PCC: 0.4508, Test R²: 0.1701\n",
      "Epoch 55/100, test RMSE: 1.4893, test PCC: 0.4508, test R²: 0.1701\n"
     ]
    },
    {
     "name": "stderr",
     "output_type": "stream",
     "text": [
      "Epoch 56/100:  51%|█████     | 125/246 [01:37<01:44,  1.16it/s, Train Loss=0.0587]"
     ]
    },
    {
     "name": "stdout",
     "output_type": "stream",
     "text": [
      "Skipping mutation K->S at ('A', '80'): not found in seq_map\n",
      "Skipping entry 1703 after transform.\n"
     ]
    },
    {
     "name": "stderr",
     "output_type": "stream",
     "text": [
      "Epoch 56/100:  74%|███████▍  | 182/246 [02:18<01:01,  1.03it/s, Train Loss=0.0687]"
     ]
    },
    {
     "name": "stdout",
     "output_type": "stream",
     "text": [
      "Skipping entry 6409 after transform.\n"
     ]
    },
    {
     "name": "stderr",
     "output_type": "stream",
     "text": [
      "Epoch 56/100: 100%|██████████| 246/246 [03:04<00:00,  1.33it/s, Train Loss=0.0725]\n"
     ]
    },
    {
     "name": "stdout",
     "output_type": "stream",
     "text": [
      "Epoch 56/100, Train Loss: 0.1112\n"
     ]
    },
    {
     "name": "stderr",
     "output_type": "stream",
     "text": [
      "Validating: 100%|██████████| 28/28 [00:13<00:00,  2.06it/s]\n"
     ]
    },
    {
     "name": "stdout",
     "output_type": "stream",
     "text": [
      "Epoch 56/100, Val Loss: 2.6634, Val RMSE: 1.6386, Val PCC: 0.6554, Val R²: 0.4051\n"
     ]
    },
    {
     "name": "stderr",
     "output_type": "stream",
     "text": [
      "Testing: 100%|██████████| 21/21 [00:11<00:00,  1.90it/s]\n"
     ]
    },
    {
     "name": "stdout",
     "output_type": "stream",
     "text": [
      "Test Loss: 2.2097, Test RMSE: 1.4851, Test PCC: 0.4600, Test R²: 0.1747\n",
      "Epoch 56/100, test RMSE: 1.4851, test PCC: 0.4600, test R²: 0.1747\n"
     ]
    },
    {
     "name": "stderr",
     "output_type": "stream",
     "text": [
      "Epoch 57/100:  10%|▉         | 24/246 [00:21<02:28,  1.50it/s, Train Loss=0.0696]"
     ]
    },
    {
     "name": "stdout",
     "output_type": "stream",
     "text": [
      "Skipping entry 6409 after transform.\n"
     ]
    },
    {
     "name": "stderr",
     "output_type": "stream",
     "text": [
      "Epoch 57/100:  36%|███▌      | 88/246 [01:05<01:44,  1.51it/s, Train Loss=0.0722]"
     ]
    },
    {
     "name": "stdout",
     "output_type": "stream",
     "text": [
      "Skipping mutation K->S at ('A', '80'): not found in seq_map\n",
      "Skipping entry 1703 after transform.\n"
     ]
    },
    {
     "name": "stderr",
     "output_type": "stream",
     "text": [
      "Epoch 57/100: 100%|██████████| 246/246 [02:39<00:00,  1.54it/s, Train Loss=0.32]  \n"
     ]
    },
    {
     "name": "stdout",
     "output_type": "stream",
     "text": [
      "Epoch 57/100, Train Loss: 0.0980\n"
     ]
    },
    {
     "name": "stderr",
     "output_type": "stream",
     "text": [
      "Validating: 100%|██████████| 28/28 [00:11<00:00,  2.49it/s]\n"
     ]
    },
    {
     "name": "stdout",
     "output_type": "stream",
     "text": [
      "Epoch 57/100, Val Loss: 2.7116, Val RMSE: 1.6448, Val PCC: 0.6484, Val R²: 0.4006\n"
     ]
    },
    {
     "name": "stderr",
     "output_type": "stream",
     "text": [
      "Testing: 100%|██████████| 21/21 [00:12<00:00,  1.69it/s]\n"
     ]
    },
    {
     "name": "stdout",
     "output_type": "stream",
     "text": [
      "Test Loss: 2.1895, Test RMSE: 1.4810, Test PCC: 0.4555, Test R²: 0.1793\n",
      "Epoch 57/100, test RMSE: 1.4810, test PCC: 0.4555, test R²: 0.1793\n"
     ]
    },
    {
     "name": "stderr",
     "output_type": "stream",
     "text": [
      "Epoch 58/100:   3%|▎         | 8/246 [00:05<02:26,  1.62it/s, Train Loss=0.0787]"
     ]
    },
    {
     "name": "stdout",
     "output_type": "stream",
     "text": [
      "Skipping mutation K->S at ('A', '80'): not found in seq_map\n",
      "Skipping entry 1703 after transform.\n"
     ]
    },
    {
     "name": "stderr",
     "output_type": "stream",
     "text": [
      "Epoch 58/100:  62%|██████▏   | 152/246 [01:30<00:56,  1.67it/s, Train Loss=0.177] "
     ]
    },
    {
     "name": "stdout",
     "output_type": "stream",
     "text": [
      "Skipping entry 6409 after transform.\n"
     ]
    },
    {
     "name": "stderr",
     "output_type": "stream",
     "text": [
      "Epoch 58/100: 100%|██████████| 246/246 [02:31<00:00,  1.63it/s, Train Loss=0.0355]\n"
     ]
    },
    {
     "name": "stdout",
     "output_type": "stream",
     "text": [
      "Epoch 58/100, Train Loss: 0.1299\n"
     ]
    },
    {
     "name": "stderr",
     "output_type": "stream",
     "text": [
      "Validating: 100%|██████████| 28/28 [00:11<00:00,  2.46it/s]\n"
     ]
    },
    {
     "name": "stdout",
     "output_type": "stream",
     "text": [
      "Epoch 58/100, Val Loss: 2.8065, Val RMSE: 1.6909, Val PCC: 0.6374, Val R²: 0.3665\n"
     ]
    },
    {
     "name": "stderr",
     "output_type": "stream",
     "text": [
      "Testing: 100%|██████████| 21/21 [00:10<00:00,  1.99it/s]\n"
     ]
    },
    {
     "name": "stdout",
     "output_type": "stream",
     "text": [
      "Test Loss: 2.3086, Test RMSE: 1.5200, Test PCC: 0.4308, Test R²: 0.1354\n",
      "Epoch 58/100, test RMSE: 1.5200, test PCC: 0.4308, test R²: 0.1354\n"
     ]
    },
    {
     "name": "stderr",
     "output_type": "stream",
     "text": [
      "Epoch 59/100:  46%|████▌     | 112/246 [01:09<01:18,  1.71it/s, Train Loss=0.0569]"
     ]
    },
    {
     "name": "stdout",
     "output_type": "stream",
     "text": [
      "Skipping mutation K->S at ('A', '80'): not found in seq_map\n",
      "Skipping entry 1703 after transform.\n"
     ]
    },
    {
     "name": "stderr",
     "output_type": "stream",
     "text": [
      "Epoch 59/100:  46%|████▋     | 114/246 [01:10<01:16,  1.72it/s, Train Loss=0.0484]"
     ]
    },
    {
     "name": "stdout",
     "output_type": "stream",
     "text": [
      "Skipping entry 6409 after transform.\n"
     ]
    },
    {
     "name": "stderr",
     "output_type": "stream",
     "text": [
      "Epoch 59/100: 100%|██████████| 246/246 [02:27<00:00,  1.67it/s, Train Loss=0.171] \n"
     ]
    },
    {
     "name": "stdout",
     "output_type": "stream",
     "text": [
      "Epoch 59/100, Train Loss: 0.1020\n"
     ]
    },
    {
     "name": "stderr",
     "output_type": "stream",
     "text": [
      "Validating: 100%|██████████| 28/28 [00:20<00:00,  1.36it/s]\n"
     ]
    },
    {
     "name": "stdout",
     "output_type": "stream",
     "text": [
      "Epoch 59/100, Val Loss: 2.6029, Val RMSE: 1.6284, Val PCC: 0.6601, Val R²: 0.4125\n"
     ]
    },
    {
     "name": "stderr",
     "output_type": "stream",
     "text": [
      "Testing: 100%|██████████| 21/21 [00:15<00:00,  1.37it/s]\n"
     ]
    },
    {
     "name": "stdout",
     "output_type": "stream",
     "text": [
      "Test Loss: 2.2585, Test RMSE: 1.5034, Test PCC: 0.4451, Test R²: 0.1543\n",
      "Epoch 59/100, test RMSE: 1.5034, test PCC: 0.4451, test R²: 0.1543\n"
     ]
    },
    {
     "name": "stderr",
     "output_type": "stream",
     "text": [
      "Epoch 60/100:   3%|▎         | 8/246 [00:07<03:12,  1.24it/s, Train Loss=0.189] "
     ]
    },
    {
     "name": "stdout",
     "output_type": "stream",
     "text": [
      "Skipping entry 6409 after transform.\n"
     ]
    },
    {
     "name": "stderr",
     "output_type": "stream",
     "text": [
      "Epoch 60/100:  54%|█████▍    | 134/246 [01:42<01:08,  1.64it/s, Train Loss=0.0689]"
     ]
    },
    {
     "name": "stdout",
     "output_type": "stream",
     "text": [
      "Skipping mutation K->S at ('A', '80'): not found in seq_map\n",
      "Skipping entry 1703 after transform.\n"
     ]
    },
    {
     "name": "stderr",
     "output_type": "stream",
     "text": [
      "Epoch 60/100: 100%|██████████| 246/246 [02:50<00:00,  1.44it/s, Train Loss=0.111] \n"
     ]
    },
    {
     "name": "stdout",
     "output_type": "stream",
     "text": [
      "Epoch 60/100, Train Loss: 0.0936\n"
     ]
    },
    {
     "name": "stderr",
     "output_type": "stream",
     "text": [
      "Validating: 100%|██████████| 28/28 [00:13<00:00,  2.02it/s]\n"
     ]
    },
    {
     "name": "stdout",
     "output_type": "stream",
     "text": [
      "Epoch 60/100, Val Loss: 2.7407, Val RMSE: 1.6383, Val PCC: 0.6538, Val R²: 0.4053\n"
     ]
    },
    {
     "name": "stderr",
     "output_type": "stream",
     "text": [
      "Testing: 100%|██████████| 21/21 [00:11<00:00,  1.87it/s]\n"
     ]
    },
    {
     "name": "stdout",
     "output_type": "stream",
     "text": [
      "Test Loss: 2.2298, Test RMSE: 1.4940, Test PCC: 0.4451, Test R²: 0.1648\n",
      "Epoch 60/100, test RMSE: 1.4940, test PCC: 0.4451, test R²: 0.1648\n"
     ]
    },
    {
     "name": "stderr",
     "output_type": "stream",
     "text": [
      "Epoch 61/100:  40%|███▉      | 98/246 [01:06<01:26,  1.71it/s, Train Loss=0.0411]"
     ]
    },
    {
     "name": "stdout",
     "output_type": "stream",
     "text": [
      "Skipping entry 6409 after transform.\n",
      "Skipping mutation K->S at ('A', '80'): not found in seq_map\n",
      "Skipping entry 1703 after transform.\n"
     ]
    },
    {
     "name": "stderr",
     "output_type": "stream",
     "text": [
      "Epoch 61/100: 100%|██████████| 246/246 [02:46<00:00,  1.47it/s, Train Loss=0.183] \n"
     ]
    },
    {
     "name": "stdout",
     "output_type": "stream",
     "text": [
      "Epoch 61/100, Train Loss: 0.0877\n"
     ]
    },
    {
     "name": "stderr",
     "output_type": "stream",
     "text": [
      "Validating: 100%|██████████| 28/28 [00:11<00:00,  2.47it/s]\n"
     ]
    },
    {
     "name": "stdout",
     "output_type": "stream",
     "text": [
      "Epoch 61/100, Val Loss: 2.6653, Val RMSE: 1.6432, Val PCC: 0.6514, Val R²: 0.4018\n"
     ]
    },
    {
     "name": "stderr",
     "output_type": "stream",
     "text": [
      "Testing: 100%|██████████| 21/21 [00:10<00:00,  2.09it/s]\n"
     ]
    },
    {
     "name": "stdout",
     "output_type": "stream",
     "text": [
      "Test Loss: 2.2828, Test RMSE: 1.5112, Test PCC: 0.4328, Test R²: 0.1455\n",
      "Epoch 61/100, test RMSE: 1.5112, test PCC: 0.4328, test R²: 0.1455\n"
     ]
    },
    {
     "name": "stderr",
     "output_type": "stream",
     "text": [
      "Epoch 62/100:   0%|          | 0/246 [00:00<?, ?it/s]"
     ]
    },
    {
     "name": "stdout",
     "output_type": "stream",
     "text": [
      "Skipping entry 6409 after transform.\n"
     ]
    },
    {
     "name": "stderr",
     "output_type": "stream",
     "text": [
      "Epoch 62/100:   8%|▊         | 20/246 [00:13<02:18,  1.63it/s, Train Loss=0.0894]"
     ]
    },
    {
     "name": "stdout",
     "output_type": "stream",
     "text": [
      "Skipping mutation K->S at ('A', '80'): not found in seq_map\n",
      "Skipping entry 1703 after transform.\n"
     ]
    },
    {
     "name": "stderr",
     "output_type": "stream",
     "text": [
      "Epoch 62/100: 100%|██████████| 246/246 [02:40<00:00,  1.53it/s, Train Loss=0.0305]\n"
     ]
    },
    {
     "name": "stdout",
     "output_type": "stream",
     "text": [
      "Epoch 62/100, Train Loss: 0.0802\n"
     ]
    },
    {
     "name": "stderr",
     "output_type": "stream",
     "text": [
      "Validating: 100%|██████████| 28/28 [00:14<00:00,  1.96it/s]\n"
     ]
    },
    {
     "name": "stdout",
     "output_type": "stream",
     "text": [
      "Epoch 62/100, Val Loss: 2.6879, Val RMSE: 1.6519, Val PCC: 0.6492, Val R²: 0.3954\n"
     ]
    },
    {
     "name": "stderr",
     "output_type": "stream",
     "text": [
      "Testing: 100%|██████████| 21/21 [00:09<00:00,  2.17it/s]\n"
     ]
    },
    {
     "name": "stdout",
     "output_type": "stream",
     "text": [
      "Test Loss: 2.2413, Test RMSE: 1.4984, Test PCC: 0.4525, Test R²: 0.1599\n",
      "Epoch 62/100, test RMSE: 1.4984, test PCC: 0.4525, test R²: 0.1599\n"
     ]
    },
    {
     "name": "stderr",
     "output_type": "stream",
     "text": [
      "Epoch 63/100:   2%|▏         | 4/246 [00:04<03:41,  1.09it/s, Train Loss=0.0548]"
     ]
    },
    {
     "name": "stdout",
     "output_type": "stream",
     "text": [
      "Skipping mutation K->S at ('A', '80'): not found in seq_map\n",
      "Skipping entry 1703 after transform.\n"
     ]
    },
    {
     "name": "stderr",
     "output_type": "stream",
     "text": [
      "Epoch 63/100:  57%|█████▋    | 139/246 [01:26<01:02,  1.72it/s, Train Loss=0.0597]"
     ]
    },
    {
     "name": "stdout",
     "output_type": "stream",
     "text": [
      "Skipping entry 6409 after transform.\n"
     ]
    },
    {
     "name": "stderr",
     "output_type": "stream",
     "text": [
      "Epoch 63/100: 100%|██████████| 246/246 [02:28<00:00,  1.66it/s, Train Loss=0.0425]\n"
     ]
    },
    {
     "name": "stdout",
     "output_type": "stream",
     "text": [
      "Epoch 63/100, Train Loss: 0.0794\n"
     ]
    },
    {
     "name": "stderr",
     "output_type": "stream",
     "text": [
      "Validating: 100%|██████████| 28/28 [00:11<00:00,  2.45it/s]\n"
     ]
    },
    {
     "name": "stdout",
     "output_type": "stream",
     "text": [
      "Epoch 63/100, Val Loss: 2.6028, Val RMSE: 1.6316, Val PCC: 0.6583, Val R²: 0.4102\n"
     ]
    },
    {
     "name": "stderr",
     "output_type": "stream",
     "text": [
      "Testing: 100%|██████████| 21/21 [00:09<00:00,  2.26it/s]\n"
     ]
    },
    {
     "name": "stdout",
     "output_type": "stream",
     "text": [
      "Test Loss: 2.1657, Test RMSE: 1.4730, Test PCC: 0.4631, Test R²: 0.1882\n",
      "Epoch 63/100, test RMSE: 1.4730, test PCC: 0.4631, test R²: 0.1882\n"
     ]
    },
    {
     "name": "stderr",
     "output_type": "stream",
     "text": [
      "Epoch 64/100:  77%|███████▋  | 190/246 [02:12<00:45,  1.24it/s, Train Loss=0.127] "
     ]
    },
    {
     "name": "stdout",
     "output_type": "stream",
     "text": [
      "Skipping entry 6409 after transform.\n"
     ]
    },
    {
     "name": "stderr",
     "output_type": "stream",
     "text": [
      "Epoch 64/100:  87%|████████▋ | 215/246 [02:31<00:23,  1.33it/s, Train Loss=0.0366]"
     ]
    },
    {
     "name": "stdout",
     "output_type": "stream",
     "text": [
      "Skipping mutation K->S at ('A', '80'): not found in seq_map\n",
      "Skipping entry 1703 after transform.\n"
     ]
    },
    {
     "name": "stderr",
     "output_type": "stream",
     "text": [
      "Epoch 64/100: 100%|██████████| 246/246 [02:54<00:00,  1.41it/s, Train Loss=0.102] \n"
     ]
    },
    {
     "name": "stdout",
     "output_type": "stream",
     "text": [
      "Epoch 64/100, Train Loss: 0.0893\n"
     ]
    },
    {
     "name": "stderr",
     "output_type": "stream",
     "text": [
      "Validating: 100%|██████████| 28/28 [00:19<00:00,  1.45it/s]\n"
     ]
    },
    {
     "name": "stdout",
     "output_type": "stream",
     "text": [
      "Epoch 64/100, Val Loss: 2.5842, Val RMSE: 1.6283, Val PCC: 0.6601, Val R²: 0.4126\n"
     ]
    },
    {
     "name": "stderr",
     "output_type": "stream",
     "text": [
      "Testing: 100%|██████████| 21/21 [00:09<00:00,  2.25it/s]\n"
     ]
    },
    {
     "name": "stdout",
     "output_type": "stream",
     "text": [
      "Test Loss: 2.2404, Test RMSE: 1.4968, Test PCC: 0.4420, Test R²: 0.1617\n",
      "Epoch 64/100, test RMSE: 1.4968, test PCC: 0.4420, test R²: 0.1617\n"
     ]
    },
    {
     "name": "stderr",
     "output_type": "stream",
     "text": [
      "Epoch 65/100:   7%|▋         | 16/246 [00:17<03:56,  1.03s/it, Train Loss=0.0787]"
     ]
    },
    {
     "name": "stdout",
     "output_type": "stream",
     "text": [
      "Skipping mutation K->S at ('A', '80'): not found in seq_map\n",
      "Skipping entry 1703 after transform.\n"
     ]
    },
    {
     "name": "stderr",
     "output_type": "stream",
     "text": [
      "Epoch 65/100:  42%|████▏     | 103/246 [01:35<02:31,  1.06s/it, Train Loss=0.0853]"
     ]
    },
    {
     "name": "stdout",
     "output_type": "stream",
     "text": [
      "Skipping entry 6409 after transform.\n"
     ]
    },
    {
     "name": "stderr",
     "output_type": "stream",
     "text": [
      "Epoch 65/100: 100%|██████████| 246/246 [03:01<00:00,  1.35it/s, Train Loss=0.0213]\n"
     ]
    },
    {
     "name": "stdout",
     "output_type": "stream",
     "text": [
      "Epoch 65/100, Train Loss: 0.1010\n"
     ]
    },
    {
     "name": "stderr",
     "output_type": "stream",
     "text": [
      "Validating: 100%|██████████| 28/28 [00:12<00:00,  2.20it/s]\n"
     ]
    },
    {
     "name": "stdout",
     "output_type": "stream",
     "text": [
      "Epoch 65/100, Val Loss: 2.7081, Val RMSE: 1.6366, Val PCC: 0.6570, Val R²: 0.4066\n"
     ]
    },
    {
     "name": "stderr",
     "output_type": "stream",
     "text": [
      "Testing: 100%|██████████| 21/21 [00:11<00:00,  1.81it/s]\n"
     ]
    },
    {
     "name": "stdout",
     "output_type": "stream",
     "text": [
      "Test Loss: 2.1975, Test RMSE: 1.4816, Test PCC: 0.4587, Test R²: 0.1787\n",
      "Epoch 65/100, test RMSE: 1.4816, test PCC: 0.4587, test R²: 0.1787\n"
     ]
    },
    {
     "name": "stderr",
     "output_type": "stream",
     "text": [
      "Epoch 66/100:  82%|████████▏ | 202/246 [02:23<00:27,  1.60it/s, Train Loss=0.163] "
     ]
    },
    {
     "name": "stdout",
     "output_type": "stream",
     "text": [
      "Skipping entry 6409 after transform.\n"
     ]
    },
    {
     "name": "stderr",
     "output_type": "stream",
     "text": [
      "Epoch 66/100:  88%|████████▊ | 216/246 [02:33<00:22,  1.32it/s, Train Loss=0.148] "
     ]
    },
    {
     "name": "stdout",
     "output_type": "stream",
     "text": [
      "Skipping mutation K->S at ('A', '80'): not found in seq_map\n",
      "Skipping entry 1703 after transform.\n"
     ]
    },
    {
     "name": "stderr",
     "output_type": "stream",
     "text": [
      "Epoch 66/100: 100%|██████████| 246/246 [02:54<00:00,  1.41it/s, Train Loss=0.0334]\n"
     ]
    },
    {
     "name": "stdout",
     "output_type": "stream",
     "text": [
      "Epoch 66/100, Train Loss: 0.1126\n"
     ]
    },
    {
     "name": "stderr",
     "output_type": "stream",
     "text": [
      "Validating: 100%|██████████| 28/28 [00:16<00:00,  1.68it/s]\n"
     ]
    },
    {
     "name": "stdout",
     "output_type": "stream",
     "text": [
      "Epoch 66/100, Val Loss: 2.6665, Val RMSE: 1.6493, Val PCC: 0.6506, Val R²: 0.3973\n"
     ]
    },
    {
     "name": "stderr",
     "output_type": "stream",
     "text": [
      "Testing: 100%|██████████| 21/21 [00:16<00:00,  1.28it/s]\n"
     ]
    },
    {
     "name": "stdout",
     "output_type": "stream",
     "text": [
      "Test Loss: 2.2558, Test RMSE: 1.5034, Test PCC: 0.4395, Test R²: 0.1542\n",
      "Epoch 66/100, test RMSE: 1.5034, test PCC: 0.4395, test R²: 0.1542\n"
     ]
    },
    {
     "name": "stderr",
     "output_type": "stream",
     "text": [
      "Epoch 67/100:  55%|█████▌    | 136/246 [01:46<01:04,  1.70it/s, Train Loss=0.0954]"
     ]
    },
    {
     "name": "stdout",
     "output_type": "stream",
     "text": [
      "Skipping mutation K->S at ('A', '80'): not found in seq_map\n",
      "Skipping entry 1703 after transform.\n"
     ]
    },
    {
     "name": "stderr",
     "output_type": "stream",
     "text": [
      "Epoch 67/100:  81%|████████▏ | 200/246 [02:32<00:31,  1.47it/s, Train Loss=0.0601]"
     ]
    },
    {
     "name": "stdout",
     "output_type": "stream",
     "text": [
      "Skipping entry 6409 after transform.\n"
     ]
    },
    {
     "name": "stderr",
     "output_type": "stream",
     "text": [
      "Epoch 67/100: 100%|██████████| 246/246 [02:59<00:00,  1.37it/s, Train Loss=0.0198]\n"
     ]
    },
    {
     "name": "stdout",
     "output_type": "stream",
     "text": [
      "Epoch 67/100, Train Loss: 0.1000\n"
     ]
    },
    {
     "name": "stderr",
     "output_type": "stream",
     "text": [
      "Validating: 100%|██████████| 28/28 [00:11<00:00,  2.50it/s]\n"
     ]
    },
    {
     "name": "stdout",
     "output_type": "stream",
     "text": [
      "Epoch 67/100, Val Loss: 2.7359, Val RMSE: 1.6691, Val PCC: 0.6416, Val R²: 0.3828\n"
     ]
    },
    {
     "name": "stderr",
     "output_type": "stream",
     "text": [
      "Testing: 100%|██████████| 21/21 [00:09<00:00,  2.21it/s]\n"
     ]
    },
    {
     "name": "stdout",
     "output_type": "stream",
     "text": [
      "Test Loss: 2.3165, Test RMSE: 1.5210, Test PCC: 0.4291, Test R²: 0.1344\n",
      "Epoch 67/100, test RMSE: 1.5210, test PCC: 0.4291, test R²: 0.1344\n"
     ]
    },
    {
     "name": "stderr",
     "output_type": "stream",
     "text": [
      "Epoch 68/100:   1%|          | 2/246 [00:02<04:58,  1.22s/it, Train Loss=0.234] "
     ]
    },
    {
     "name": "stdout",
     "output_type": "stream",
     "text": [
      "Skipping entry 6409 after transform.\n"
     ]
    },
    {
     "name": "stderr",
     "output_type": "stream",
     "text": [
      "Epoch 68/100:  76%|███████▌  | 186/246 [02:22<00:40,  1.48it/s, Train Loss=0.194] "
     ]
    },
    {
     "name": "stdout",
     "output_type": "stream",
     "text": [
      "Skipping mutation K->S at ('A', '80'): not found in seq_map\n",
      "Skipping entry 1703 after transform.\n"
     ]
    },
    {
     "name": "stderr",
     "output_type": "stream",
     "text": [
      "Epoch 68/100: 100%|██████████| 246/246 [02:58<00:00,  1.38it/s, Train Loss=0.12]  \n"
     ]
    },
    {
     "name": "stdout",
     "output_type": "stream",
     "text": [
      "Epoch 68/100, Train Loss: 0.1006\n"
     ]
    },
    {
     "name": "stderr",
     "output_type": "stream",
     "text": [
      "Validating: 100%|██████████| 28/28 [00:12<00:00,  2.30it/s]\n"
     ]
    },
    {
     "name": "stdout",
     "output_type": "stream",
     "text": [
      "Epoch 68/100, Val Loss: 2.6020, Val RMSE: 1.6349, Val PCC: 0.6581, Val R²: 0.4078\n"
     ]
    },
    {
     "name": "stderr",
     "output_type": "stream",
     "text": [
      "Testing: 100%|██████████| 21/21 [00:14<00:00,  1.44it/s]\n"
     ]
    },
    {
     "name": "stdout",
     "output_type": "stream",
     "text": [
      "Test Loss: 2.1981, Test RMSE: 1.4832, Test PCC: 0.4578, Test R²: 0.1769\n",
      "Epoch 68/100, test RMSE: 1.4832, test PCC: 0.4578, test R²: 0.1769\n"
     ]
    },
    {
     "name": "stderr",
     "output_type": "stream",
     "text": [
      "Epoch 69/100:  11%|█         | 27/246 [00:32<05:07,  1.41s/it, Train Loss=0.0583]"
     ]
    },
    {
     "name": "stdout",
     "output_type": "stream",
     "text": [
      "Skipping mutation K->S at ('A', '80'): not found in seq_map\n",
      "Skipping entry 1703 after transform.\n"
     ]
    },
    {
     "name": "stderr",
     "output_type": "stream",
     "text": [
      "Epoch 69/100:  45%|████▍     | 110/246 [01:26<01:18,  1.74it/s, Train Loss=0.0965]"
     ]
    },
    {
     "name": "stdout",
     "output_type": "stream",
     "text": [
      "Skipping entry 6409 after transform.\n"
     ]
    },
    {
     "name": "stderr",
     "output_type": "stream",
     "text": [
      "Epoch 69/100: 100%|██████████| 246/246 [02:52<00:00,  1.43it/s, Train Loss=0.0455]\n"
     ]
    },
    {
     "name": "stdout",
     "output_type": "stream",
     "text": [
      "Epoch 69/100, Train Loss: 0.0995\n"
     ]
    },
    {
     "name": "stderr",
     "output_type": "stream",
     "text": [
      "Validating: 100%|██████████| 28/28 [00:12<00:00,  2.22it/s]\n"
     ]
    },
    {
     "name": "stdout",
     "output_type": "stream",
     "text": [
      "Epoch 69/100, Val Loss: 3.1433, Val RMSE: 1.6383, Val PCC: 0.6571, Val R²: 0.4053\n"
     ]
    },
    {
     "name": "stderr",
     "output_type": "stream",
     "text": [
      "Testing: 100%|██████████| 21/21 [00:09<00:00,  2.31it/s]\n"
     ]
    },
    {
     "name": "stdout",
     "output_type": "stream",
     "text": [
      "Test Loss: 2.3002, Test RMSE: 1.5176, Test PCC: 0.4301, Test R²: 0.1382\n",
      "Epoch 69/100, test RMSE: 1.5176, test PCC: 0.4301, test R²: 0.1382\n"
     ]
    },
    {
     "name": "stderr",
     "output_type": "stream",
     "text": [
      "Epoch 70/100:   0%|          | 0/246 [00:00<?, ?it/s]"
     ]
    },
    {
     "name": "stdout",
     "output_type": "stream",
     "text": [
      "Skipping mutation K->S at ('A', '80'): not found in seq_map\n",
      "Skipping entry 1703 after transform.\n"
     ]
    },
    {
     "name": "stderr",
     "output_type": "stream",
     "text": [
      "Epoch 70/100:   4%|▍         | 11/246 [00:07<02:21,  1.66it/s, Train Loss=0.0773]"
     ]
    },
    {
     "name": "stdout",
     "output_type": "stream",
     "text": [
      "Skipping entry 6409 after transform.\n"
     ]
    },
    {
     "name": "stderr",
     "output_type": "stream",
     "text": [
      "Epoch 70/100: 100%|██████████| 246/246 [02:25<00:00,  1.69it/s, Train Loss=0.182] \n"
     ]
    },
    {
     "name": "stdout",
     "output_type": "stream",
     "text": [
      "Epoch 70/100, Train Loss: 0.0866\n"
     ]
    },
    {
     "name": "stderr",
     "output_type": "stream",
     "text": [
      "Validating: 100%|██████████| 28/28 [00:11<00:00,  2.37it/s]\n"
     ]
    },
    {
     "name": "stdout",
     "output_type": "stream",
     "text": [
      "Epoch 70/100, Val Loss: 2.6098, Val RMSE: 1.6310, Val PCC: 0.6586, Val R²: 0.4106\n"
     ]
    },
    {
     "name": "stderr",
     "output_type": "stream",
     "text": [
      "Testing: 100%|██████████| 21/21 [00:10<00:00,  2.04it/s]\n"
     ]
    },
    {
     "name": "stdout",
     "output_type": "stream",
     "text": [
      "Test Loss: 2.2786, Test RMSE: 1.5095, Test PCC: 0.4364, Test R²: 0.1474\n",
      "Epoch 70/100, test RMSE: 1.5095, test PCC: 0.4364, test R²: 0.1474\n"
     ]
    },
    {
     "name": "stderr",
     "output_type": "stream",
     "text": [
      "Epoch 71/100:  16%|█▌        | 39/246 [00:30<02:02,  1.69it/s, Train Loss=0.208] "
     ]
    },
    {
     "name": "stdout",
     "output_type": "stream",
     "text": [
      "Skipping mutation K->S at ('A', '80'): not found in seq_map\n",
      "Skipping entry 1703 after transform.\n"
     ]
    },
    {
     "name": "stderr",
     "output_type": "stream",
     "text": [
      "Epoch 71/100:  40%|████      | 99/246 [01:06<01:38,  1.49it/s, Train Loss=0.0909]"
     ]
    },
    {
     "name": "stdout",
     "output_type": "stream",
     "text": [
      "Skipping entry 6409 after transform.\n"
     ]
    },
    {
     "name": "stderr",
     "output_type": "stream",
     "text": [
      "Epoch 71/100: 100%|██████████| 246/246 [02:42<00:00,  1.51it/s, Train Loss=0.00632]\n"
     ]
    },
    {
     "name": "stdout",
     "output_type": "stream",
     "text": [
      "Epoch 71/100, Train Loss: 0.1037\n"
     ]
    },
    {
     "name": "stderr",
     "output_type": "stream",
     "text": [
      "Validating: 100%|██████████| 28/28 [00:13<00:00,  2.09it/s]\n"
     ]
    },
    {
     "name": "stdout",
     "output_type": "stream",
     "text": [
      "Epoch 71/100, Val Loss: 3.2635, Val RMSE: 1.6355, Val PCC: 0.6580, Val R²: 0.4073\n"
     ]
    },
    {
     "name": "stderr",
     "output_type": "stream",
     "text": [
      "Testing: 100%|██████████| 21/21 [00:11<00:00,  1.77it/s]\n"
     ]
    },
    {
     "name": "stdout",
     "output_type": "stream",
     "text": [
      "Test Loss: 2.2852, Test RMSE: 1.5102, Test PCC: 0.4347, Test R²: 0.1466\n",
      "Epoch 71/100, test RMSE: 1.5102, test PCC: 0.4347, test R²: 0.1466\n"
     ]
    },
    {
     "name": "stderr",
     "output_type": "stream",
     "text": [
      "Epoch 72/100:   5%|▍         | 12/246 [00:09<02:32,  1.53it/s, Train Loss=0.0358]"
     ]
    },
    {
     "name": "stdout",
     "output_type": "stream",
     "text": [
      "Skipping mutation K->S at ('A', '80'): not found in seq_map\n",
      "Skipping entry 1703 after transform.\n"
     ]
    },
    {
     "name": "stderr",
     "output_type": "stream",
     "text": [
      "Epoch 72/100:  38%|███▊      | 94/246 [01:05<01:52,  1.35it/s, Train Loss=0.0748]"
     ]
    },
    {
     "name": "stdout",
     "output_type": "stream",
     "text": [
      "Skipping entry 6409 after transform.\n"
     ]
    },
    {
     "name": "stderr",
     "output_type": "stream",
     "text": [
      "Epoch 72/100: 100%|██████████| 246/246 [02:40<00:00,  1.53it/s, Train Loss=0.0756]\n"
     ]
    },
    {
     "name": "stdout",
     "output_type": "stream",
     "text": [
      "Epoch 72/100, Train Loss: 0.0780\n"
     ]
    },
    {
     "name": "stderr",
     "output_type": "stream",
     "text": [
      "Validating: 100%|██████████| 28/28 [00:12<00:00,  2.18it/s]\n"
     ]
    },
    {
     "name": "stdout",
     "output_type": "stream",
     "text": [
      "Epoch 72/100, Val Loss: 2.6206, Val RMSE: 1.6311, Val PCC: 0.6554, Val R²: 0.4105\n"
     ]
    },
    {
     "name": "stderr",
     "output_type": "stream",
     "text": [
      "Testing: 100%|██████████| 21/21 [00:10<00:00,  1.99it/s]\n"
     ]
    },
    {
     "name": "stdout",
     "output_type": "stream",
     "text": [
      "Test Loss: 2.3156, Test RMSE: 1.5210, Test PCC: 0.4280, Test R²: 0.1344\n",
      "Epoch 72/100, test RMSE: 1.5210, test PCC: 0.4280, test R²: 0.1344\n"
     ]
    },
    {
     "name": "stderr",
     "output_type": "stream",
     "text": [
      "Epoch 73/100:  52%|█████▏    | 129/246 [01:51<01:14,  1.58it/s, Train Loss=0.065] "
     ]
    },
    {
     "name": "stdout",
     "output_type": "stream",
     "text": [
      "Skipping mutation K->S at ('A', '80'): not found in seq_map\n",
      "Skipping entry 1703 after transform.\n"
     ]
    },
    {
     "name": "stderr",
     "output_type": "stream",
     "text": [
      "Epoch 73/100:  85%|████████▍ | 209/246 [02:46<00:28,  1.30it/s, Train Loss=0.043] "
     ]
    },
    {
     "name": "stdout",
     "output_type": "stream",
     "text": [
      "Skipping entry 6409 after transform.\n"
     ]
    },
    {
     "name": "stderr",
     "output_type": "stream",
     "text": [
      "Epoch 73/100: 100%|██████████| 246/246 [03:08<00:00,  1.30it/s, Train Loss=0.031] \n"
     ]
    },
    {
     "name": "stdout",
     "output_type": "stream",
     "text": [
      "Epoch 73/100, Train Loss: 0.0812\n"
     ]
    },
    {
     "name": "stderr",
     "output_type": "stream",
     "text": [
      "Validating: 100%|██████████| 28/28 [00:15<00:00,  1.84it/s]\n"
     ]
    },
    {
     "name": "stdout",
     "output_type": "stream",
     "text": [
      "Epoch 73/100, Val Loss: 2.5407, Val RMSE: 1.6058, Val PCC: 0.6704, Val R²: 0.4287\n"
     ]
    },
    {
     "name": "stderr",
     "output_type": "stream",
     "text": [
      "Testing: 100%|██████████| 21/21 [00:11<00:00,  1.91it/s]\n"
     ]
    },
    {
     "name": "stdout",
     "output_type": "stream",
     "text": [
      "Test Loss: 2.2486, Test RMSE: 1.4970, Test PCC: 0.4412, Test R²: 0.1615\n",
      "Epoch 73/100, test RMSE: 1.4970, test PCC: 0.4412, test R²: 0.1615\n",
      "Best model saved with Val Loss: 2.5407\n"
     ]
    },
    {
     "name": "stderr",
     "output_type": "stream",
     "text": [
      "Epoch 74/100:  26%|██▋       | 65/246 [00:44<01:46,  1.70it/s, Train Loss=0.0759]"
     ]
    },
    {
     "name": "stdout",
     "output_type": "stream",
     "text": [
      "Skipping mutation K->S at ('A', '80'): not found in seq_map\n",
      "Skipping entry 1703 after transform.\n"
     ]
    },
    {
     "name": "stderr",
     "output_type": "stream",
     "text": [
      "Epoch 74/100:  89%|████████▉ | 219/246 [02:36<00:16,  1.67it/s, Train Loss=0.0301]"
     ]
    },
    {
     "name": "stdout",
     "output_type": "stream",
     "text": [
      "Skipping entry 6409 after transform.\n"
     ]
    },
    {
     "name": "stderr",
     "output_type": "stream",
     "text": [
      "Epoch 74/100: 100%|██████████| 246/246 [02:55<00:00,  1.40it/s, Train Loss=0.057] \n"
     ]
    },
    {
     "name": "stdout",
     "output_type": "stream",
     "text": [
      "Epoch 74/100, Train Loss: 0.0914\n"
     ]
    },
    {
     "name": "stderr",
     "output_type": "stream",
     "text": [
      "Validating: 100%|██████████| 28/28 [00:12<00:00,  2.16it/s]\n"
     ]
    },
    {
     "name": "stdout",
     "output_type": "stream",
     "text": [
      "Epoch 74/100, Val Loss: 2.5386, Val RMSE: 1.6142, Val PCC: 0.6712, Val R²: 0.4227\n"
     ]
    },
    {
     "name": "stderr",
     "output_type": "stream",
     "text": [
      "Testing: 100%|██████████| 21/21 [00:09<00:00,  2.17it/s]\n"
     ]
    },
    {
     "name": "stdout",
     "output_type": "stream",
     "text": [
      "Test Loss: 2.2278, Test RMSE: 1.4945, Test PCC: 0.4613, Test R²: 0.1642\n",
      "Epoch 74/100, test RMSE: 1.4945, test PCC: 0.4613, test R²: 0.1642\n",
      "Best model saved with Val Loss: 2.5386\n"
     ]
    },
    {
     "name": "stderr",
     "output_type": "stream",
     "text": [
      "Epoch 75/100:  47%|████▋     | 115/246 [01:26<01:40,  1.30it/s, Train Loss=0.0929]"
     ]
    },
    {
     "name": "stdout",
     "output_type": "stream",
     "text": [
      "Skipping mutation K->S at ('A', '80'): not found in seq_map\n",
      "Skipping entry 1703 after transform.\n"
     ]
    },
    {
     "name": "stderr",
     "output_type": "stream",
     "text": [
      "Epoch 75/100:  67%|██████▋   | 166/246 [02:00<00:48,  1.66it/s, Train Loss=0.0456]"
     ]
    },
    {
     "name": "stdout",
     "output_type": "stream",
     "text": [
      "Skipping entry 6409 after transform.\n"
     ]
    },
    {
     "name": "stderr",
     "output_type": "stream",
     "text": [
      "Epoch 75/100: 100%|██████████| 246/246 [02:49<00:00,  1.45it/s, Train Loss=0.00988]\n"
     ]
    },
    {
     "name": "stdout",
     "output_type": "stream",
     "text": [
      "Epoch 75/100, Train Loss: 0.0849\n"
     ]
    },
    {
     "name": "stderr",
     "output_type": "stream",
     "text": [
      "Validating: 100%|██████████| 28/28 [00:13<00:00,  2.13it/s]\n"
     ]
    },
    {
     "name": "stdout",
     "output_type": "stream",
     "text": [
      "Epoch 75/100, Val Loss: 3.2384, Val RMSE: 1.6166, Val PCC: 0.6632, Val R²: 0.4210\n"
     ]
    },
    {
     "name": "stderr",
     "output_type": "stream",
     "text": [
      "Testing: 100%|██████████| 21/21 [00:11<00:00,  1.90it/s]\n"
     ]
    },
    {
     "name": "stdout",
     "output_type": "stream",
     "text": [
      "Test Loss: 2.3156, Test RMSE: 1.5222, Test PCC: 0.4252, Test R²: 0.1330\n",
      "Epoch 75/100, test RMSE: 1.5222, test PCC: 0.4252, test R²: 0.1330\n"
     ]
    },
    {
     "name": "stderr",
     "output_type": "stream",
     "text": [
      "Epoch 76/100:  56%|█████▌    | 137/246 [01:40<01:06,  1.63it/s, Train Loss=0.0479]"
     ]
    },
    {
     "name": "stdout",
     "output_type": "stream",
     "text": [
      "Skipping entry 6409 after transform.\n"
     ]
    },
    {
     "name": "stderr",
     "output_type": "stream",
     "text": [
      "Epoch 76/100:  73%|███████▎  | 179/246 [02:12<01:07,  1.01s/it, Train Loss=0.0306]"
     ]
    },
    {
     "name": "stdout",
     "output_type": "stream",
     "text": [
      "Skipping mutation K->S at ('A', '80'): not found in seq_map\n",
      "Skipping entry 1703 after transform.\n"
     ]
    },
    {
     "name": "stderr",
     "output_type": "stream",
     "text": [
      "Epoch 76/100: 100%|██████████| 246/246 [03:02<00:00,  1.35it/s, Train Loss=0.0564]\n"
     ]
    },
    {
     "name": "stdout",
     "output_type": "stream",
     "text": [
      "Epoch 76/100, Train Loss: 0.0762\n"
     ]
    },
    {
     "name": "stderr",
     "output_type": "stream",
     "text": [
      "Validating: 100%|██████████| 28/28 [00:11<00:00,  2.36it/s]\n"
     ]
    },
    {
     "name": "stdout",
     "output_type": "stream",
     "text": [
      "Epoch 76/100, Val Loss: 2.5831, Val RMSE: 1.6181, Val PCC: 0.6637, Val R²: 0.4199\n"
     ]
    },
    {
     "name": "stderr",
     "output_type": "stream",
     "text": [
      "Testing: 100%|██████████| 21/21 [00:12<00:00,  1.73it/s]\n"
     ]
    },
    {
     "name": "stdout",
     "output_type": "stream",
     "text": [
      "Test Loss: 2.2811, Test RMSE: 1.5104, Test PCC: 0.4314, Test R²: 0.1464\n",
      "Epoch 76/100, test RMSE: 1.5104, test PCC: 0.4314, test R²: 0.1464\n"
     ]
    },
    {
     "name": "stderr",
     "output_type": "stream",
     "text": [
      "Epoch 77/100:  19%|█▊        | 46/246 [00:31<02:05,  1.60it/s, Train Loss=0.0515]"
     ]
    },
    {
     "name": "stdout",
     "output_type": "stream",
     "text": [
      "Skipping entry 6409 after transform.\n"
     ]
    },
    {
     "name": "stderr",
     "output_type": "stream",
     "text": [
      "Epoch 77/100:  36%|███▌      | 89/246 [00:59<01:31,  1.71it/s, Train Loss=0.0572]"
     ]
    },
    {
     "name": "stdout",
     "output_type": "stream",
     "text": [
      "Skipping mutation K->S at ('A', '80'): not found in seq_map\n",
      "Skipping entry 1703 after transform.\n"
     ]
    },
    {
     "name": "stderr",
     "output_type": "stream",
     "text": [
      "Epoch 77/100: 100%|██████████| 246/246 [02:30<00:00,  1.64it/s, Train Loss=0.0712]\n"
     ]
    },
    {
     "name": "stdout",
     "output_type": "stream",
     "text": [
      "Epoch 77/100, Train Loss: 0.0674\n"
     ]
    },
    {
     "name": "stderr",
     "output_type": "stream",
     "text": [
      "Validating: 100%|██████████| 28/28 [00:13<00:00,  2.10it/s]\n"
     ]
    },
    {
     "name": "stdout",
     "output_type": "stream",
     "text": [
      "Epoch 77/100, Val Loss: 2.5854, Val RMSE: 1.6120, Val PCC: 0.6666, Val R²: 0.4243\n"
     ]
    },
    {
     "name": "stderr",
     "output_type": "stream",
     "text": [
      "Testing: 100%|██████████| 21/21 [00:13<00:00,  1.58it/s]\n"
     ]
    },
    {
     "name": "stdout",
     "output_type": "stream",
     "text": [
      "Test Loss: 2.1991, Test RMSE: 1.4832, Test PCC: 0.4571, Test R²: 0.1769\n",
      "Epoch 77/100, test RMSE: 1.4832, test PCC: 0.4571, test R²: 0.1769\n"
     ]
    },
    {
     "name": "stderr",
     "output_type": "stream",
     "text": [
      "Epoch 78/100:  80%|████████  | 197/246 [02:19<00:29,  1.67it/s, Train Loss=0.057] "
     ]
    },
    {
     "name": "stdout",
     "output_type": "stream",
     "text": [
      "Skipping mutation K->S at ('A', '80'): not found in seq_map\n",
      "Skipping entry 1703 after transform.\n"
     ]
    },
    {
     "name": "stderr",
     "output_type": "stream",
     "text": [
      "Epoch 78/100:  83%|████████▎ | 204/246 [02:23<00:25,  1.63it/s, Train Loss=0.0538]"
     ]
    },
    {
     "name": "stdout",
     "output_type": "stream",
     "text": [
      "Skipping entry 6409 after transform.\n"
     ]
    },
    {
     "name": "stderr",
     "output_type": "stream",
     "text": [
      "Epoch 78/100: 100%|██████████| 246/246 [02:48<00:00,  1.46it/s, Train Loss=0.00683]\n"
     ]
    },
    {
     "name": "stdout",
     "output_type": "stream",
     "text": [
      "Epoch 78/100, Train Loss: 0.0628\n"
     ]
    },
    {
     "name": "stderr",
     "output_type": "stream",
     "text": [
      "Validating: 100%|██████████| 28/28 [00:14<00:00,  1.94it/s]\n"
     ]
    },
    {
     "name": "stdout",
     "output_type": "stream",
     "text": [
      "Epoch 78/100, Val Loss: 3.4119, Val RMSE: 1.6177, Val PCC: 0.6626, Val R²: 0.4202\n"
     ]
    },
    {
     "name": "stderr",
     "output_type": "stream",
     "text": [
      "Testing: 100%|██████████| 21/21 [00:16<00:00,  1.25it/s]\n"
     ]
    },
    {
     "name": "stdout",
     "output_type": "stream",
     "text": [
      "Test Loss: 2.2666, Test RMSE: 1.5048, Test PCC: 0.4334, Test R²: 0.1527\n",
      "Epoch 78/100, test RMSE: 1.5048, test PCC: 0.4334, test R²: 0.1527\n"
     ]
    },
    {
     "name": "stderr",
     "output_type": "stream",
     "text": [
      "Epoch 79/100:  77%|███████▋  | 189/246 [01:58<00:32,  1.77it/s, Train Loss=0.0538]"
     ]
    },
    {
     "name": "stdout",
     "output_type": "stream",
     "text": [
      "Skipping entry 6409 after transform.\n"
     ]
    },
    {
     "name": "stderr",
     "output_type": "stream",
     "text": [
      "Epoch 79/100:  77%|███████▋  | 190/246 [01:59<00:31,  1.76it/s, Train Loss=0.0657]"
     ]
    },
    {
     "name": "stdout",
     "output_type": "stream",
     "text": [
      "Skipping mutation K->S at ('A', '80'): not found in seq_map\n",
      "Skipping entry 1703 after transform.\n"
     ]
    },
    {
     "name": "stderr",
     "output_type": "stream",
     "text": [
      "Epoch 79/100: 100%|██████████| 246/246 [02:35<00:00,  1.58it/s, Train Loss=0.0289]\n"
     ]
    },
    {
     "name": "stdout",
     "output_type": "stream",
     "text": [
      "Epoch 79/100, Train Loss: 0.0628\n"
     ]
    },
    {
     "name": "stderr",
     "output_type": "stream",
     "text": [
      "Validating: 100%|██████████| 28/28 [00:13<00:00,  2.07it/s]\n"
     ]
    },
    {
     "name": "stdout",
     "output_type": "stream",
     "text": [
      "Epoch 79/100, Val Loss: 2.5192, Val RMSE: 1.5951, Val PCC: 0.6738, Val R²: 0.4362\n"
     ]
    },
    {
     "name": "stderr",
     "output_type": "stream",
     "text": [
      "Testing: 100%|██████████| 21/21 [00:20<00:00,  1.03it/s]\n"
     ]
    },
    {
     "name": "stdout",
     "output_type": "stream",
     "text": [
      "Test Loss: 2.2273, Test RMSE: 1.4927, Test PCC: 0.4473, Test R²: 0.1662\n",
      "Epoch 79/100, test RMSE: 1.4927, test PCC: 0.4473, test R²: 0.1662\n",
      "Best model saved with Val Loss: 2.5192\n"
     ]
    },
    {
     "name": "stderr",
     "output_type": "stream",
     "text": [
      "Epoch 80/100:  76%|███████▋  | 188/246 [02:32<00:51,  1.12it/s, Train Loss=0.0604]"
     ]
    },
    {
     "name": "stdout",
     "output_type": "stream",
     "text": [
      "Skipping entry 6409 after transform.\n"
     ]
    },
    {
     "name": "stderr",
     "output_type": "stream",
     "text": [
      "Epoch 80/100:  90%|█████████ | 222/246 [02:57<00:21,  1.13it/s, Train Loss=0.0781]"
     ]
    },
    {
     "name": "stdout",
     "output_type": "stream",
     "text": [
      "Skipping mutation K->S at ('A', '80'): not found in seq_map\n",
      "Skipping entry 1703 after transform.\n"
     ]
    },
    {
     "name": "stderr",
     "output_type": "stream",
     "text": [
      "Epoch 80/100: 100%|██████████| 246/246 [03:16<00:00,  1.25it/s, Train Loss=0.0464]\n"
     ]
    },
    {
     "name": "stdout",
     "output_type": "stream",
     "text": [
      "Epoch 80/100, Train Loss: 0.0700\n"
     ]
    },
    {
     "name": "stderr",
     "output_type": "stream",
     "text": [
      "Validating: 100%|██████████| 28/28 [00:15<00:00,  1.84it/s]\n"
     ]
    },
    {
     "name": "stdout",
     "output_type": "stream",
     "text": [
      "Epoch 80/100, Val Loss: 2.5756, Val RMSE: 1.6243, Val PCC: 0.6590, Val R²: 0.4155\n"
     ]
    },
    {
     "name": "stderr",
     "output_type": "stream",
     "text": [
      "Testing: 100%|██████████| 21/21 [00:11<00:00,  1.87it/s]\n"
     ]
    },
    {
     "name": "stdout",
     "output_type": "stream",
     "text": [
      "Test Loss: 2.2147, Test RMSE: 1.4884, Test PCC: 0.4463, Test R²: 0.1711\n",
      "Epoch 80/100, test RMSE: 1.4884, test PCC: 0.4463, test R²: 0.1711\n"
     ]
    },
    {
     "name": "stderr",
     "output_type": "stream",
     "text": [
      "Epoch 81/100:  19%|█▊        | 46/246 [00:44<02:46,  1.20it/s, Train Loss=0.0578]"
     ]
    },
    {
     "name": "stdout",
     "output_type": "stream",
     "text": [
      "Skipping entry 6409 after transform.\n"
     ]
    },
    {
     "name": "stderr",
     "output_type": "stream",
     "text": [
      "Epoch 81/100:  30%|███       | 75/246 [01:06<02:25,  1.17it/s, Train Loss=0.0603]"
     ]
    },
    {
     "name": "stdout",
     "output_type": "stream",
     "text": [
      "Skipping mutation K->S at ('A', '80'): not found in seq_map\n",
      "Skipping entry 1703 after transform.\n"
     ]
    },
    {
     "name": "stderr",
     "output_type": "stream",
     "text": [
      "Epoch 81/100: 100%|██████████| 246/246 [03:00<00:00,  1.36it/s, Train Loss=0.0828]\n"
     ]
    },
    {
     "name": "stdout",
     "output_type": "stream",
     "text": [
      "Epoch 81/100, Train Loss: 0.0732\n"
     ]
    },
    {
     "name": "stderr",
     "output_type": "stream",
     "text": [
      "Validating: 100%|██████████| 28/28 [00:12<00:00,  2.26it/s]\n"
     ]
    },
    {
     "name": "stdout",
     "output_type": "stream",
     "text": [
      "Epoch 81/100, Val Loss: 2.5553, Val RMSE: 1.6116, Val PCC: 0.6709, Val R²: 0.4245\n"
     ]
    },
    {
     "name": "stderr",
     "output_type": "stream",
     "text": [
      "Testing: 100%|██████████| 21/21 [00:08<00:00,  2.41it/s]\n"
     ]
    },
    {
     "name": "stdout",
     "output_type": "stream",
     "text": [
      "Test Loss: 2.2068, Test RMSE: 1.4859, Test PCC: 0.4565, Test R²: 0.1739\n",
      "Epoch 81/100, test RMSE: 1.4859, test PCC: 0.4565, test R²: 0.1739\n"
     ]
    },
    {
     "name": "stderr",
     "output_type": "stream",
     "text": [
      "Epoch 82/100:  91%|█████████ | 224/246 [02:31<00:15,  1.45it/s, Train Loss=0.243] "
     ]
    },
    {
     "name": "stdout",
     "output_type": "stream",
     "text": [
      "Skipping mutation K->S at ('A', '80'): not found in seq_map\n",
      "Skipping entry 1703 after transform.\n"
     ]
    },
    {
     "name": "stderr",
     "output_type": "stream",
     "text": [
      "Epoch 82/100:  93%|█████████▎| 230/246 [02:36<00:11,  1.36it/s, Train Loss=0.0379]"
     ]
    },
    {
     "name": "stdout",
     "output_type": "stream",
     "text": [
      "Skipping entry 6409 after transform.\n"
     ]
    },
    {
     "name": "stderr",
     "output_type": "stream",
     "text": [
      "Epoch 82/100: 100%|██████████| 246/246 [02:45<00:00,  1.48it/s, Train Loss=0.0349]\n"
     ]
    },
    {
     "name": "stdout",
     "output_type": "stream",
     "text": [
      "Epoch 82/100, Train Loss: 0.0770\n"
     ]
    },
    {
     "name": "stderr",
     "output_type": "stream",
     "text": [
      "Validating: 100%|██████████| 28/28 [00:12<00:00,  2.19it/s]\n"
     ]
    },
    {
     "name": "stdout",
     "output_type": "stream",
     "text": [
      "Epoch 82/100, Val Loss: 2.5873, Val RMSE: 1.6112, Val PCC: 0.6628, Val R²: 0.4248\n"
     ]
    },
    {
     "name": "stderr",
     "output_type": "stream",
     "text": [
      "Testing: 100%|██████████| 21/21 [00:09<00:00,  2.23it/s]\n"
     ]
    },
    {
     "name": "stdout",
     "output_type": "stream",
     "text": [
      "Test Loss: 2.1859, Test RMSE: 1.4777, Test PCC: 0.4583, Test R²: 0.1830\n",
      "Epoch 82/100, test RMSE: 1.4777, test PCC: 0.4583, test R²: 0.1830\n"
     ]
    },
    {
     "name": "stderr",
     "output_type": "stream",
     "text": [
      "Epoch 83/100:  59%|█████▉    | 145/246 [01:36<01:03,  1.59it/s, Train Loss=0.101] "
     ]
    },
    {
     "name": "stdout",
     "output_type": "stream",
     "text": [
      "Skipping mutation K->S at ('A', '80'): not found in seq_map\n",
      "Skipping entry 1703 after transform.\n"
     ]
    },
    {
     "name": "stderr",
     "output_type": "stream",
     "text": [
      "Epoch 83/100:  94%|█████████▍| 231/246 [02:32<00:09,  1.66it/s, Train Loss=0.0704]"
     ]
    },
    {
     "name": "stdout",
     "output_type": "stream",
     "text": [
      "Skipping entry 6409 after transform.\n"
     ]
    },
    {
     "name": "stderr",
     "output_type": "stream",
     "text": [
      "Epoch 83/100: 100%|██████████| 246/246 [02:41<00:00,  1.53it/s, Train Loss=0.0962]\n"
     ]
    },
    {
     "name": "stdout",
     "output_type": "stream",
     "text": [
      "Epoch 83/100, Train Loss: 0.0943\n"
     ]
    },
    {
     "name": "stderr",
     "output_type": "stream",
     "text": [
      "Validating: 100%|██████████| 28/28 [00:14<00:00,  1.91it/s]\n"
     ]
    },
    {
     "name": "stdout",
     "output_type": "stream",
     "text": [
      "Epoch 83/100, Val Loss: 2.4458, Val RMSE: 1.5820, Val PCC: 0.6796, Val R²: 0.4455\n"
     ]
    },
    {
     "name": "stderr",
     "output_type": "stream",
     "text": [
      "Testing: 100%|██████████| 21/21 [00:11<00:00,  1.85it/s]\n"
     ]
    },
    {
     "name": "stdout",
     "output_type": "stream",
     "text": [
      "Test Loss: 2.1918, Test RMSE: 1.4790, Test PCC: 0.4550, Test R²: 0.1815\n",
      "Epoch 83/100, test RMSE: 1.4790, test PCC: 0.4550, test R²: 0.1815\n",
      "Best model saved with Val Loss: 2.4458\n"
     ]
    },
    {
     "name": "stderr",
     "output_type": "stream",
     "text": [
      "Epoch 84/100:  30%|███       | 74/246 [00:49<01:44,  1.64it/s, Train Loss=0.092] "
     ]
    },
    {
     "name": "stdout",
     "output_type": "stream",
     "text": [
      "Skipping entry 6409 after transform.\n"
     ]
    },
    {
     "name": "stderr",
     "output_type": "stream",
     "text": [
      "Epoch 84/100:  37%|███▋      | 90/246 [00:59<01:57,  1.33it/s, Train Loss=0.0686]"
     ]
    },
    {
     "name": "stdout",
     "output_type": "stream",
     "text": [
      "Skipping mutation K->S at ('A', '80'): not found in seq_map\n",
      "Skipping entry 1703 after transform.\n"
     ]
    },
    {
     "name": "stderr",
     "output_type": "stream",
     "text": [
      "Epoch 84/100: 100%|██████████| 246/246 [02:29<00:00,  1.65it/s, Train Loss=0.0319]\n"
     ]
    },
    {
     "name": "stdout",
     "output_type": "stream",
     "text": [
      "Epoch 84/100, Train Loss: 0.1086\n"
     ]
    },
    {
     "name": "stderr",
     "output_type": "stream",
     "text": [
      "Validating: 100%|██████████| 28/28 [00:13<00:00,  2.08it/s]\n"
     ]
    },
    {
     "name": "stdout",
     "output_type": "stream",
     "text": [
      "Epoch 84/100, Val Loss: 2.5738, Val RMSE: 1.6117, Val PCC: 0.6650, Val R²: 0.4245\n"
     ]
    },
    {
     "name": "stderr",
     "output_type": "stream",
     "text": [
      "Testing: 100%|██████████| 21/21 [00:09<00:00,  2.19it/s]\n"
     ]
    },
    {
     "name": "stdout",
     "output_type": "stream",
     "text": [
      "Test Loss: 2.1815, Test RMSE: 1.4775, Test PCC: 0.4630, Test R²: 0.1832\n",
      "Epoch 84/100, test RMSE: 1.4775, test PCC: 0.4630, test R²: 0.1832\n"
     ]
    },
    {
     "name": "stderr",
     "output_type": "stream",
     "text": [
      "Epoch 85/100:  42%|████▏     | 104/246 [01:00<01:20,  1.77it/s, Train Loss=0.0645]"
     ]
    },
    {
     "name": "stdout",
     "output_type": "stream",
     "text": [
      "Skipping mutation K->S at ('A', '80'): not found in seq_map\n",
      "Skipping entry 1703 after transform.\n"
     ]
    },
    {
     "name": "stderr",
     "output_type": "stream",
     "text": [
      "Epoch 85/100:  49%|████▉     | 120/246 [01:09<01:11,  1.77it/s, Train Loss=0.0704]"
     ]
    },
    {
     "name": "stdout",
     "output_type": "stream",
     "text": [
      "Skipping entry 6409 after transform.\n"
     ]
    },
    {
     "name": "stderr",
     "output_type": "stream",
     "text": [
      "Epoch 85/100: 100%|██████████| 246/246 [02:21<00:00,  1.74it/s, Train Loss=0.0729]\n"
     ]
    },
    {
     "name": "stdout",
     "output_type": "stream",
     "text": [
      "Epoch 85/100, Train Loss: 0.0935\n"
     ]
    },
    {
     "name": "stderr",
     "output_type": "stream",
     "text": [
      "Validating: 100%|██████████| 28/28 [00:10<00:00,  2.57it/s]\n"
     ]
    },
    {
     "name": "stdout",
     "output_type": "stream",
     "text": [
      "Epoch 85/100, Val Loss: 2.4780, Val RMSE: 1.5904, Val PCC: 0.6768, Val R²: 0.4396\n"
     ]
    },
    {
     "name": "stderr",
     "output_type": "stream",
     "text": [
      "Testing: 100%|██████████| 21/21 [00:10<00:00,  2.08it/s]\n"
     ]
    },
    {
     "name": "stdout",
     "output_type": "stream",
     "text": [
      "Test Loss: 2.2472, Test RMSE: 1.5008, Test PCC: 0.4389, Test R²: 0.1572\n",
      "Epoch 85/100, test RMSE: 1.5008, test PCC: 0.4389, test R²: 0.1572\n"
     ]
    },
    {
     "name": "stderr",
     "output_type": "stream",
     "text": [
      "Epoch 86/100:  16%|█▌        | 39/246 [00:26<02:07,  1.63it/s, Train Loss=0.0466]"
     ]
    },
    {
     "name": "stdout",
     "output_type": "stream",
     "text": [
      "Skipping mutation K->S at ('A', '80'): not found in seq_map\n",
      "Skipping entry 1703 after transform.\n"
     ]
    },
    {
     "name": "stderr",
     "output_type": "stream",
     "text": [
      "Epoch 86/100:  81%|████████▏ | 200/246 [02:02<00:27,  1.64it/s, Train Loss=0.0252]"
     ]
    },
    {
     "name": "stdout",
     "output_type": "stream",
     "text": [
      "Skipping entry 6409 after transform.\n"
     ]
    },
    {
     "name": "stderr",
     "output_type": "stream",
     "text": [
      "Epoch 86/100: 100%|██████████| 246/246 [02:29<00:00,  1.65it/s, Train Loss=0.0131]\n"
     ]
    },
    {
     "name": "stdout",
     "output_type": "stream",
     "text": [
      "Epoch 86/100, Train Loss: 0.0708\n"
     ]
    },
    {
     "name": "stderr",
     "output_type": "stream",
     "text": [
      "Validating: 100%|██████████| 28/28 [00:11<00:00,  2.46it/s]\n"
     ]
    },
    {
     "name": "stdout",
     "output_type": "stream",
     "text": [
      "Epoch 86/100, Val Loss: 2.4502, Val RMSE: 1.5831, Val PCC: 0.6817, Val R²: 0.4448\n"
     ]
    },
    {
     "name": "stderr",
     "output_type": "stream",
     "text": [
      "Testing: 100%|██████████| 21/21 [00:09<00:00,  2.30it/s]\n"
     ]
    },
    {
     "name": "stdout",
     "output_type": "stream",
     "text": [
      "Test Loss: 2.2087, Test RMSE: 1.4859, Test PCC: 0.4562, Test R²: 0.1739\n",
      "Epoch 86/100, test RMSE: 1.4859, test PCC: 0.4562, test R²: 0.1739\n"
     ]
    },
    {
     "name": "stderr",
     "output_type": "stream",
     "text": [
      "Epoch 87/100:   0%|          | 0/246 [00:00<?, ?it/s]"
     ]
    },
    {
     "name": "stdout",
     "output_type": "stream",
     "text": [
      "Skipping entry 6409 after transform.\n"
     ]
    },
    {
     "name": "stderr",
     "output_type": "stream",
     "text": [
      "Epoch 87/100:  27%|██▋       | 66/246 [00:40<01:46,  1.69it/s, Train Loss=0.0148]"
     ]
    },
    {
     "name": "stdout",
     "output_type": "stream",
     "text": [
      "Skipping mutation K->S at ('A', '80'): not found in seq_map\n",
      "Skipping entry 1703 after transform.\n"
     ]
    },
    {
     "name": "stderr",
     "output_type": "stream",
     "text": [
      "Epoch 87/100: 100%|██████████| 246/246 [02:25<00:00,  1.70it/s, Train Loss=0.109] \n"
     ]
    },
    {
     "name": "stdout",
     "output_type": "stream",
     "text": [
      "Epoch 87/100, Train Loss: 0.0612\n"
     ]
    },
    {
     "name": "stderr",
     "output_type": "stream",
     "text": [
      "Validating: 100%|██████████| 28/28 [00:12<00:00,  2.24it/s]\n"
     ]
    },
    {
     "name": "stdout",
     "output_type": "stream",
     "text": [
      "Epoch 87/100, Val Loss: 2.4955, Val RMSE: 1.5858, Val PCC: 0.6804, Val R²: 0.4428\n"
     ]
    },
    {
     "name": "stderr",
     "output_type": "stream",
     "text": [
      "Testing: 100%|██████████| 21/21 [00:12<00:00,  1.72it/s]\n"
     ]
    },
    {
     "name": "stdout",
     "output_type": "stream",
     "text": [
      "Test Loss: 2.1912, Test RMSE: 1.4822, Test PCC: 0.4561, Test R²: 0.1780\n",
      "Epoch 87/100, test RMSE: 1.4822, test PCC: 0.4561, test R²: 0.1780\n"
     ]
    },
    {
     "name": "stderr",
     "output_type": "stream",
     "text": [
      "Epoch 88/100:   1%|          | 2/246 [00:02<05:04,  1.25s/it, Train Loss=0.0663]"
     ]
    },
    {
     "name": "stdout",
     "output_type": "stream",
     "text": [
      "Skipping entry 6409 after transform.\n"
     ]
    },
    {
     "name": "stderr",
     "output_type": "stream",
     "text": [
      "Epoch 88/100:   1%|          | 3/246 [00:03<03:48,  1.07it/s, Train Loss=0.107] "
     ]
    },
    {
     "name": "stdout",
     "output_type": "stream",
     "text": [
      "Skipping mutation K->S at ('A', '80'): not found in seq_map\n",
      "Skipping entry 1703 after transform.\n"
     ]
    },
    {
     "name": "stderr",
     "output_type": "stream",
     "text": [
      "Epoch 88/100: 100%|██████████| 246/246 [02:26<00:00,  1.67it/s, Train Loss=0.261] \n"
     ]
    },
    {
     "name": "stdout",
     "output_type": "stream",
     "text": [
      "Epoch 88/100, Train Loss: 0.0873\n"
     ]
    },
    {
     "name": "stderr",
     "output_type": "stream",
     "text": [
      "Validating: 100%|██████████| 28/28 [00:16<00:00,  1.70it/s]\n"
     ]
    },
    {
     "name": "stdout",
     "output_type": "stream",
     "text": [
      "Epoch 88/100, Val Loss: 2.4888, Val RMSE: 1.5944, Val PCC: 0.6722, Val R²: 0.4368\n"
     ]
    },
    {
     "name": "stderr",
     "output_type": "stream",
     "text": [
      "Testing: 100%|██████████| 21/21 [00:09<00:00,  2.15it/s]\n"
     ]
    },
    {
     "name": "stdout",
     "output_type": "stream",
     "text": [
      "Test Loss: 2.1643, Test RMSE: 1.4723, Test PCC: 0.4630, Test R²: 0.1889\n",
      "Epoch 88/100, test RMSE: 1.4723, test PCC: 0.4630, test R²: 0.1889\n"
     ]
    },
    {
     "name": "stderr",
     "output_type": "stream",
     "text": [
      "Epoch 89/100:  33%|███▎      | 80/246 [00:49<01:34,  1.76it/s, Train Loss=0.0725]"
     ]
    },
    {
     "name": "stdout",
     "output_type": "stream",
     "text": [
      "Skipping entry 6409 after transform.\n"
     ]
    },
    {
     "name": "stderr",
     "output_type": "stream",
     "text": [
      "Epoch 89/100:  41%|████      | 101/246 [01:01<01:22,  1.77it/s, Train Loss=0.0702]"
     ]
    },
    {
     "name": "stdout",
     "output_type": "stream",
     "text": [
      "Skipping mutation K->S at ('A', '80'): not found in seq_map\n",
      "Skipping entry 1703 after transform.\n"
     ]
    },
    {
     "name": "stderr",
     "output_type": "stream",
     "text": [
      "Epoch 89/100: 100%|██████████| 246/246 [02:23<00:00,  1.72it/s, Train Loss=0.104] \n"
     ]
    },
    {
     "name": "stdout",
     "output_type": "stream",
     "text": [
      "Epoch 89/100, Train Loss: 0.0702\n"
     ]
    },
    {
     "name": "stderr",
     "output_type": "stream",
     "text": [
      "Validating: 100%|██████████| 28/28 [00:12<00:00,  2.18it/s]\n"
     ]
    },
    {
     "name": "stdout",
     "output_type": "stream",
     "text": [
      "Epoch 89/100, Val Loss: 2.4967, Val RMSE: 1.5968, Val PCC: 0.6766, Val R²: 0.4351\n"
     ]
    },
    {
     "name": "stderr",
     "output_type": "stream",
     "text": [
      "Testing: 100%|██████████| 21/21 [00:11<00:00,  1.86it/s]\n"
     ]
    },
    {
     "name": "stdout",
     "output_type": "stream",
     "text": [
      "Test Loss: 2.1795, Test RMSE: 1.4778, Test PCC: 0.4652, Test R²: 0.1828\n",
      "Epoch 89/100, test RMSE: 1.4778, test PCC: 0.4652, test R²: 0.1828\n"
     ]
    },
    {
     "name": "stderr",
     "output_type": "stream",
     "text": [
      "Epoch 90/100:  41%|████      | 100/246 [01:04<01:27,  1.66it/s, Train Loss=0.055]"
     ]
    },
    {
     "name": "stdout",
     "output_type": "stream",
     "text": [
      "Skipping mutation K->S at ('A', '80'): not found in seq_map\n",
      "Skipping entry 1703 after transform.\n"
     ]
    },
    {
     "name": "stderr",
     "output_type": "stream",
     "text": [
      "Epoch 90/100:  50%|████▉     | 122/246 [01:18<01:26,  1.43it/s, Train Loss=0.0317]"
     ]
    },
    {
     "name": "stdout",
     "output_type": "stream",
     "text": [
      "Skipping entry 6409 after transform.\n"
     ]
    },
    {
     "name": "stderr",
     "output_type": "stream",
     "text": [
      "Epoch 90/100: 100%|██████████| 246/246 [02:36<00:00,  1.58it/s, Train Loss=0.0783]\n"
     ]
    },
    {
     "name": "stdout",
     "output_type": "stream",
     "text": [
      "Epoch 90/100, Train Loss: 0.0552\n"
     ]
    },
    {
     "name": "stderr",
     "output_type": "stream",
     "text": [
      "Validating: 100%|██████████| 28/28 [00:12<00:00,  2.22it/s]\n"
     ]
    },
    {
     "name": "stdout",
     "output_type": "stream",
     "text": [
      "Epoch 90/100, Val Loss: 2.4404, Val RMSE: 1.5811, Val PCC: 0.6796, Val R²: 0.4461\n"
     ]
    },
    {
     "name": "stderr",
     "output_type": "stream",
     "text": [
      "Testing: 100%|██████████| 21/21 [00:09<00:00,  2.16it/s]\n"
     ]
    },
    {
     "name": "stdout",
     "output_type": "stream",
     "text": [
      "Test Loss: 2.1646, Test RMSE: 1.4721, Test PCC: 0.4664, Test R²: 0.1891\n",
      "Epoch 90/100, test RMSE: 1.4721, test PCC: 0.4664, test R²: 0.1891\n",
      "Best model saved with Val Loss: 2.4404\n"
     ]
    },
    {
     "name": "stderr",
     "output_type": "stream",
     "text": [
      "Epoch 91/100:   9%|▉         | 23/246 [00:16<02:13,  1.68it/s, Train Loss=0.0402]"
     ]
    },
    {
     "name": "stdout",
     "output_type": "stream",
     "text": [
      "Skipping entry 6409 after transform.\n"
     ]
    },
    {
     "name": "stderr",
     "output_type": "stream",
     "text": [
      "Epoch 91/100:  70%|███████   | 173/246 [01:42<00:41,  1.75it/s, Train Loss=0.0517]"
     ]
    },
    {
     "name": "stdout",
     "output_type": "stream",
     "text": [
      "Skipping mutation K->S at ('A', '80'): not found in seq_map\n",
      "Skipping entry 1703 after transform.\n"
     ]
    },
    {
     "name": "stderr",
     "output_type": "stream",
     "text": [
      "Epoch 91/100: 100%|██████████| 246/246 [02:24<00:00,  1.71it/s, Train Loss=0.0563]\n"
     ]
    },
    {
     "name": "stdout",
     "output_type": "stream",
     "text": [
      "Epoch 91/100, Train Loss: 0.0516\n"
     ]
    },
    {
     "name": "stderr",
     "output_type": "stream",
     "text": [
      "Validating: 100%|██████████| 28/28 [00:11<00:00,  2.37it/s]\n"
     ]
    },
    {
     "name": "stdout",
     "output_type": "stream",
     "text": [
      "Epoch 91/100, Val Loss: 2.4698, Val RMSE: 1.5842, Val PCC: 0.6763, Val R²: 0.4439\n"
     ]
    },
    {
     "name": "stderr",
     "output_type": "stream",
     "text": [
      "Testing: 100%|██████████| 21/21 [00:09<00:00,  2.12it/s]\n"
     ]
    },
    {
     "name": "stdout",
     "output_type": "stream",
     "text": [
      "Test Loss: 2.1341, Test RMSE: 1.4609, Test PCC: 0.4753, Test R²: 0.2014\n",
      "Epoch 91/100, test RMSE: 1.4609, test PCC: 0.4753, test R²: 0.2014\n"
     ]
    },
    {
     "name": "stderr",
     "output_type": "stream",
     "text": [
      "Epoch 92/100:  58%|█████▊    | 142/246 [01:27<01:01,  1.70it/s, Train Loss=0.0348]"
     ]
    },
    {
     "name": "stdout",
     "output_type": "stream",
     "text": [
      "Skipping mutation K->S at ('A', '80'): not found in seq_map\n",
      "Skipping entry 1703 after transform.\n"
     ]
    },
    {
     "name": "stderr",
     "output_type": "stream",
     "text": [
      "Epoch 92/100:  59%|█████▉    | 145/246 [01:29<00:58,  1.73it/s, Train Loss=0.0384]"
     ]
    },
    {
     "name": "stdout",
     "output_type": "stream",
     "text": [
      "Skipping entry 6409 after transform.\n"
     ]
    },
    {
     "name": "stderr",
     "output_type": "stream",
     "text": [
      "Epoch 92/100: 100%|██████████| 246/246 [02:28<00:00,  1.65it/s, Train Loss=0.0653]\n"
     ]
    },
    {
     "name": "stdout",
     "output_type": "stream",
     "text": [
      "Epoch 92/100, Train Loss: 0.0545\n"
     ]
    },
    {
     "name": "stderr",
     "output_type": "stream",
     "text": [
      "Validating: 100%|██████████| 28/28 [00:14<00:00,  1.97it/s]\n"
     ]
    },
    {
     "name": "stdout",
     "output_type": "stream",
     "text": [
      "Epoch 92/100, Val Loss: 2.5040, Val RMSE: 1.6019, Val PCC: 0.6664, Val R²: 0.4314\n"
     ]
    },
    {
     "name": "stderr",
     "output_type": "stream",
     "text": [
      "Testing: 100%|██████████| 21/21 [00:10<00:00,  1.98it/s]\n"
     ]
    },
    {
     "name": "stdout",
     "output_type": "stream",
     "text": [
      "Test Loss: 2.1117, Test RMSE: 1.4534, Test PCC: 0.4824, Test R²: 0.2096\n",
      "Epoch 92/100, test RMSE: 1.4534, test PCC: 0.4824, test R²: 0.2096\n"
     ]
    },
    {
     "name": "stderr",
     "output_type": "stream",
     "text": [
      "Epoch 93/100:  35%|███▍      | 85/246 [00:58<01:44,  1.54it/s, Train Loss=0.0271]"
     ]
    },
    {
     "name": "stdout",
     "output_type": "stream",
     "text": [
      "Skipping mutation K->S at ('A', '80'): not found in seq_map\n",
      "Skipping entry 1703 after transform.\n"
     ]
    },
    {
     "name": "stderr",
     "output_type": "stream",
     "text": [
      "Epoch 93/100:  74%|███████▍  | 183/246 [01:59<00:36,  1.74it/s, Train Loss=0.0765]"
     ]
    },
    {
     "name": "stdout",
     "output_type": "stream",
     "text": [
      "Skipping entry 6409 after transform.\n"
     ]
    },
    {
     "name": "stderr",
     "output_type": "stream",
     "text": [
      "Epoch 93/100: 100%|██████████| 246/246 [02:37<00:00,  1.57it/s, Train Loss=0.0254]\n"
     ]
    },
    {
     "name": "stdout",
     "output_type": "stream",
     "text": [
      "Epoch 93/100, Train Loss: 0.0597\n"
     ]
    },
    {
     "name": "stderr",
     "output_type": "stream",
     "text": [
      "Validating: 100%|██████████| 28/28 [00:14<00:00,  1.91it/s]\n"
     ]
    },
    {
     "name": "stdout",
     "output_type": "stream",
     "text": [
      "Epoch 93/100, Val Loss: 2.4484, Val RMSE: 1.5648, Val PCC: 0.6876, Val R²: 0.4575\n"
     ]
    },
    {
     "name": "stderr",
     "output_type": "stream",
     "text": [
      "Testing: 100%|██████████| 21/21 [00:09<00:00,  2.14it/s]\n"
     ]
    },
    {
     "name": "stdout",
     "output_type": "stream",
     "text": [
      "Test Loss: 2.1723, Test RMSE: 1.4719, Test PCC: 0.4654, Test R²: 0.1894\n",
      "Epoch 93/100, test RMSE: 1.4719, test PCC: 0.4654, test R²: 0.1894\n"
     ]
    },
    {
     "name": "stderr",
     "output_type": "stream",
     "text": [
      "Epoch 94/100:  20%|█▉        | 48/246 [00:36<01:57,  1.68it/s, Train Loss=0.0466]"
     ]
    },
    {
     "name": "stdout",
     "output_type": "stream",
     "text": [
      "Skipping mutation K->S at ('A', '80'): not found in seq_map\n",
      "Skipping entry 1703 after transform.\n"
     ]
    },
    {
     "name": "stderr",
     "output_type": "stream",
     "text": [
      "Epoch 94/100:  59%|█████▊    | 144/246 [01:32<00:59,  1.70it/s, Train Loss=0.0701]"
     ]
    },
    {
     "name": "stdout",
     "output_type": "stream",
     "text": [
      "Skipping entry 6409 after transform.\n"
     ]
    },
    {
     "name": "stderr",
     "output_type": "stream",
     "text": [
      "Epoch 94/100: 100%|██████████| 246/246 [02:33<00:00,  1.60it/s, Train Loss=0.135] \n"
     ]
    },
    {
     "name": "stdout",
     "output_type": "stream",
     "text": [
      "Epoch 94/100, Train Loss: 0.0582\n"
     ]
    },
    {
     "name": "stderr",
     "output_type": "stream",
     "text": [
      "Validating: 100%|██████████| 28/28 [00:14<00:00,  1.94it/s]\n"
     ]
    },
    {
     "name": "stdout",
     "output_type": "stream",
     "text": [
      "Epoch 94/100, Val Loss: 2.4032, Val RMSE: 1.5594, Val PCC: 0.6872, Val R²: 0.4612\n"
     ]
    },
    {
     "name": "stderr",
     "output_type": "stream",
     "text": [
      "Testing: 100%|██████████| 21/21 [00:09<00:00,  2.32it/s]\n"
     ]
    },
    {
     "name": "stdout",
     "output_type": "stream",
     "text": [
      "Test Loss: 2.1624, Test RMSE: 1.4697, Test PCC: 0.4663, Test R²: 0.1918\n",
      "Epoch 94/100, test RMSE: 1.4697, test PCC: 0.4663, test R²: 0.1918\n",
      "Best model saved with Val Loss: 2.4032\n"
     ]
    },
    {
     "name": "stderr",
     "output_type": "stream",
     "text": [
      "Epoch 95/100:  41%|████▏     | 102/246 [01:04<01:22,  1.74it/s, Train Loss=0.0335]"
     ]
    },
    {
     "name": "stdout",
     "output_type": "stream",
     "text": [
      "Skipping mutation K->S at ('A', '80'): not found in seq_map\n",
      "Skipping entry 1703 after transform.\n"
     ]
    },
    {
     "name": "stderr",
     "output_type": "stream",
     "text": [
      "Epoch 95/100:  95%|█████████▍| 233/246 [02:21<00:11,  1.10it/s, Train Loss=0.0572]"
     ]
    },
    {
     "name": "stdout",
     "output_type": "stream",
     "text": [
      "Skipping entry 6409 after transform.\n"
     ]
    },
    {
     "name": "stderr",
     "output_type": "stream",
     "text": [
      "Epoch 95/100: 100%|██████████| 246/246 [02:29<00:00,  1.65it/s, Train Loss=0.0353]\n"
     ]
    },
    {
     "name": "stdout",
     "output_type": "stream",
     "text": [
      "Epoch 95/100, Train Loss: 0.0683\n"
     ]
    },
    {
     "name": "stderr",
     "output_type": "stream",
     "text": [
      "Validating: 100%|██████████| 28/28 [00:12<00:00,  2.30it/s]\n"
     ]
    },
    {
     "name": "stdout",
     "output_type": "stream",
     "text": [
      "Epoch 95/100, Val Loss: 2.5047, Val RMSE: 1.6015, Val PCC: 0.6754, Val R²: 0.4317\n"
     ]
    },
    {
     "name": "stderr",
     "output_type": "stream",
     "text": [
      "Testing: 100%|██████████| 21/21 [00:11<00:00,  1.81it/s]\n"
     ]
    },
    {
     "name": "stdout",
     "output_type": "stream",
     "text": [
      "Test Loss: 2.1769, Test RMSE: 1.4773, Test PCC: 0.4621, Test R²: 0.1834\n",
      "Epoch 95/100, test RMSE: 1.4773, test PCC: 0.4621, test R²: 0.1834\n"
     ]
    },
    {
     "name": "stderr",
     "output_type": "stream",
     "text": [
      "Epoch 96/100:   6%|▌         | 14/246 [00:11<02:16,  1.70it/s, Train Loss=0.131] "
     ]
    },
    {
     "name": "stdout",
     "output_type": "stream",
     "text": [
      "Skipping entry 6409 after transform.\n"
     ]
    },
    {
     "name": "stderr",
     "output_type": "stream",
     "text": [
      "Epoch 96/100:  77%|███████▋  | 190/246 [01:54<00:34,  1.60it/s, Train Loss=0.0729]"
     ]
    },
    {
     "name": "stdout",
     "output_type": "stream",
     "text": [
      "Skipping mutation K->S at ('A', '80'): not found in seq_map\n",
      "Skipping entry 1703 after transform.\n"
     ]
    },
    {
     "name": "stderr",
     "output_type": "stream",
     "text": [
      "Epoch 96/100: 100%|██████████| 246/246 [02:28<00:00,  1.65it/s, Train Loss=0.00889]\n"
     ]
    },
    {
     "name": "stdout",
     "output_type": "stream",
     "text": [
      "Epoch 96/100, Train Loss: 0.0636\n"
     ]
    },
    {
     "name": "stderr",
     "output_type": "stream",
     "text": [
      "Validating: 100%|██████████| 28/28 [00:12<00:00,  2.33it/s]\n"
     ]
    },
    {
     "name": "stdout",
     "output_type": "stream",
     "text": [
      "Epoch 96/100, Val Loss: 2.5130, Val RMSE: 1.5986, Val PCC: 0.6762, Val R²: 0.4338\n"
     ]
    },
    {
     "name": "stderr",
     "output_type": "stream",
     "text": [
      "Testing: 100%|██████████| 21/21 [00:11<00:00,  1.80it/s]\n"
     ]
    },
    {
     "name": "stdout",
     "output_type": "stream",
     "text": [
      "Test Loss: 2.2233, Test RMSE: 1.4884, Test PCC: 0.4510, Test R²: 0.1711\n",
      "Epoch 96/100, test RMSE: 1.4884, test PCC: 0.4510, test R²: 0.1711\n"
     ]
    },
    {
     "name": "stderr",
     "output_type": "stream",
     "text": [
      "Epoch 97/100:   5%|▌         | 13/246 [00:11<02:56,  1.32it/s, Train Loss=0.0614]"
     ]
    },
    {
     "name": "stdout",
     "output_type": "stream",
     "text": [
      "Skipping entry 6409 after transform.\n"
     ]
    },
    {
     "name": "stderr",
     "output_type": "stream",
     "text": [
      "Epoch 97/100:  53%|█████▎    | 130/246 [01:26<01:06,  1.74it/s, Train Loss=0.102] "
     ]
    },
    {
     "name": "stdout",
     "output_type": "stream",
     "text": [
      "Skipping mutation K->S at ('A', '80'): not found in seq_map\n",
      "Skipping entry 1703 after transform.\n"
     ]
    },
    {
     "name": "stderr",
     "output_type": "stream",
     "text": [
      "Epoch 97/100: 100%|██████████| 246/246 [02:42<00:00,  1.51it/s, Train Loss=0.076] \n"
     ]
    },
    {
     "name": "stdout",
     "output_type": "stream",
     "text": [
      "Epoch 97/100, Train Loss: 0.0551\n"
     ]
    },
    {
     "name": "stderr",
     "output_type": "stream",
     "text": [
      "Validating: 100%|██████████| 28/28 [00:11<00:00,  2.45it/s]\n"
     ]
    },
    {
     "name": "stdout",
     "output_type": "stream",
     "text": [
      "Epoch 97/100, Val Loss: 2.4594, Val RMSE: 1.5784, Val PCC: 0.6847, Val R²: 0.4480\n"
     ]
    },
    {
     "name": "stderr",
     "output_type": "stream",
     "text": [
      "Testing: 100%|██████████| 21/21 [00:10<00:00,  2.00it/s]\n"
     ]
    },
    {
     "name": "stdout",
     "output_type": "stream",
     "text": [
      "Test Loss: 2.2012, Test RMSE: 1.4839, Test PCC: 0.4600, Test R²: 0.1760\n",
      "Epoch 97/100, test RMSE: 1.4839, test PCC: 0.4600, test R²: 0.1760\n"
     ]
    },
    {
     "name": "stderr",
     "output_type": "stream",
     "text": [
      "Epoch 98/100:  18%|█▊        | 44/246 [00:29<02:02,  1.66it/s, Train Loss=0.0579]"
     ]
    },
    {
     "name": "stdout",
     "output_type": "stream",
     "text": [
      "Skipping mutation K->S at ('A', '80'): not found in seq_map\n",
      "Skipping entry 1703 after transform.\n"
     ]
    },
    {
     "name": "stderr",
     "output_type": "stream",
     "text": [
      "Epoch 98/100:  71%|███████   | 175/246 [01:48<00:40,  1.74it/s, Train Loss=0.063] "
     ]
    },
    {
     "name": "stdout",
     "output_type": "stream",
     "text": [
      "Skipping entry 6409 after transform.\n"
     ]
    },
    {
     "name": "stderr",
     "output_type": "stream",
     "text": [
      "Epoch 98/100: 100%|██████████| 246/246 [02:31<00:00,  1.62it/s, Train Loss=0.0505]\n"
     ]
    },
    {
     "name": "stdout",
     "output_type": "stream",
     "text": [
      "Epoch 98/100, Train Loss: 0.0570\n"
     ]
    },
    {
     "name": "stderr",
     "output_type": "stream",
     "text": [
      "Validating: 100%|██████████| 28/28 [00:12<00:00,  2.33it/s]\n"
     ]
    },
    {
     "name": "stdout",
     "output_type": "stream",
     "text": [
      "Epoch 98/100, Val Loss: 2.4739, Val RMSE: 1.5900, Val PCC: 0.6748, Val R²: 0.4399\n"
     ]
    },
    {
     "name": "stderr",
     "output_type": "stream",
     "text": [
      "Testing: 100%|██████████| 21/21 [00:11<00:00,  1.87it/s]\n"
     ]
    },
    {
     "name": "stdout",
     "output_type": "stream",
     "text": [
      "Test Loss: 2.1686, Test RMSE: 1.4731, Test PCC: 0.4602, Test R²: 0.1880\n",
      "Epoch 98/100, test RMSE: 1.4731, test PCC: 0.4602, test R²: 0.1880\n"
     ]
    },
    {
     "name": "stderr",
     "output_type": "stream",
     "text": [
      "Epoch 99/100:  21%|██        | 52/246 [00:34<01:54,  1.70it/s, Train Loss=0.0372]"
     ]
    },
    {
     "name": "stdout",
     "output_type": "stream",
     "text": [
      "Skipping entry 6409 after transform."
     ]
    },
    {
     "name": "stderr",
     "output_type": "stream",
     "text": [
      "Epoch 99/100:  22%|██▏       | 53/246 [00:34<01:53,  1.71it/s, Train Loss=0.0372]"
     ]
    },
    {
     "name": "stdout",
     "output_type": "stream",
     "text": [
      "\n"
     ]
    },
    {
     "name": "stderr",
     "output_type": "stream",
     "text": [
      "Epoch 99/100:  91%|█████████ | 224/246 [02:15<00:15,  1.46it/s, Train Loss=0.0618]"
     ]
    },
    {
     "name": "stdout",
     "output_type": "stream",
     "text": [
      "Skipping mutation K->S at ('A', '80'): not found in seq_map\n"
     ]
    },
    {
     "name": "stderr",
     "output_type": "stream",
     "text": [
      "Epoch 99/100:  91%|█████████▏| 225/246 [02:16<00:13,  1.53it/s, Train Loss=0.0465]"
     ]
    },
    {
     "name": "stdout",
     "output_type": "stream",
     "text": [
      "Skipping entry 1703 after transform.\n"
     ]
    },
    {
     "name": "stderr",
     "output_type": "stream",
     "text": [
      "Epoch 99/100: 100%|██████████| 246/246 [02:28<00:00,  1.65it/s, Train Loss=0.132] \n"
     ]
    },
    {
     "name": "stdout",
     "output_type": "stream",
     "text": [
      "Epoch 99/100, Train Loss: 0.0534\n"
     ]
    },
    {
     "name": "stderr",
     "output_type": "stream",
     "text": [
      "Validating: 100%|██████████| 28/28 [00:12<00:00,  2.21it/s]\n"
     ]
    },
    {
     "name": "stdout",
     "output_type": "stream",
     "text": [
      "Epoch 99/100, Val Loss: 2.5332, Val RMSE: 1.5973, Val PCC: 0.6699, Val R²: 0.4347\n"
     ]
    },
    {
     "name": "stderr",
     "output_type": "stream",
     "text": [
      "Testing: 100%|██████████| 21/21 [00:09<00:00,  2.12it/s]\n"
     ]
    },
    {
     "name": "stdout",
     "output_type": "stream",
     "text": [
      "Test Loss: 2.1591, Test RMSE: 1.4696, Test PCC: 0.4663, Test R²: 0.1918\n",
      "Epoch 99/100, test RMSE: 1.4696, test PCC: 0.4663, test R²: 0.1918\n"
     ]
    },
    {
     "name": "stderr",
     "output_type": "stream",
     "text": [
      "Epoch 100/100:  20%|█▉        | 48/246 [00:33<01:53,  1.74it/s, Train Loss=0.0485]"
     ]
    },
    {
     "name": "stdout",
     "output_type": "stream",
     "text": [
      "Skipping mutation K->S at ('A', '80'): not found in seq_map\n",
      "Skipping entry 1703 after transform.\n"
     ]
    },
    {
     "name": "stderr",
     "output_type": "stream",
     "text": [
      "Epoch 100/100:  94%|█████████▍| 232/246 [02:21<00:07,  1.75it/s, Train Loss=0.0913]"
     ]
    },
    {
     "name": "stdout",
     "output_type": "stream",
     "text": [
      "Skipping entry 6409 after transform.\n"
     ]
    },
    {
     "name": "stderr",
     "output_type": "stream",
     "text": [
      "Epoch 100/100: 100%|██████████| 246/246 [02:30<00:00,  1.63it/s, Train Loss=0.0307]\n"
     ]
    },
    {
     "name": "stdout",
     "output_type": "stream",
     "text": [
      "Epoch 100/100, Train Loss: 0.0760\n"
     ]
    },
    {
     "name": "stderr",
     "output_type": "stream",
     "text": [
      "Validating: 100%|██████████| 28/28 [00:12<00:00,  2.25it/s]\n"
     ]
    },
    {
     "name": "stdout",
     "output_type": "stream",
     "text": [
      "Epoch 100/100, Val Loss: 2.4270, Val RMSE: 1.5765, Val PCC: 0.6858, Val R²: 0.4493\n"
     ]
    },
    {
     "name": "stderr",
     "output_type": "stream",
     "text": [
      "Testing: 100%|██████████| 21/21 [00:13<00:00,  1.59it/s]\n"
     ]
    },
    {
     "name": "stdout",
     "output_type": "stream",
     "text": [
      "Test Loss: 2.3641, Test RMSE: 1.5358, Test PCC: 0.4085, Test R²: 0.1175\n",
      "Epoch 100/100, test RMSE: 1.5358, test PCC: 0.4085, test R²: 0.1175\n"
     ]
    }
   ],
   "source": [
    "train_model(model, train_loader, val_loader,test_loader,optimizer = optimizer, epochs=100, device= torch.device('cuda:0'))\n"
   ]
  },
  {
   "cell_type": "code",
   "execution_count": 15,
   "metadata": {},
   "outputs": [
    {
     "name": "stderr",
     "output_type": "stream",
     "text": [
      "/tmp/ipykernel_1272984/206737171.py:3: FutureWarning: You are using `torch.load` with `weights_only=False` (the current default value), which uses the default pickle module implicitly. It is possible to construct malicious pickle data which will execute arbitrary code during unpickling (See https://github.com/pytorch/pytorch/blob/main/SECURITY.md#untrusted-models for more details). In a future release, the default value for `weights_only` will be flipped to `True`. This limits the functions that could be executed during unpickling. Arbitrary objects will no longer be allowed to be loaded via this mode unless they are explicitly allowlisted by the user via `torch.serialization.add_safe_globals`. We recommend you start setting `weights_only=True` for any use case where you don't have full control of the loaded file. Please open an issue on GitHub for any issues related to this experimental feature.\n",
      "  model.load_state_dict(torch.load(best_model_path))\n",
      "Testing: 100%|██████████| 21/21 [00:08<00:00,  2.37it/s]\n"
     ]
    },
    {
     "name": "stdout",
     "output_type": "stream",
     "text": [
      "Test Loss: 2.1639, Test RMSE: 1.4721, Test PCC: 0.4641, Test R²: 0.1891\n"
     ]
    },
    {
     "data": {
      "text/plain": [
       "(1.4720819, 0.46406485578096124, 0.18914538621902466, 2.163921418644133)"
      ]
     },
     "execution_count": 15,
     "metadata": {},
     "output_type": "execute_result"
    }
   ],
   "source": [
    "best_model_path = \"/home/hongtan/pretrain_single/weight/best_model.pth\"\n",
    "model.to(device)\n",
    "model.load_state_dict(torch.load(best_model_path))\n",
    "\n",
    "# 在测试集上测试\n",
    "test_model(model, test_loader, device='cuda:0')"
   ]
  },
  {
   "cell_type": "markdown",
   "metadata": {},
   "source": [
    "Epoch 1/1000, Train Loss: 3.7755478318733506\n",
    "Validating: 100%|██████████| 9/9 [00:15<00:00,  1.73s/it]\n",
    "Validation Loss: 3.440200130144755\n",
    "Epoch 1/1000, Val RMSE: 1.8626, Val PCC: 0.6669, Val R²: 0.4344\n",
    "Epoch 2/1000, Train Loss: 2.769809875307204\n",
    "Validating: 100%|██████████| 9/9 [00:18<00:00,  2.03s/it]\n",
    "Validation Loss: 3.4820684327019586\n",
    "Epoch 2/1000, Val RMSE: 1.8031, Val PCC: 0.6885, Val R²: 0.4700\n",
    "Epoch 3/1000, Train Loss: 2.436043185523794\n",
    "Validating: 100%|██████████| 9/9 [00:14<00:00,  1.66s/it]\n",
    "Validation Loss: 3.3180822796291776\n",
    "Epoch 3/1000, Val RMSE: 1.8264, Val PCC: 0.6820, Val R²: 0.4562\n",
    "Epoch 4/1000, Train Loss: 2.396531761447086\n",
    "Validating: 100%|██████████| 9/9 [00:19<00:00,  2.22s/it]\n",
    "Validation Loss: 3.402861820326911\n",
    "Epoch 4/1000, Val RMSE: 1.8588, Val PCC: 0.7065, Val R²: 0.4368\n",
    "Epoch 5/1000, Train Loss: 2.2285565168042725\n",
    "Validating: 100%|██████████| 9/9 [00:17<00:00,  1.97s/it]\n",
    "Validation Loss: 3.3189518451690674\n",
    "Epoch 5/1000, Val RMSE: 1.8318, Val PCC: 0.6858, Val R²: 0.4530\n",
    "Epoch 6/1000, Train Loss: 2.437140565884264\n",
    "Validating: 100%|██████████| 9/9 [00:17<00:00,  1.94s/it]\n",
    "Validation Loss: 3.866072667969598\n",
    "Epoch 6/1000, Val RMSE: 1.9175, Val PCC: 0.6353, Val R²: 0.4006\n",
    "Epoch 7/1000, Train Loss: 2.5104055570650705\n",
    "Validating: 100%|██████████| 9/9 [00:16<00:00,  1.81s/it]\n",
    "Validation Loss: 4.321215364668104\n",
    "Epoch 7/1000, Val RMSE: 2.0865, Val PCC: 0.5843, Val R²: 0.2903\n",
    "Epoch 8/1000, Train Loss: 4.1250943533981905\n",
    "Validating: 100%|██████████| 9/9 [00:16<00:00,  1.83s/it]\n",
    "Validation Loss: 4.389447000291613\n",
    "Epoch 8/1000, Val RMSE: 2.0988, Val PCC: 0.5502, Val R²: 0.2819\n",
    "Epoch 9/1000, Train Loss: 3.9547084675559514\n",
    "Validating: 100%|██████████| 9/9 [00:17<00:00,  1.98s/it]\n",
    "Validation Loss: 4.163823180728489\n",
    "Epoch 9/1000, Val RMSE: 2.0451, Val PCC: 0.5684, Val R²: 0.3181"
   ]
  },
  {
   "cell_type": "markdown",
   "metadata": {},
   "source": []
  }
 ],
 "metadata": {
  "kernelspec": {
   "display_name": "DDAffinity",
   "language": "python",
   "name": "python3"
  },
  "language_info": {
   "codemirror_mode": {
    "name": "ipython",
    "version": 3
   },
   "file_extension": ".py",
   "mimetype": "text/x-python",
   "name": "python",
   "nbconvert_exporter": "python",
   "pygments_lexer": "ipython3",
   "version": "3.10.14"
  }
 },
 "nbformat": 4,
 "nbformat_minor": 2
}
