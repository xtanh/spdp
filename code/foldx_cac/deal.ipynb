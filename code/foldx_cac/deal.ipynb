{
 "cells": [
  {
   "cell_type": "code",
   "execution_count": 1,
   "metadata": {},
   "outputs": [
    {
     "name": "stdout",
     "output_type": "stream",
     "text": [
      "     pdbcode mutation parsed_mutation\n",
      "0       1A0F    SA11A            A11A\n",
      "1       1A7V   AA104H           A104H\n",
      "2       1A7V    AA66H            A66H\n",
      "3       1A7V    AA91H            A91H\n",
      "4       1A7V     DA3H             A3H\n",
      "...      ...      ...             ...\n",
      "1652    1IOB     CA8S             A8S\n",
      "1653    1IOB    LA10A            A10A\n",
      "1654    3DUF   VG135A           G135A\n",
      "1655    3DUF   AG165G           G165G\n",
      "1656    6XPP   FD345A           D345A\n",
      "\n",
      "[1657 rows x 3 columns]\n",
      "Processed data saved to ./parsed_mutations.csv\n"
     ]
    }
   ],
   "source": [
    "import pandas as pd\n",
    "\n",
    "# 读取CSV文件\n",
    "file_path = '/home/hongtan/pretrain_single/final_dataset/test_1657/test_final.csv'  # 替换为你的实际文件路径\n",
    "df = pd.read_csv(file_path)\n",
    "\n",
    "# 定义一个函数来解析mutation信息\n",
    "def parse_mutation(mutation):\n",
    "    # 提取突变前的氨基酸，链ID，位置，突变后的氨基酸\n",
    "    original_residue = mutation[0]  # 第一个字符为突变前的氨基酸\n",
    "    chain_id = mutation[1]  # 第二个字符为链ID\n",
    "    position = ''.join(filter(str.isdigit, mutation))  # 提取数字部分\n",
    "    mutated_residue = mutation[-1]  # 最后一个字符为突变后的氨基酸\n",
    "    \n",
    "    # 返回 FoldX 所需的格式：链ID + 位置 + 突变后氨基酸\n",
    "    return f\"{chain_id}{position}{mutated_residue}\"\n",
    "\n",
    "# 创建一个新列 'parsed_mutation'，存储解析后的突变格式\n",
    "df['parsed_mutation'] = df['mutation'].apply(parse_mutation)\n",
    "\n",
    "# 查看解析后的数据\n",
    "print(df[['pdbcode', 'mutation', 'parsed_mutation']])\n",
    "\n",
    "# 现在可以保存或使用 parsed_mutation 列进行 FoldX 计算\n",
    "output_file = './parsed_mutations.csv'\n",
    "df.to_csv(output_file, index=False)\n",
    "\n",
    "print(f\"Processed data saved to {output_file}\")\n"
   ]
  }
 ],
 "metadata": {
  "kernelspec": {
   "display_name": "DDAffinity",
   "language": "python",
   "name": "python3"
  },
  "language_info": {
   "codemirror_mode": {
    "name": "ipython",
    "version": 3
   },
   "file_extension": ".py",
   "mimetype": "text/x-python",
   "name": "python",
   "nbconvert_exporter": "python",
   "pygments_lexer": "ipython3",
   "version": "3.10.14"
  }
 },
 "nbformat": 4,
 "nbformat_minor": 2
}
