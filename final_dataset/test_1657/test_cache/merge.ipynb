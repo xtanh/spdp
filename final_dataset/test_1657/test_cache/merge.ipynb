{
 "cells": [
  {
   "cell_type": "code",
   "execution_count": 29,
   "metadata": {},
   "outputs": [
    {
     "name": "stdout",
     "output_type": "stream",
     "text": [
      "RMSE: 3.273950512974528\n",
      "PCC: -0.1309816557475441\n"
     ]
    }
   ],
   "source": [
    "import pandas as pd\n",
    "from sklearn.metrics import mean_squared_error\n",
    "import numpy as np\n",
    "from scipy.stats import pearsonr\n",
    "\n",
    "# 读取CSV文件\n",
    "test_final = pd.read_csv('/home/hongtan/pretrain_single/final_dataset/test_1657/test_final.csv')\n",
    "test_foldx = pd.read_csv('/home/hongtan/pretrain_single/final_dataset/test_1657/test_foldx.csv')\n",
    "test_foldx['pdbcode'] = test_foldx['pdbcode'].str.upper()\n",
    "\n",
    "# 将两个数据表按 'pdbcode' 和 'mutation' 列合并\n",
    "merged_df = pd.merge(test_final, test_foldx, on=['pdbcode', 'mutation'])\n",
    "\n",
    "# 提取真实的ddG值和计算的ddG值\n",
    "true_ddg = merged_df['ddg']\n",
    "calculated_ddg = merged_df['calculated_ddg']\n",
    "\n",
    "# 计算RMSE\n",
    "rmse = np.sqrt(mean_squared_error(true_ddg, calculated_ddg))\n",
    "\n",
    "# 计算PCC (皮尔逊相关系数)\n",
    "pcc, _ = pearsonr(true_ddg, calculated_ddg)\n",
    "\n",
    "# 输出结果\n",
    "print(f\"RMSE: {rmse}\")\n",
    "print(f\"PCC: {pcc}\")\n"
   ]
  },
  {
   "cell_type": "code",
   "execution_count": null,
   "metadata": {},
   "outputs": [],
   "source": [
    "test_foldx.to_csv('./cal.csv',index=False)\n"
   ]
  }
 ],
 "metadata": {
  "kernelspec": {
   "display_name": "DDAffinity",
   "language": "python",
   "name": "python3"
  },
  "language_info": {
   "codemirror_mode": {
    "name": "ipython",
    "version": 3
   },
   "file_extension": ".py",
   "mimetype": "text/x-python",
   "name": "python",
   "nbconvert_exporter": "python",
   "pygments_lexer": "ipython3",
   "version": "3.10.14"
  }
 },
 "nbformat": 4,
 "nbformat_minor": 2
}
